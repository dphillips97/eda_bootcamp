{
 "cells": [
  {
   "cell_type": "markdown",
   "metadata": {},
   "source": [
    "Before you turn this problem in, make sure everything runs as expected. First, **restart the kernel** (in the menubar, select Kernel$\\rightarrow$Restart) and then **run all cells** (in the menubar, select Cell$\\rightarrow$Run All).\n",
    "\n",
    "Make sure you fill in any place that says `YOUR CODE HERE` or \"YOUR ANSWER HERE\", as well as your name and collaborators below:"
   ]
  },
  {
   "cell_type": "code",
   "execution_count": 1,
   "metadata": {},
   "outputs": [],
   "source": [
    "NAME = \"Drew Phillips\"\n",
    "COLLABORATORS = \"\""
   ]
  },
  {
   "cell_type": "markdown",
   "metadata": {},
   "source": [
    "---"
   ]
  },
  {
   "cell_type": "markdown",
   "metadata": {
    "deletable": false,
    "editable": false,
    "nbgrader": {
     "cell_type": "markdown",
     "checksum": "8115d981c69746150727eb6228c8d5a7",
     "grade": false,
     "grade_id": "header-logo",
     "locked": true,
     "schema_version": 3,
     "solution": false
    }
   },
   "source": [
    "<img style=\"float: left;\" src=\"earth-lab-logo-rgb.png\" width=\"150\" height=\"150\" />\n",
    "\n",
    "# Earth Analytics Education"
   ]
  },
  {
   "cell_type": "markdown",
   "metadata": {
    "deletable": false,
    "editable": false,
    "nbgrader": {
     "cell_type": "markdown",
     "checksum": "41d7d158f723e19755fc661c3ce864b0",
     "grade": false,
     "grade_id": "hw-instructions",
     "locked": true,
     "schema_version": 3,
     "solution": false
    }
   },
   "source": [
    "# Week 6 Homework Template\n",
    "\n",
    "To complete assignment 6, be sure you have reviewed the entire Chapter 14 (pgs 1-4) in Section 6 of the <a href=\"https://www.earthdatascience.org/courses/intro-to-earth-data-science/\" target=\"_blank\">Intro to Earth Data Science online textbook</a> online textbook, which covers working with numpy arrays, including running calculations and summary statistics and slicing (i.e. data selection).   \n",
    "\n",
    "Read the instructions for each question carefully to successfully complete the required tasks.\n",
    "\n",
    "**Request for the autograding tool that we are building:** please do not rename the notebook file. We are working on the tool to allow renamed notebooks, but for now, please leave the notebook name as `ea-bootcamp-06-work-numpy-arrays.ipynb`.\n",
    "\n",
    "\n",
    "## Adherence to PEP 8 \n",
    "\n",
    "Be sure to use clear and succinct names for variables, etc, and to organize your code to support readability.\n",
    "\n",
    "You will also be graded on adherence to PEP 8 standards including length of code lines and the appropriate use of comments and white space.\n",
    "\n",
    "Thus, be sure to add comments throughout your code (note that there are no pre-populated comments in this notebook), and use the `autopep8` tool to help you implement some of the PEP 8 standards. \n",
    "\n",
    "You can review the <a href=\"https://www.earthdatascience.org/courses/intro-to-earth-data-science/write-clean-expressive-code/intro-to-clean-code/python-pep-8-style-guide/\" target=\"_blank\">online textbook page on PEP 8 </a> as needed.\n",
    "\n",
    "\n",
    "## Assignment Data\n",
    "\n",
    "For this assignment, you will write **Python** code to download and work with average monthly precipitation in 1998-2017 for Boulder, CO <a href=\"https://www.esrl.noaa.gov/psd/boulder/Boulder.mm.precip.html\" target=\"_blank\">U.S. National Oceanic and Atmospheric Administration (NOAA)</a>.\n",
    "\n",
    "Note that the data file you will download and use in this assignment has **units in millimeters (mm), not inches.**"
   ]
  },
  {
   "cell_type": "code",
   "execution_count": 2,
   "metadata": {
    "deletable": false,
    "editable": false,
    "nbgrader": {
     "cell_type": "code",
     "checksum": "9406b5deaded509d2159b7ec9d14fa69",
     "grade": false,
     "grade_id": "core-imports",
     "locked": true,
     "schema_version": 3,
     "solution": false
    }
   },
   "outputs": [],
   "source": [
    "# Core imports needed for grading\n",
    "import matplotcheck.notebook as nb\n",
    "import matplotcheck.timeseries as ts"
   ]
  },
  {
   "cell_type": "markdown",
   "metadata": {
    "deletable": false,
    "editable": false,
    "nbgrader": {
     "cell_type": "markdown",
     "checksum": "726efac6988af3ba895e4d2ea593eb50",
     "grade": false,
     "grade_id": "question-student-imports",
     "locked": true,
     "schema_version": 3,
     "solution": false
    }
   },
   "source": [
    "## Import Python Packages\n",
    "\n",
    "In the cell below, add code **after the line for `Your Code Here`**, replacing `raise NotImplementedError()` with your code to import the package/module needed to:\n",
    "* create plots \n",
    "* set your working directory\n",
    "* download data using earthpy functions\n",
    "* work with numpy arrays\n",
    "\n",
    "Be sure to list the package imports following the appropriate PEP 8 order. "
   ]
  },
  {
   "cell_type": "code",
   "execution_count": 3,
   "metadata": {
    "deletable": false,
    "nbgrader": {
     "cell_type": "code",
     "checksum": "f658f00ad7d67f29b740df4ef38dfa53",
     "grade": true,
     "grade_id": "student-imports-answer",
     "locked": false,
     "points": 4,
     "schema_version": 3,
     "solution": true
    }
   },
   "outputs": [],
   "source": [
    "import os\n",
    "import matplotlib.pyplot as plt\n",
    "import numpy as np\n",
    "import earthpy as et"
   ]
  },
  {
   "cell_type": "markdown",
   "metadata": {
    "deletable": false,
    "editable": false,
    "nbgrader": {
     "cell_type": "markdown",
     "checksum": "13d59586cb518679e35ba44fdb0b9ece",
     "grade": false,
     "grade_id": "question-calc-variables",
     "locked": true,
     "schema_version": 3,
     "solution": false,
     "task": false
    }
   },
   "source": [
    "## Download Data Using EarthPy\n",
    "\n",
    "In the cell below, add code **after the line for `Your Code Here`**, replacing `raise NotImplementedError()` with your code, to complete the following task:\n",
    "\n",
    "* Download the following datasets: \n",
    "    * months.txt from https://ndownloader.figshare.com/files/12565619\n",
    "        * This .txt file contains abbreviated month names as text strings.\n",
    "        * Note: The function will skip the download, if the file already exists on the computer.\n",
    "    * monthly-precip-mm-1998-to-2017.csv from https://ndownloader.figshare.com/files/12799931\n",
    "        * This .csv file contains average monthly precipitation (millimeters) in 1998 to 2017 for Boulder, Colorado."
   ]
  },
  {
   "cell_type": "code",
   "execution_count": 4,
   "metadata": {
    "deletable": false,
    "nbgrader": {
     "cell_type": "code",
     "checksum": "a96550398b8892be3d9612878f0a6f53",
     "grade": true,
     "grade_id": "student-calc-variables-answer",
     "locked": false,
     "points": 6,
     "schema_version": 3,
     "solution": true,
     "task": false
    }
   },
   "outputs": [
    {
     "data": {
      "text/plain": [
       "'C:\\\\Users\\\\dphil\\\\earth-analytics\\\\data\\\\earthpy-downloads\\\\monthly-precip-mm-1998-to-2017.csv'"
      ]
     },
     "execution_count": 4,
     "metadata": {},
     "output_type": "execute_result"
    }
   ],
   "source": [
    "# Download both data sets using et\n",
    "# Returns paths to the downloaded file\n",
    "et.data.get_data(url=\"https://ndownloader.figshare.com/files/12565619\")\n",
    "et.data.get_data(url=\"https://ndownloader.figshare.com/files/12799931\")"
   ]
  },
  {
   "cell_type": "markdown",
   "metadata": {
    "deletable": false,
    "editable": false,
    "nbgrader": {
     "cell_type": "markdown",
     "checksum": "af3bcdc11c5e9b724a50c87c74861adf",
     "grade": false,
     "grade_id": "question-create-mean-fire-size",
     "locked": true,
     "schema_version": 3,
     "solution": false,
     "task": false
    }
   },
   "source": [
    "## Set Your Working Directory\n",
    "\n",
    "In the cell below, add code **after the line for `Your Code Here`**, replacing `raise NotImplementedError()` with your code, to set your working directory to **your `earth-analytics` directory in your home directory**.\n",
    "\n",
    "Be sure to use the appropriate functions that will allow your code to run successfully on any operating system."
   ]
  },
  {
   "cell_type": "code",
   "execution_count": 5,
   "metadata": {
    "deletable": false,
    "nbgrader": {
     "cell_type": "code",
     "checksum": "cfbae4b181fcd61c27e74b7403ae80d6",
     "grade": true,
     "grade_id": "student-create-list-mean-fire-size-answer",
     "locked": false,
     "points": 6,
     "schema_version": 3,
     "solution": true,
     "task": false
    }
   },
   "outputs": [
    {
     "data": {
      "text/plain": [
       "'C:\\\\Users\\\\dphil\\\\earth-analytics'"
      ]
     },
     "execution_count": 5,
     "metadata": {},
     "output_type": "execute_result"
    }
   ],
   "source": [
    "# Use os to concat directories across all OS\n",
    "os.chdir(os.path.join(et.io.HOME, \"earth-analytics\"))\n",
    "\n",
    "# Check working directory\n",
    "os.getcwd()"
   ]
  },
  {
   "cell_type": "markdown",
   "metadata": {
    "deletable": false,
    "editable": false,
    "nbgrader": {
     "cell_type": "markdown",
     "checksum": "1a494c53d9d52aa836e1d6691c5e5c7b",
     "grade": false,
     "grade_id": "question-check-path",
     "locked": true,
     "schema_version": 3,
     "solution": false,
     "task": false
    }
   },
   "source": [
    "## Check Path\n",
    "\n",
    "In the cell below, add code **after the line for `Your Code Here`**, replacing `raise NotImplementedError()` with your code, to complete the following tasks:\n",
    "\n",
    "1. Define a **relative path to monthly-precip-mm-1998-to-2017.csv**.\n",
    "    * Note: the path should be relative to the working directory that you set in the previous cell.\n",
    "2. Check that the path exists (i.e. receive a response of True from the appropriate function).\n",
    "\n",
    "Be sure to use the appropriate functions that will allow your code to run successfully on any operating system."
   ]
  },
  {
   "cell_type": "code",
   "execution_count": 6,
   "metadata": {
    "deletable": false,
    "nbgrader": {
     "cell_type": "code",
     "checksum": "9f6cc1aab8a6a8d83e45d2492680557a",
     "grade": true,
     "grade_id": "student-check-path-answer",
     "locked": false,
     "points": 4,
     "schema_version": 3,
     "solution": true,
     "task": false
    }
   },
   "outputs": [
    {
     "data": {
      "text/plain": [
       "True"
      ]
     },
     "execution_count": 6,
     "metadata": {},
     "output_type": "execute_result"
    }
   ],
   "source": [
    "# Define path\n",
    "precip_path = os.path.join(\"data\", \"earthpy-downloads\", \"monthly-precip-mm-1998-to-2017.csv\")\n",
    "\n",
    "# Check that path exists\n",
    "os.path.exists(precip_path)"
   ]
  },
  {
   "cell_type": "code",
   "execution_count": 7,
   "metadata": {},
   "outputs": [
    {
     "data": {
      "text/plain": [
       "True"
      ]
     },
     "execution_count": 7,
     "metadata": {},
     "output_type": "execute_result"
    }
   ],
   "source": [
    "# Do the same for the months text\n",
    "months_path = os.path.join(\"data\", \"earthpy-downloads\", \"months.txt\")\n",
    "os.path.exists(months_path)"
   ]
  },
  {
   "cell_type": "markdown",
   "metadata": {
    "deletable": false,
    "editable": false,
    "nbgrader": {
     "cell_type": "markdown",
     "checksum": "2ee9a6776ea8a4867d37971fc1eee0b5",
     "grade": false,
     "grade_id": "question-create-list-number-fires",
     "locked": true,
     "schema_version": 3,
     "solution": false,
     "task": false
    }
   },
   "source": [
    "## Import Data Into Numpy Arrays\n",
    "\n",
    "In the cell below, add your code **after the line for `Your Code Here`**, replacing `raise NotImplementedError()` with your code, to import the downloaded text data files into individual numpy arrays using **relative paths**. \n",
    "\n",
    "Your code should create two individual numpy arrays: one for month names and one for the average monthly precipitation data. \n",
    "\n",
    "Be sure to use the appropriate functions that will allow your code to run successfully on any operating system."
   ]
  },
  {
   "cell_type": "code",
   "execution_count": 8,
   "metadata": {
    "deletable": false,
    "nbgrader": {
     "cell_type": "code",
     "checksum": "827effb4acf7dd98582bc674c4e70921",
     "grade": true,
     "grade_id": "student-create-list-number-fires-answer",
     "locked": false,
     "points": 10,
     "schema_version": 3,
     "solution": true,
     "task": false
    }
   },
   "outputs": [],
   "source": [
    "# Load text into numpy from path defined above\n",
    "precip = np.loadtxt(precip_path, delimiter=\",\")\n",
    "\n",
    "# Create months array with dtype as \"str\"\n",
    "# since numpy loads txt as string\n",
    "months = np.loadtxt(months_path, dtype=\"str\")"
   ]
  },
  {
   "cell_type": "markdown",
   "metadata": {
    "deletable": false,
    "editable": false,
    "nbgrader": {
     "cell_type": "markdown",
     "checksum": "9446b7bf1eabbb7d02955609cac58f66",
     "grade": false,
     "grade_id": "question-check-shape",
     "locked": true,
     "schema_version": 3,
     "solution": false,
     "task": false
    }
   },
   "source": [
    "## Check Shape of Numpy Array\n",
    "\n",
    "In the cell below, add code **after the line for `Your Code Here`**, replacing `raise NotImplementedError()` with your code, to check the shape of the numpy array containing the average monthly precipitation data. "
   ]
  },
  {
   "cell_type": "code",
   "execution_count": 9,
   "metadata": {
    "deletable": false,
    "nbgrader": {
     "cell_type": "code",
     "checksum": "906b1c6240d0f549acb940f14031f399",
     "grade": true,
     "grade_id": "student-check-shape-answer",
     "locked": false,
     "points": 3,
     "schema_version": 3,
     "solution": true,
     "task": false
    }
   },
   "outputs": [
    {
     "name": "stdout",
     "output_type": "stream",
     "text": [
      "(20, 12)\n"
     ]
    }
   ],
   "source": [
    "# Check dimensions of array\n",
    "print(precip.shape)\n",
    "\n",
    "# 20 rows (years), 12 columns (months)"
   ]
  },
  {
   "cell_type": "markdown",
   "metadata": {
    "deletable": false,
    "editable": false,
    "nbgrader": {
     "cell_type": "markdown",
     "checksum": "cbc53dbf03c557dab9cd5919cc27a017",
     "grade": false,
     "grade_id": "question-run-sum-stats",
     "locked": true,
     "schema_version": 3,
     "solution": false,
     "task": false
    }
   },
   "source": [
    "## Run Summary Statistics on Numpy Array\n",
    "\n",
    "In the cell below, add code **after the line for `Your Code Here`**, replacing `raise NotImplementedError()` with your code, to complete the following tasks:\n",
    "\n",
    "* Calculate the mean of the precipitation values for each year (i.e. across all months in each year).\n",
    "    * Print the shape of the result. "
   ]
  },
  {
   "cell_type": "code",
   "execution_count": 10,
   "metadata": {
    "deletable": false,
    "nbgrader": {
     "cell_type": "code",
     "checksum": "f0ca424918025a83074db895aa953a31",
     "grade": true,
     "grade_id": "student-run-sum-stats-answer",
     "locked": false,
     "points": 6,
     "schema_version": 3,
     "solution": true,
     "task": false
    }
   },
   "outputs": [
    {
     "name": "stdout",
     "output_type": "stream",
     "text": [
      "(20,)\n"
     ]
    }
   ],
   "source": [
    "# Find mean per year, set axis = 1 meaning \n",
    "# we want to find average across years (rows)\n",
    "precip_mean_year = np.mean(precip, axis=1)\n",
    "\n",
    "# Find shape of array, should have same \n",
    "# number of rows as original (20)\n",
    "print(precip_mean_year.shape)"
   ]
  },
  {
   "cell_type": "markdown",
   "metadata": {
    "deletable": false,
    "editable": false,
    "nbgrader": {
     "cell_type": "markdown",
     "checksum": "0d62ddc9a8a4bcdc95da2a997ffafc7f",
     "grade": false,
     "grade_id": "question-save-stats",
     "locked": true,
     "schema_version": 3,
     "solution": false,
     "task": false
    }
   },
   "source": [
    "## Save Summary Statistics to New Numpy Array\n",
    "\n",
    "In the cell below, add code **after the line for `Your Code Here`**, replacing `raise NotImplementedError()` with your code, to complete the following tasks:\n",
    "\n",
    "* Calculate the median of the precipitation values for each month (i.e. across all years of data) and save the result to a new **numpy** array. \n",
    "* Calculate the mean of the precipitation values for each month (i.e. across all years of data) and save the result to a new **numpy** array. \n",
    "* **Print the shape of the mean numpy array**.\n"
   ]
  },
  {
   "cell_type": "code",
   "execution_count": 11,
   "metadata": {
    "deletable": false,
    "nbgrader": {
     "cell_type": "code",
     "checksum": "091372c6790d1bda39e974aed3146385",
     "grade": true,
     "grade_id": "student-save-stats-answer",
     "locked": false,
     "points": 12,
     "schema_version": 3,
     "solution": true,
     "task": false
    }
   },
   "outputs": [
    {
     "name": "stdout",
     "output_type": "stream",
     "text": [
      "(12,)\n"
     ]
    }
   ],
   "source": [
    "# Find median precip value\n",
    "precip_median = np.median(precip, axis=0)\n",
    "\n",
    "# Find mean per month so axis = 0 \n",
    "# to find mean across columns (months)\n",
    "precip_mean_month = np.mean(precip, axis=0)\n",
    "\n",
    "# Print shape of mean array\n",
    "# Should be 12 (1 value for each month)\n",
    "print(precip_mean_month.shape)"
   ]
  },
  {
   "cell_type": "markdown",
   "metadata": {
    "deletable": false,
    "editable": false,
    "nbgrader": {
     "cell_type": "markdown",
     "checksum": "ff08a9fdb5ffd204f074d5bbf220fcfe",
     "grade": false,
     "grade_id": "question-run-calc-array",
     "locked": true,
     "schema_version": 3,
     "solution": false,
     "task": false
    }
   },
   "source": [
    "## Run Calculations on Numpy Arrays\n",
    "\n",
    "In the cell below, add code **after the line for `Your Code Here`**, replacing `raise NotImplementedError()` with your code, to complete the following tasks:\n",
    "\n",
    "* Convert the values in both **numpy** arrays from the previous cell (i.e. the median and mean of the precipitation values for each month) **from millimeters to inches** (1 inch = 25.4 millimeters). \n",
    "    * Use the appropriate **assignment operator** to convert both arrays. Think about which mathematical operation (e.g. `+`, `*`) you need to run this calculation. \n",
    "* Print the results for both arrays (i.e. the arrays with values converted to inches).     "
   ]
  },
  {
   "cell_type": "code",
   "execution_count": 12,
   "metadata": {
    "deletable": false,
    "nbgrader": {
     "cell_type": "code",
     "checksum": "1ce1bb882a28e2731782edd5f4b06b59",
     "grade": true,
     "grade_id": "student-run-calc-array-answer",
     "locked": false,
     "points": 8,
     "schema_version": 3,
     "solution": true,
     "task": false
    }
   },
   "outputs": [
    {
     "name": "stdout",
     "output_type": "stream",
     "text": [
      "[0.635 0.795 1.655 3.085 2.64  1.44  1.925 1.42  1.805 1.41  0.79  0.875]\n",
      "[0.752  0.987  1.905  3.199  3.0485 1.645  2.0335 1.6595 2.304  1.6965\n",
      " 0.817  0.9925]\n"
     ]
    }
   ],
   "source": [
    "# Convert precip_median values to mm\n",
    "precip_median *= (1/25.4)\n",
    "print(precip_median)\n",
    "\n",
    "# Convert precip_mean_month to mm\n",
    "precip_mean_month *= (1/25.4)\n",
    "print(precip_mean_month)"
   ]
  },
  {
   "cell_type": "markdown",
   "metadata": {
    "deletable": false,
    "editable": false,
    "nbgrader": {
     "cell_type": "markdown",
     "checksum": "e43347904360569eb961a0bc95543044",
     "grade": false,
     "grade_id": "question-plot",
     "locked": true,
     "schema_version": 3,
     "solution": false
    }
   },
   "source": [
    "## Create Multi-plot Figure From Arrays\n",
    "\n",
    "In the cell below, add code **after the line for `Your Code Here`**, replacing `raise NotImplementedError()` with your code, to complete the following tasks:\n",
    "\n",
    "* Create one multi-plot figure that contains two subplots that are **side by side**:\n",
    "    * left plot: median of the precipitation values for each month in inches\n",
    "    * right plot: mean of the precipitation values for each month in inches\n",
    "* **Use a different color for each plot but you can use the same style if you like.** \n",
    "    * For each plot, be sure to include appropriate titles and axes labels including units of measurement where appropriate. \n",
    "* Add an overall title for the entire figure. \n",
    "\n",
    "For your titles and labels, be sure to think about the following pieces of information that could help someone easily interpret the plot:\n",
    "* geographic coverage or extent of data.\n",
    "* duration or temporal extent of the data.\n",
    "* what was actually measured and/or represented by the data.\n",
    "* units of measurement.\n",
    "\n",
    "**Request for the autograding tool that we are building:** please comment out the code line `plt.show()` in your plot code like this: `# plt.show()`. If you do not comment out that code line, you may see an extra empty plot underneath your desired figure. "
   ]
  },
  {
   "cell_type": "code",
   "execution_count": 13,
   "metadata": {
    "deletable": false,
    "nbgrader": {
     "cell_type": "code",
     "checksum": "200bfd6aa0f437611b281dc690e63a4e",
     "grade": false,
     "grade_id": "student-create-plot-1-answer",
     "locked": false,
     "schema_version": 3,
     "solution": true,
     "task": false
    }
   },
   "outputs": [
    {
     "data": {
      "image/png": "[encoded data removed]",
      "text/plain": [
       "<Figure size 864x576 with 2 Axes>"
      ]
     },
     "metadata": {
      "needs_background": "light"
     },
     "output_type": "display_data"
    }
   ],
   "source": [
    "fig, (ax1, ax2) = plt.subplots(1,2, figsize=(12,8))\n",
    "\n",
    "fig.suptitle(\"Monthly Precipitation in Boulder, CO from 1998 to 2017\")\n",
    "# Show and set variables for plot on left\n",
    "ax1.bar(months, precip_median, color=\"lightblue\", edgecolor=\"black\")\n",
    "ax1.set(title=\"Median\",\n",
    "       xlabel=\"Month\",\n",
    "       ylabel=\"Inches\")\n",
    "\n",
    "# Do the same for other plot\n",
    "ax2.bar(months, precip_mean_month, edgecolor=\"black\")\n",
    "ax2.set(title=\"Mean\",\n",
    "       xlabel=\"Month\",\n",
    "       ylabel=\"Inches\")\n",
    "\n",
    "### DO NOT REMOVE LINE BELOW ###\n",
    "ts_1_plot = nb.convert_axes(plt, which_axes=\"all\")"
   ]
  },
  {
   "cell_type": "markdown",
   "metadata": {
    "deletable": false,
    "editable": false,
    "nbgrader": {
     "cell_type": "markdown",
     "checksum": "b04e233d1ecd7b1a4b2cb5bf44748d0d",
     "grade": false,
     "grade_id": "question-explain-plot",
     "locked": true,
     "schema_version": 3,
     "solution": false
    }
   },
   "source": [
    "## Explain Your Plot\n",
    "\n",
    "In the Markdown cell below, answer the following questions about your plot using any kind of Markdown list.\n",
    "\n",
    "1. Which month has a notable difference between the median and mean values of the precipitation data? \n",
    "    * Thinking about the difference between how <a href=\"https://www.earthdatascience.org/courses/intro-to-earth-data-science/scientific-data-structures-python/numpy-arrays/run-calculations-summary-statistics-numpy-arrays/#calculate-mean-and-median\" target=\"_blank\">means and medians are calculated</a>, what could be the cause of the difference between these two values in that particular month?\n",
    "\n",
    "2. The plot instructions ask you to create two individual plots for the mean and median of the average precipitation values for each month. \n",
    "    * How else could this data be presented in a way that would allow for clearer comparison between the two datasets? \n",
    "    * What have you not learned yet in this course that would help you present the data differently?\n",
    "\n",
    "Remove any existing text in the cell before adding your answer."
   ]
  },
  {
   "cell_type": "markdown",
   "metadata": {
    "deletable": false,
    "nbgrader": {
     "cell_type": "markdown",
     "checksum": "02a64560de440555d0a273b30ebf52da",
     "grade": true,
     "grade_id": "student-explain-plot-answer",
     "locked": false,
     "points": 6,
     "schema_version": 3,
     "solution": true
    }
   },
   "source": [
    "1. Sept. has a significant difference between median and mean precipitation values. The precipitation data for Septembers might not be evenly distributed. It may contain outliers which influence the mean more than the median. \n",
    "2. This data could be presented in a single chart to facilitate comparison. To keep the 2 series visually distinct,  one series could be shown as a line and the other series shown as a bar.\n",
    " - This would require multiple data series shown on a single plot - I've heard these referred to as \"3-axis plots\" but have not learned how to show them on a single plot using python."
   ]
  },
  {
   "cell_type": "markdown",
   "metadata": {
    "deletable": false,
    "editable": false,
    "nbgrader": {
     "cell_type": "markdown",
     "checksum": "31671ea8cf99368c8d50bf92aaf8d22e",
     "grade": false,
     "grade_id": "question-explain-pep-8",
     "locked": true,
     "schema_version": 3,
     "solution": false,
     "task": false
    }
   },
   "source": [
    "## Discuss Your Workflow\n",
    "\n",
    "In the Markdown cell below, answer the following questions using any kind of Markdown list.\n",
    "\n",
    "1. This notebook asks you to summarize the arrays first, before running the calculation to convert the precipitation values from millimeters to inches. \n",
    "    * In what situations might this order beneficial to your workflow?\n",
    "    * In what situations might you want to change the order of these steps (i.e. convert first)? \n",
    "\n",
    "2. You already had the months.txt file from a previous assignment. \n",
    "    * Thinking about reproducibility and collaboration, why do you think this notebook asks you to include the code to download it?  \n",
    "\n",
    "3. Explain how checking the shape of each of these arrays helps you to understand how the data were summarized in that array:\n",
    "    * mean of the precipitation values for each year (i.e. across all months in each year).\n",
    "    * mean of the precipitation values for each month (i.e. across all years of data).\n",
    "\n",
    "Remove any existing text in the cell before adding your answer."
   ]
  },
  {
   "cell_type": "markdown",
   "metadata": {
    "deletable": false,
    "nbgrader": {
     "cell_type": "markdown",
     "checksum": "4482ec21020b5e4d76a6c72b30554792",
     "grade": true,
     "grade_id": "student-explain-pep-8",
     "locked": false,
     "points": 9,
     "schema_version": 3,
     "solution": true,
     "task": false
    }
   },
   "source": [
    "1. In this excercise we're mainly concerned with displaying the data rather than using values in detailed calculations, so converting the data to different units does not need to be the first step. In fact, converting shorter arrays (after the mean and median are calculated) is more efficient than doing so on the original arrays. If processing time were a concern (like as a web backend or if we had way more data) this method is best. However, if we were doing a more detailed analysis or a comparison across datasets we would want consistent units and so would probably do the calculation as a first step.\n",
    "2. We can't assume that a collaborator has the same data already downloaded. Adding this step ensures that all collaborators have the downloaded data at the same location and can more easily run this notebook. Plus, the data isn't re-downloaded using earthpy unless the parameter \"replace=True\" is set.\n",
    "3. I can never remember which axis 0 or 1 is referring to in these parameter settings. Checking the shape allows me to verfy that I chose the correct axis value. For the mean of each year I would expect 20 values, 1 for each year. For the mean of each month I would expect 12 values, 1 for each month."
   ]
  },
  {
   "cell_type": "code",
   "execution_count": 14,
   "metadata": {},
   "outputs": [
    {
     "data": {
      "text/plain": [
       "array([12.11145939, 19.87768688, 32.04796623, 45.79965134, 43.69820865,\n",
       "       25.34933998, 36.29634893, 30.97191002, 95.05867793, 23.04933143,\n",
       "       12.20551272, 17.95869365])"
      ]
     },
     "execution_count": 14,
     "metadata": {},
     "output_type": "execute_result"
    }
   ],
   "source": [
    "\"\"\"This line is a first step\n",
    "to determine if there was \n",
    "a relationship between mean-median \n",
    "and the standard deviation. Sep had\n",
    "the largest stdev\"\"\"\n",
    "precip.std(axis=0)"
   ]
  },
  {
   "cell_type": "code",
   "execution_count": null,
   "metadata": {
    "deletable": false,
    "editable": false,
    "nbgrader": {
     "cell_type": "code",
     "checksum": "af7c9acfde609e04e2eeda6d69bc3ab5",
     "grade": true,
     "grade_id": "hidden-plot-tests",
     "locked": true,
     "points": 16,
     "schema_version": 3,
     "solution": false
    }
   },
   "outputs": [],
   "source": []
  }
 ],
 "metadata": {
  "kernelspec": {
   "display_name": "Python 3",
   "language": "python",
   "name": "python3"
  },
  "language_info": {
   "codemirror_mode": {
    "name": "ipython",
    "version": 3
   },
   "file_extension": ".py",
   "mimetype": "text/x-python",
   "name": "python",
   "nbconvert_exporter": "python",
   "pygments_lexer": "ipython3",
   "version": "3.7.3"
  },
  "varInspector": {
   "cols": {
    "lenName": 16,
    "lenType": 16,
    "lenVar": 40
   },
   "kernels_config": {
    "python": {
     "delete_cmd_postfix": "",
     "delete_cmd_prefix": "del ",
     "library": "var_list.py",
     "varRefreshCmd": "print(var_dic_list())"
    },
    "r": {
     "delete_cmd_postfix": ") ",
     "delete_cmd_prefix": "rm(",
     "library": "var_list.r",
     "varRefreshCmd": "cat(var_dic_list()) "
    }
   },
   "types_to_exclude": [
    "module",
    "function",
    "builtin_function_or_method",
    "instance",
    "_Feature"
   ],
   "window_display": false
  }
 },
 "nbformat": 4,
 "nbformat_minor": 2
}
