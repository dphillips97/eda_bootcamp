{
 "cells": [
  {
   "cell_type": "markdown",
   "metadata": {},
   "source": [
    "Before you turn this problem in, make sure everything runs as expected. First, **restart the kernel** (in the menubar, select Kernel$\\rightarrow$Restart) and then **run all cells** (in the menubar, select Cell$\\rightarrow$Run All).\n",
    "\n",
    "Make sure you fill in any place that says `YOUR CODE HERE` or \"YOUR ANSWER HERE\", as well as your name and collaborators below:"
   ]
  },
  {
   "cell_type": "code",
   "execution_count": 1,
   "metadata": {},
   "outputs": [],
   "source": [
    "NAME = \"Drew Phillips\"\n",
    "COLLABORATORS = \"\""
   ]
  },
  {
   "cell_type": "markdown",
   "metadata": {},
   "source": [
    "---"
   ]
  },
  {
   "cell_type": "markdown",
   "metadata": {
    "deletable": false,
    "editable": false,
    "nbgrader": {
     "cell_type": "markdown",
     "checksum": "8115d981c69746150727eb6228c8d5a7",
     "grade": false,
     "grade_id": "header-logo",
     "locked": true,
     "schema_version": 3,
     "solution": false
    }
   },
   "source": [
    "<img style=\"float: left;\" src=\"earth-lab-logo-rgb.png\" width=\"150\" height=\"150\" />\n",
    "\n",
    "# Earth Analytics Education"
   ]
  },
  {
   "cell_type": "markdown",
   "metadata": {
    "deletable": false,
    "editable": false,
    "nbgrader": {
     "cell_type": "markdown",
     "checksum": "f1fdb69794f311d6c02eb61b84036b1a",
     "grade": false,
     "grade_id": "hw-instructions",
     "locked": true,
     "schema_version": 3,
     "solution": false
    }
   },
   "source": [
    "# Week 7 Homework Template\n",
    "\n",
    "To complete assignment 7, be sure you have reviewed the entire Chapter 15 (pgs 1-4) in Section 6 of the <a href=\"https://www.earthdatascience.org/courses/intro-to-earth-data-science/\" target=\"_blank\">Intro to Earth Data Science online textbook</a> online textbook, which covers **pandas** dataframes.   \n",
    "\n",
    "Read the instructions for each question carefully to successfully complete the required tasks.\n",
    "\n",
    "**Request for the autograding tool that we are building:** please do not rename the notebook file. We are working on the tool to allow renamed notebooks, but for now, please leave the notebook name as `ea-bootcamp-07-pandas-dataframes.ipynb`.\n",
    "\n",
    "\n",
    "## Adherence to PEP 8 \n",
    "\n",
    "Be sure to use clear and succinct names for variables, etc, and to organize your code to support readability.\n",
    "\n",
    "You will also be graded on adherence to PEP 8 standards including length of code lines and the appropriate use of comments and white space.\n",
    "\n",
    "Thus, be sure to add comments throughout your code (note that there are no pre-populated comments in this notebook), and use the `autopep8` tool to help you implement some of the PEP 8 standards. \n",
    "\n",
    "You can review the <a href=\"https://www.earthdatascience.org/courses/intro-to-earth-data-science/write-clean-expressive-code/intro-to-clean-code/python-pep-8-style-guide/\" target=\"_blank\">online textbook page on PEP 8 </a> as needed.\n",
    "\n",
    "\n",
    "## Assignment Data\n",
    "\n",
    "For this assignment, you will write **Python** code to download and work with data on fire occurrence in California between 1992 and 2015 provided by <a href=\"https://www.fs.usda.gov/rds/archive/Product/RDS-2013-0009.4/\" target=\"_blank\">the United States Forest Service</a>."
   ]
  },
  {
   "cell_type": "code",
   "execution_count": 2,
   "metadata": {
    "deletable": false,
    "editable": false,
    "nbgrader": {
     "cell_type": "code",
     "checksum": "9406b5deaded509d2159b7ec9d14fa69",
     "grade": false,
     "grade_id": "core-imports",
     "locked": true,
     "schema_version": 3,
     "solution": false
    }
   },
   "outputs": [],
   "source": [
    "# Core imports needed for grading\n",
    "import matplotcheck.notebook as nb\n",
    "import matplotcheck.timeseries as ts"
   ]
  },
  {
   "cell_type": "markdown",
   "metadata": {
    "deletable": false,
    "editable": false,
    "nbgrader": {
     "cell_type": "markdown",
     "checksum": "a6bcbbbc67e0773fd07bc16b0e00d7e0",
     "grade": false,
     "grade_id": "question-student-imports",
     "locked": true,
     "schema_version": 3,
     "solution": false
    }
   },
   "source": [
    "## Import Python Packages\n",
    "\n",
    "In the cell below, add code **after the line for `Your Code Here`**, replacing `raise NotImplementedError()` with your code to import the packages/modules needed to:\n",
    "* create plots \n",
    "* set your working directory\n",
    "* download data using earthpy functions\n",
    "* work with pandas dataframes\n",
    "\n",
    "Be sure to list the package imports following the appropriate PEP 8 order. "
   ]
  },
  {
   "cell_type": "code",
   "execution_count": 3,
   "metadata": {
    "deletable": false,
    "nbgrader": {
     "cell_type": "code",
     "checksum": "e487e16c8f967f9098581407ce4bca96",
     "grade": true,
     "grade_id": "student-imports-answer",
     "locked": false,
     "points": 2,
     "schema_version": 3,
     "solution": true
    }
   },
   "outputs": [],
   "source": [
    "import os\n",
    "import matplotlib.pyplot as plt\n",
    "import numpy as np\n",
    "import pandas as pd\n",
    "import earthpy as et"
   ]
  },
  {
   "cell_type": "markdown",
   "metadata": {
    "deletable": false,
    "editable": false,
    "nbgrader": {
     "cell_type": "markdown",
     "checksum": "c396d48a9a65353bcc27e5b2e4368664",
     "grade": false,
     "grade_id": "question-download-data",
     "locked": true,
     "schema_version": 3,
     "solution": false,
     "task": false
    }
   },
   "source": [
    "## Download Data Using EarthPy\n",
    "\n",
    "In the cell below, add code **after the line for `Your Code Here`**, replacing `raise NotImplementedError()` with your code, to complete the following task:\n",
    "\n",
    "* Download the following dataset using **earthpy**: \n",
    "    * ca-fires-1992-2015-gt-100-acres.csv from https://ndownloader.figshare.com/files/17980802\n",
    "        * The dataset contains one record for every fire greater than 100 acres that occurred between 1992 and 2015 in California. \n",
    "        * The dataset has columns for the size of the fire (acres) and for the year and month of the fire, along with other details about the cause, reporting agency, county name, etc."
   ]
  },
  {
   "cell_type": "code",
   "execution_count": 4,
   "metadata": {
    "deletable": false,
    "nbgrader": {
     "cell_type": "code",
     "checksum": "28293ee0d3499eb3f7537a14fc86ddc5",
     "grade": true,
     "grade_id": "student-download-data-answer",
     "locked": false,
     "points": 4,
     "schema_version": 3,
     "solution": true,
     "task": false
    }
   },
   "outputs": [
    {
     "data": {
      "text/plain": [
       "'C:\\\\Users\\\\dphil\\\\earth-analytics\\\\data\\\\earthpy-downloads\\\\ca-fires-1992-2015-gt-100-acres.csv'"
      ]
     },
     "execution_count": 4,
     "metadata": {},
     "output_type": "execute_result"
    }
   ],
   "source": [
    "et.data.get_data(url=\"https://ndownloader.figshare.com/files/17980802\")"
   ]
  },
  {
   "cell_type": "markdown",
   "metadata": {
    "deletable": false,
    "editable": false,
    "nbgrader": {
     "cell_type": "markdown",
     "checksum": "8c3bc1e353ce093c7e3a9c171a534c86",
     "grade": false,
     "grade_id": "question-set-wd",
     "locked": true,
     "schema_version": 3,
     "solution": false,
     "task": false
    }
   },
   "source": [
    "## Set Your Working Directory\n",
    "\n",
    "In the cell below, add code **after the line for `Your Code Here`**, replacing `raise NotImplementedError()` with your code, to set your working directory to **your `earth-analytics` directory in your home directory**.\n",
    "\n",
    "Be sure to use the appropriate functions that will allow your code to run successfully on any operating system."
   ]
  },
  {
   "cell_type": "code",
   "execution_count": 5,
   "metadata": {
    "deletable": false,
    "nbgrader": {
     "cell_type": "code",
     "checksum": "77761ab9eb7cd07fea5367948a77ba71",
     "grade": true,
     "grade_id": "student-set-wd-answer",
     "locked": false,
     "points": 4,
     "schema_version": 3,
     "solution": true,
     "task": false
    }
   },
   "outputs": [
    {
     "data": {
      "text/plain": [
       "'C:\\\\Users\\\\dphil\\\\earth-analytics'"
      ]
     },
     "execution_count": 5,
     "metadata": {},
     "output_type": "execute_result"
    }
   ],
   "source": [
    "# Create path to correct working directory\n",
    "fpath = os.path.join(et.io.HOME, \"earth-analytics\")\n",
    "\n",
    "# Change to that path\n",
    "os.chdir(fpath)\n",
    "\n",
    "# Check that above operations worked\n",
    "os.getcwd()"
   ]
  },
  {
   "cell_type": "markdown",
   "metadata": {
    "deletable": false,
    "editable": false,
    "nbgrader": {
     "cell_type": "markdown",
     "checksum": "775982040f61c61bbfb9f4a03d8a8264",
     "grade": false,
     "grade_id": "question-check-path",
     "locked": true,
     "schema_version": 3,
     "solution": false,
     "task": false
    }
   },
   "source": [
    "## Check Path to Data File\n",
    "\n",
    "In the cell below, add code **after the line for `Your Code Here`**, replacing `raise NotImplementedError()` with your code, to complete the following tasks:\n",
    "\n",
    "1. Define a **relative path to the file downloaded using earthpy**.\n",
    "    * Note: the path should be relative to your earth-analytics directory in your home directory.\n",
    "2. Check that the path exists (i.e. receive a response of True from the appropriate function).\n",
    "\n",
    "Be sure to use the appropriate functions that will allow your code to run successfully on any operating system."
   ]
  },
  {
   "cell_type": "code",
   "execution_count": 6,
   "metadata": {
    "deletable": false,
    "nbgrader": {
     "cell_type": "code",
     "checksum": "9f6cc1aab8a6a8d83e45d2492680557a",
     "grade": true,
     "grade_id": "student-check-path-answer",
     "locked": false,
     "points": 4,
     "schema_version": 3,
     "solution": true,
     "task": false
    }
   },
   "outputs": [
    {
     "data": {
      "text/plain": [
       "True"
      ]
     },
     "execution_count": 6,
     "metadata": {},
     "output_type": "execute_result"
    }
   ],
   "source": [
    "# Define path to downloaded data\n",
    "data_path = os.path.join(fpath, \"data\", \"earthpy-downloads\", \"ca-fires-1992-2015-gt-100-acres.csv\")\n",
    "\n",
    "# Verify that path exists\n",
    "os.path.exists(data_path)"
   ]
  },
  {
   "cell_type": "markdown",
   "metadata": {
    "deletable": false,
    "editable": false,
    "nbgrader": {
     "cell_type": "markdown",
     "checksum": "493f8eae795c23c9b5f85b75a37c30a8",
     "grade": false,
     "grade_id": "question-import-data",
     "locked": true,
     "schema_version": 3,
     "solution": false,
     "task": false
    }
   },
   "source": [
    "## Import Data Into Pandas Dataframes\n",
    "\n",
    "In the cell below, add your code **after the line for `Your Code Here`**, replacing `raise NotImplementedError()` with your code, to complete the following tasks:\n",
    "1. Import the downloaded .csv file into a **pandas** dataframe using the **relative path** you defined in the previous cell. \n",
    "2. Display the **only first few records** of the dataframe. "
   ]
  },
  {
   "cell_type": "code",
   "execution_count": 7,
   "metadata": {
    "deletable": false,
    "nbgrader": {
     "cell_type": "code",
     "checksum": "669087aed270b20924f9786a9093e8e7",
     "grade": true,
     "grade_id": "student-import-data-answer",
     "locked": false,
     "points": 6,
     "schema_version": 3,
     "solution": true,
     "task": false
    }
   },
   "outputs": [
    {
     "data": {
      "text/html": [
       "<div>\n",
       "<style scoped>\n",
       "    .dataframe tbody tr th:only-of-type {\n",
       "        vertical-align: middle;\n",
       "    }\n",
       "\n",
       "    .dataframe tbody tr th {\n",
       "        vertical-align: top;\n",
       "    }\n",
       "\n",
       "    .dataframe thead th {\n",
       "        text-align: right;\n",
       "    }\n",
       "</style>\n",
       "<table border=\"1\" class=\"dataframe\">\n",
       "  <thead>\n",
       "    <tr style=\"text-align: right;\">\n",
       "      <th></th>\n",
       "      <th>fd_unq_id</th>\n",
       "      <th>source_reporting_unit_name</th>\n",
       "      <th>fire_name</th>\n",
       "      <th>year</th>\n",
       "      <th>month</th>\n",
       "      <th>month_num</th>\n",
       "      <th>cause</th>\n",
       "      <th>fire_size</th>\n",
       "      <th>fire_size_class</th>\n",
       "      <th>state</th>\n",
       "      <th>county</th>\n",
       "    </tr>\n",
       "  </thead>\n",
       "  <tbody>\n",
       "    <tr>\n",
       "      <td>0</td>\n",
       "      <td>1338131</td>\n",
       "      <td>Mendocino Unit</td>\n",
       "      <td>VANN</td>\n",
       "      <td>1992</td>\n",
       "      <td>February</td>\n",
       "      <td>2</td>\n",
       "      <td>Equipment Use</td>\n",
       "      <td>120.0</td>\n",
       "      <td>D</td>\n",
       "      <td>CA</td>\n",
       "      <td>NaN</td>\n",
       "    </tr>\n",
       "    <tr>\n",
       "      <td>1</td>\n",
       "      <td>216388</td>\n",
       "      <td>Yuma Field Office</td>\n",
       "      <td>WALTERS</td>\n",
       "      <td>1992</td>\n",
       "      <td>March</td>\n",
       "      <td>3</td>\n",
       "      <td>Debris Burning</td>\n",
       "      <td>1800.0</td>\n",
       "      <td>F</td>\n",
       "      <td>CA</td>\n",
       "      <td>NaN</td>\n",
       "    </tr>\n",
       "    <tr>\n",
       "      <td>2</td>\n",
       "      <td>218766</td>\n",
       "      <td>California Desert District</td>\n",
       "      <td>MESA</td>\n",
       "      <td>1992</td>\n",
       "      <td>April</td>\n",
       "      <td>4</td>\n",
       "      <td>Equipment Use</td>\n",
       "      <td>4200.0</td>\n",
       "      <td>F</td>\n",
       "      <td>CA</td>\n",
       "      <td>NaN</td>\n",
       "    </tr>\n",
       "    <tr>\n",
       "      <td>3</td>\n",
       "      <td>1373316</td>\n",
       "      <td>CDF - San Bernardino Unit</td>\n",
       "      <td>COLLINS</td>\n",
       "      <td>1992</td>\n",
       "      <td>April</td>\n",
       "      <td>4</td>\n",
       "      <td>Arson</td>\n",
       "      <td>125.0</td>\n",
       "      <td>D</td>\n",
       "      <td>CA</td>\n",
       "      <td>NaN</td>\n",
       "    </tr>\n",
       "    <tr>\n",
       "      <td>4</td>\n",
       "      <td>1373321</td>\n",
       "      <td>CDF - San Bernardino Unit</td>\n",
       "      <td>COVINGTON</td>\n",
       "      <td>1992</td>\n",
       "      <td>April</td>\n",
       "      <td>4</td>\n",
       "      <td>Arson</td>\n",
       "      <td>104.0</td>\n",
       "      <td>D</td>\n",
       "      <td>CA</td>\n",
       "      <td>NaN</td>\n",
       "    </tr>\n",
       "  </tbody>\n",
       "</table>\n",
       "</div>"
      ],
      "text/plain": [
       "   fd_unq_id  source_reporting_unit_name                  fire_name  year  \\\n",
       "0    1338131              Mendocino Unit  VANN                       1992   \n",
       "1     216388           Yuma Field Office                    WALTERS  1992   \n",
       "2     218766  California Desert District                       MESA  1992   \n",
       "3    1373316   CDF - San Bernardino Unit  COLLINS                    1992   \n",
       "4    1373321   CDF - San Bernardino Unit  COVINGTON                  1992   \n",
       "\n",
       "      month  month_num           cause  fire_size fire_size_class state county  \n",
       "0  February          2   Equipment Use      120.0               D    CA    NaN  \n",
       "1     March          3  Debris Burning     1800.0               F    CA    NaN  \n",
       "2     April          4   Equipment Use     4200.0               F    CA    NaN  \n",
       "3     April          4           Arson      125.0               D    CA    NaN  \n",
       "4     April          4           Arson      104.0               D    CA    NaN  "
      ]
     },
     "execution_count": 7,
     "metadata": {},
     "output_type": "execute_result"
    }
   ],
   "source": [
    "# Load data to df \n",
    "fires = pd.read_csv(data_path)\n",
    "\n",
    "# View first 5 records\n",
    "fires.head()"
   ]
  },
  {
   "cell_type": "markdown",
   "metadata": {
    "deletable": false,
    "editable": false,
    "nbgrader": {
     "cell_type": "markdown",
     "checksum": "21a1dec516c6896c7b5f07bed63bbbdf",
     "grade": false,
     "grade_id": "question-info-pd",
     "locked": true,
     "schema_version": 3,
     "solution": false,
     "task": false
    }
   },
   "source": [
    "## Get Details About Dataset\n",
    "\n",
    "In the cell below, add code **after the line for `Your Code Here`**, replacing `raise NotImplementedError()` with your code, to complete the following task:\n",
    "\n",
    "* Use the appropriate code to display general information (in particular, the number of rows and columns, column names and data types) about the dataset.\n",
    "    * Choose the code that most efficiently (i.e. with the least amount of code) accomplishes this goal. "
   ]
  },
  {
   "cell_type": "code",
   "execution_count": 8,
   "metadata": {
    "deletable": false,
    "nbgrader": {
     "cell_type": "code",
     "checksum": "39a0517a703a1baeee50ec6bd66c5788",
     "grade": true,
     "grade_id": "student-info-pd-answer",
     "locked": false,
     "points": 4,
     "schema_version": 3,
     "solution": true,
     "task": false
    }
   },
   "outputs": [
    {
     "name": "stdout",
     "output_type": "stream",
     "text": [
      "<class 'pandas.core.frame.DataFrame'>\n",
      "RangeIndex: 4101 entries, 0 to 4100\n",
      "Data columns (total 11 columns):\n",
      "fd_unq_id                     4101 non-null int64\n",
      "source_reporting_unit_name    4101 non-null object\n",
      "fire_name                     4016 non-null object\n",
      "year                          4101 non-null int64\n",
      "month                         4101 non-null object\n",
      "month_num                     4101 non-null int64\n",
      "cause                         4101 non-null object\n",
      "fire_size                     4101 non-null float64\n",
      "fire_size_class               4101 non-null object\n",
      "state                         4101 non-null object\n",
      "county                        1242 non-null object\n",
      "dtypes: float64(1), int64(3), object(7)\n",
      "memory usage: 352.6+ KB\n"
     ]
    }
   ],
   "source": [
    "# Get basic info for fires df\n",
    "fires.info()"
   ]
  },
  {
   "cell_type": "markdown",
   "metadata": {
    "deletable": false,
    "editable": false,
    "nbgrader": {
     "cell_type": "markdown",
     "checksum": "e449475412cef50b55ecf9926296c494",
     "grade": false,
     "grade_id": "question-run-calc-pandas",
     "locked": true,
     "schema_version": 3,
     "solution": false,
     "task": false
    }
   },
   "source": [
    "## Convert Units For Fire Size\n",
    "\n",
    "In the cell below, add code **after the line for `Your Code Here`**, replacing `raise NotImplementedError()` with your code, to complete the following tasks:\n",
    "\n",
    "1. Use the appropriate **assignment operator** to convert the values for **fire size from acres to hectares** (i.e. a standard international unit that represents 10,000 square meters) using the following equation: \n",
    "    * 1 hectare = 2.47105 acres \n",
    "    * Hint: Think about which mathematical operation (e.g. `+`, `*`) you need to run this calculation.\n",
    "2. After the conversion, display the **only last few records** of the dataframe. "
   ]
  },
  {
   "cell_type": "code",
   "execution_count": 9,
   "metadata": {
    "deletable": false,
    "nbgrader": {
     "cell_type": "code",
     "checksum": "795778d551f019dc6b826042c78c5a28",
     "grade": true,
     "grade_id": "student-run-calc-pandas-answer",
     "locked": false,
     "points": 6,
     "schema_version": 3,
     "solution": true,
     "task": false
    }
   },
   "outputs": [
    {
     "data": {
      "text/html": [
       "<div>\n",
       "<style scoped>\n",
       "    .dataframe tbody tr th:only-of-type {\n",
       "        vertical-align: middle;\n",
       "    }\n",
       "\n",
       "    .dataframe tbody tr th {\n",
       "        vertical-align: top;\n",
       "    }\n",
       "\n",
       "    .dataframe thead th {\n",
       "        text-align: right;\n",
       "    }\n",
       "</style>\n",
       "<table border=\"1\" class=\"dataframe\">\n",
       "  <thead>\n",
       "    <tr style=\"text-align: right;\">\n",
       "      <th></th>\n",
       "      <th>fd_unq_id</th>\n",
       "      <th>source_reporting_unit_name</th>\n",
       "      <th>fire_name</th>\n",
       "      <th>year</th>\n",
       "      <th>month</th>\n",
       "      <th>month_num</th>\n",
       "      <th>cause</th>\n",
       "      <th>fire_size</th>\n",
       "      <th>fire_size_class</th>\n",
       "      <th>state</th>\n",
       "      <th>county</th>\n",
       "    </tr>\n",
       "  </thead>\n",
       "  <tbody>\n",
       "    <tr>\n",
       "      <td>4098</td>\n",
       "      <td>300209443</td>\n",
       "      <td>Sequoia And Kings Canyon National Parks</td>\n",
       "      <td>BURNT</td>\n",
       "      <td>2015</td>\n",
       "      <td>October</td>\n",
       "      <td>10</td>\n",
       "      <td>Lightning</td>\n",
       "      <td>65.154489</td>\n",
       "      <td>D</td>\n",
       "      <td>CA</td>\n",
       "      <td>NaN</td>\n",
       "    </tr>\n",
       "    <tr>\n",
       "      <td>4099</td>\n",
       "      <td>300293910</td>\n",
       "      <td>Colorado River Agency</td>\n",
       "      <td>HIGHWAY</td>\n",
       "      <td>2015</td>\n",
       "      <td>November</td>\n",
       "      <td>11</td>\n",
       "      <td>Missing/Undefined</td>\n",
       "      <td>130.713664</td>\n",
       "      <td>E</td>\n",
       "      <td>CA</td>\n",
       "      <td>Riverside</td>\n",
       "    </tr>\n",
       "    <tr>\n",
       "      <td>4100</td>\n",
       "      <td>300293894</td>\n",
       "      <td>Ventura County Fire Department</td>\n",
       "      <td>SOLIMAR</td>\n",
       "      <td>2015</td>\n",
       "      <td>December</td>\n",
       "      <td>12</td>\n",
       "      <td>Missing/Undefined</td>\n",
       "      <td>521.235912</td>\n",
       "      <td>F</td>\n",
       "      <td>CA</td>\n",
       "      <td>Ventura</td>\n",
       "    </tr>\n",
       "  </tbody>\n",
       "</table>\n",
       "</div>"
      ],
      "text/plain": [
       "      fd_unq_id               source_reporting_unit_name fire_name  year  \\\n",
       "4098  300209443  Sequoia And Kings Canyon National Parks     BURNT  2015   \n",
       "4099  300293910                    Colorado River Agency   HIGHWAY  2015   \n",
       "4100  300293894           Ventura County Fire Department   SOLIMAR  2015   \n",
       "\n",
       "         month  month_num              cause   fire_size fire_size_class  \\\n",
       "4098   October         10          Lightning   65.154489               D   \n",
       "4099  November         11  Missing/Undefined  130.713664               E   \n",
       "4100  December         12  Missing/Undefined  521.235912               F   \n",
       "\n",
       "     state     county  \n",
       "4098    CA        NaN  \n",
       "4099    CA  Riverside  \n",
       "4100    CA    Ventura  "
      ]
     },
     "execution_count": 9,
     "metadata": {},
     "output_type": "execute_result"
    }
   ],
   "source": [
    "# Convert to hectares\n",
    "# It scares me to overwrite data like this\n",
    "fires.fire_size = fires.fire_size * (1/2.47105)\n",
    "\n",
    "# See last 3 records\n",
    "fires.tail(3)"
   ]
  },
  {
   "cell_type": "markdown",
   "metadata": {
    "deletable": false,
    "editable": false,
    "nbgrader": {
     "cell_type": "markdown",
     "checksum": "6f6b47f2fb068aeb4a87e44e6eb40cc1",
     "grade": false,
     "grade_id": "question-summarize-pd",
     "locked": true,
     "schema_version": 3,
     "solution": false,
     "task": false
    }
   },
   "source": [
    "## Summarize Fire Size Across Entire Dataset\n",
    "\n",
    "In the cell below, add code **after the line for `Your Code Here`**, replacing `raise NotImplementedError()` with your code, to complete the following task:\n",
    "\n",
    "* Display the mean, minimum, and maximum values for fire size across the entire dataset.\n",
    "    * Choose the code that most efficiently (i.e. with the least amount of code) accomplishes this goal. "
   ]
  },
  {
   "cell_type": "code",
   "execution_count": 10,
   "metadata": {
    "deletable": false,
    "nbgrader": {
     "cell_type": "code",
     "checksum": "b7b4698985e6c248458fbe7eb1bff5a5",
     "grade": true,
     "grade_id": "student-summarize-pd-answer",
     "locked": false,
     "points": 8,
     "schema_version": 3,
     "solution": true,
     "task": false
    }
   },
   "outputs": [
    {
     "data": {
      "text/html": [
       "<div>\n",
       "<style scoped>\n",
       "    .dataframe tbody tr th:only-of-type {\n",
       "        vertical-align: middle;\n",
       "    }\n",
       "\n",
       "    .dataframe tbody tr th {\n",
       "        vertical-align: top;\n",
       "    }\n",
       "\n",
       "    .dataframe thead th {\n",
       "        text-align: right;\n",
       "    }\n",
       "</style>\n",
       "<table border=\"1\" class=\"dataframe\">\n",
       "  <thead>\n",
       "    <tr style=\"text-align: right;\">\n",
       "      <th></th>\n",
       "      <th>fd_unq_id</th>\n",
       "      <th>year</th>\n",
       "      <th>month_num</th>\n",
       "      <th>fire_size</th>\n",
       "    </tr>\n",
       "  </thead>\n",
       "  <tbody>\n",
       "    <tr>\n",
       "      <td>count</td>\n",
       "      <td>4.101000e+03</td>\n",
       "      <td>4101.000000</td>\n",
       "      <td>4101.000000</td>\n",
       "      <td>4101.000000</td>\n",
       "    </tr>\n",
       "    <tr>\n",
       "      <td>mean</td>\n",
       "      <td>3.780067e+07</td>\n",
       "      <td>2002.347476</td>\n",
       "      <td>7.264570</td>\n",
       "      <td>1212.162495</td>\n",
       "    </tr>\n",
       "    <tr>\n",
       "      <td>std</td>\n",
       "      <td>8.933627e+07</td>\n",
       "      <td>6.751149</td>\n",
       "      <td>1.706797</td>\n",
       "      <td>5455.593939</td>\n",
       "    </tr>\n",
       "    <tr>\n",
       "      <td>min</td>\n",
       "      <td>1.700000e+01</td>\n",
       "      <td>1992.000000</td>\n",
       "      <td>1.000000</td>\n",
       "      <td>40.509095</td>\n",
       "    </tr>\n",
       "    <tr>\n",
       "      <td>25%</td>\n",
       "      <td>2.171770e+05</td>\n",
       "      <td>1996.000000</td>\n",
       "      <td>6.000000</td>\n",
       "      <td>72.843528</td>\n",
       "    </tr>\n",
       "    <tr>\n",
       "      <td>50%</td>\n",
       "      <td>1.305460e+06</td>\n",
       "      <td>2002.000000</td>\n",
       "      <td>7.000000</td>\n",
       "      <td>143.258939</td>\n",
       "    </tr>\n",
       "    <tr>\n",
       "      <td>75%</td>\n",
       "      <td>1.374481e+06</td>\n",
       "      <td>2008.000000</td>\n",
       "      <td>8.000000</td>\n",
       "      <td>467.412638</td>\n",
       "    </tr>\n",
       "    <tr>\n",
       "      <td>max</td>\n",
       "      <td>3.003476e+08</td>\n",
       "      <td>2015.000000</td>\n",
       "      <td>12.000000</td>\n",
       "      <td>127710.406507</td>\n",
       "    </tr>\n",
       "  </tbody>\n",
       "</table>\n",
       "</div>"
      ],
      "text/plain": [
       "          fd_unq_id         year    month_num      fire_size\n",
       "count  4.101000e+03  4101.000000  4101.000000    4101.000000\n",
       "mean   3.780067e+07  2002.347476     7.264570    1212.162495\n",
       "std    8.933627e+07     6.751149     1.706797    5455.593939\n",
       "min    1.700000e+01  1992.000000     1.000000      40.509095\n",
       "25%    2.171770e+05  1996.000000     6.000000      72.843528\n",
       "50%    1.305460e+06  2002.000000     7.000000     143.258939\n",
       "75%    1.374481e+06  2008.000000     8.000000     467.412638\n",
       "max    3.003476e+08  2015.000000    12.000000  127710.406507"
      ]
     },
     "execution_count": 10,
     "metadata": {},
     "output_type": "execute_result"
    }
   ],
   "source": [
    "# Find stats for df\n",
    "fires.describe()"
   ]
  },
  {
   "cell_type": "markdown",
   "metadata": {
    "deletable": false,
    "editable": false,
    "nbgrader": {
     "cell_type": "markdown",
     "checksum": "681192d6a92f74d6c41f3ffe3a7f2ea7",
     "grade": false,
     "grade_id": "question-groupby",
     "locked": true,
     "schema_version": 3,
     "solution": false,
     "task": false
    }
   },
   "source": [
    "## Calculate Maximum Fire Size Per Year\n",
    "\n",
    "In the cell below, add code **after the line for `Your Code Here`**, replacing `raise NotImplementedError()` with your code, to complete the following tasks:\n",
    "\n",
    "1. Calculate the maximum fire size for each year in the dataset.\n",
    "2. Save the output to a new dataframe.\n",
    "    * Choose the code that most efficiently (i.e. with the least amount of code) accomplishes this goal. "
   ]
  },
  {
   "cell_type": "code",
   "execution_count": 11,
   "metadata": {
    "deletable": false,
    "nbgrader": {
     "cell_type": "code",
     "checksum": "db95048b8b3f9a0427818e301cdf0749",
     "grade": true,
     "grade_id": "student-groupby-answer",
     "locked": false,
     "points": 12,
     "schema_version": 3,
     "solution": true,
     "task": false
    }
   },
   "outputs": [],
   "source": [
    "# New dataframe containing max fire size by year\n",
    "fires_per_yr = pd.DataFrame(fires.groupby(\"year\")['fire_size'].max())"
   ]
  },
  {
   "cell_type": "markdown",
   "metadata": {
    "deletable": false,
    "editable": false,
    "nbgrader": {
     "cell_type": "markdown",
     "checksum": "c078f7f1f714a4329c5b3f209052c8a9",
     "grade": false,
     "grade_id": "question-reset-index",
     "locked": true,
     "schema_version": 3,
     "solution": false,
     "task": false
    }
   },
   "source": [
    "## Reset Index in Pandas Dataframe\n",
    "\n",
    "In the cell below, add code **after the line for `Your Code Here`**, replacing `raise NotImplementedError()` with your code, to complete the following task:\n",
    "1. Reset the index of the dataframe created in the previous question (i.e. return row index to range starting at [0]). \n",
    "    * Use the appropriate code so that you **do not have to create a new pandas dataframe.** "
   ]
  },
  {
   "cell_type": "code",
   "execution_count": 12,
   "metadata": {
    "deletable": false,
    "nbgrader": {
     "cell_type": "code",
     "checksum": "5c75fdec135f3c17b5d363a888222a6f",
     "grade": true,
     "grade_id": "student-reset-index-answer",
     "locked": false,
     "points": 4,
     "schema_version": 3,
     "solution": true,
     "task": false
    }
   },
   "outputs": [],
   "source": [
    "# Reset index in dataframe so it can be graphed\n",
    "fires_per_yr.reset_index(inplace=True)"
   ]
  },
  {
   "cell_type": "markdown",
   "metadata": {
    "deletable": false,
    "editable": false,
    "nbgrader": {
     "cell_type": "markdown",
     "checksum": "f4690b3809ac7f6e86d9189534e5478c",
     "grade": false,
     "grade_id": "question-plot",
     "locked": true,
     "schema_version": 3,
     "solution": false
    }
   },
   "source": [
    "## Create Figure From Columns in Pandas Dataframe\n",
    "\n",
    "In the cell below, add code **after the line for `Your Code Here`**, replacing `raise NotImplementedError()` with your code, to complete the following task:\n",
    "\n",
    "* Create a figure with a plot of the **maximum fire size per year using any style, color, etc**.\n",
    "    * Hint: use code that you have written before to plot lists or **numpy** arrays - how might you revise that code to plot individual columns from a **pandas** dataframe? It can help to review how to select columns in a dataframe as a **pandas** series. \n",
    "    * Be sure to include an appropriate title and axes labels including units of measurement where appropriate. \n",
    "\n",
    "For your title and labels, be sure to think about the following pieces of information that could help someone easily interpret the plot:\n",
    "* geographic coverage or extent of data.\n",
    "* duration or temporal extent of the data.\n",
    "* what was actually measured and/or represented by the data.\n",
    "* units of measurement.\n",
    "\n",
    "**Request for the autograding tool that we are building:** please comment out the code line `plt.show()` in your plot code like this: `# plt.show()`. If you do not comment out that code line, you may see an extra empty plot underneath your desired figure. "
   ]
  },
  {
   "cell_type": "code",
   "execution_count": 13,
   "metadata": {
    "deletable": false,
    "nbgrader": {
     "cell_type": "code",
     "checksum": "b8c7dfb6b86657cc21220b5e9aa08df9",
     "grade": false,
     "grade_id": "student-create-plot-1-answer",
     "locked": false,
     "schema_version": 3,
     "solution": true,
     "task": false
    }
   },
   "outputs": [
    {
     "data": {
      "image/png": "[encoded data removed]",
      "text/plain": [
       "<Figure size 720x720 with 1 Axes>"
      ]
     },
     "metadata": {
      "needs_background": "light"
     },
     "output_type": "display_data"
    }
   ],
   "source": [
    "# Create figure\n",
    "fig, ax = plt.subplots(figsize=(10,10))\n",
    "\n",
    "ax.plot(fires_per_yr.year,\n",
    "        fires_per_yr.fire_size, color=\"red\")\n",
    "\n",
    "ax.set(title=\"California Fire Sizes Over 100 Acres by Year,\\n1992-2015\",\n",
    "        ylabel=\"Fire Size in Hectares\",\n",
    "        xlabel=\"Year\")\n",
    "\n",
    "### DO NOT REMOVE LINE BELOW ###\n",
    "ts_1_plot = nb.convert_axes(plt, which_axes=\"all\")"
   ]
  },
  {
   "cell_type": "markdown",
   "metadata": {
    "deletable": false,
    "editable": false,
    "nbgrader": {
     "cell_type": "markdown",
     "checksum": "f1949355f1317ef67d84740a0baa5d87",
     "grade": false,
     "grade_id": "question-explain-plot",
     "locked": true,
     "schema_version": 3,
     "solution": false
    }
   },
   "source": [
    "## Explain Your Data and Plot\n",
    "\n",
    "In the Markdown cell below, answer the following questions about your data and plot using any kind of Markdown list.\n",
    "\n",
    "1. Does the maximum size of fires appear to be increasing over time in California? Explain your answer using the plot.\n",
    "\n",
    "2. Are the year tick marks in your plot being generated from text strings or numeric data? Explain your answer using the dataset and/or plot. \n",
    "\n",
    "3. According to this dataset, how many fires greater than 100 acres occurred between 1992 and 2015 in California? Explain your answer using the dataset.\n",
    "\n",
    "Remove any existing text in the cell before adding your answer."
   ]
  },
  {
   "cell_type": "markdown",
   "metadata": {
    "deletable": false,
    "nbgrader": {
     "cell_type": "markdown",
     "checksum": "11630646a30a7614d12af030487d55b5",
     "grade": true,
     "grade_id": "student-explain-plot-answer",
     "locked": false,
     "points": 12,
     "schema_version": 3,
     "solution": true
    }
   },
   "source": [
    "1. It seems like the fire size is spiking higher in more recent years though the data are cyclical. This indicates that max fire size in CA is increasing over time on average. **I'd like to request to learn how to plot a line of best fit!**\n",
    "2. The year labels are being generated from numbers since matplotlib.pyplot tries to display every value in a string-based label. However, the labels are only in multiples of 5.\n",
    "3. There have been 4101 fires larger than 100 acres because there are 4101 rows in the dataset: \"The dataset contains one record for every fire greater than 100 acres that occurred between 1992 and 2015 in California.\""
   ]
  },
  {
   "cell_type": "markdown",
   "metadata": {
    "deletable": false,
    "editable": false,
    "nbgrader": {
     "cell_type": "markdown",
     "checksum": "44bba5cacd521b6bd1a70afe3fc867b1",
     "grade": false,
     "grade_id": "question-explain-pep-8",
     "locked": true,
     "schema_version": 3,
     "solution": false,
     "task": false
    }
   },
   "source": [
    "## Discuss Your Workflow\n",
    "\n",
    "In the Markdown cell below, answer the following questions using any kind of Markdown list.\n",
    "\n",
    "1. Explain your choice of code to \"display the mean, minimum, and maximum values for fire size\". Why do you think your choice of code is the most efficient to accomplish that task?\n",
    "\n",
    "2. Explain why this notebook asks you to reset the index of the dataframe with the maximum fire size per year *before* you plot the data.   \n",
    "\n",
    "3. The dataset contains a column for the county name. How could you modify your existing code for \"maximum fire size per year\" to calculate the **mean fire size in each county**? \n",
    "\n",
    "Remove any existing text in the cell before adding your answer."
   ]
  },
  {
   "cell_type": "markdown",
   "metadata": {
    "deletable": false,
    "nbgrader": {
     "cell_type": "markdown",
     "checksum": "7373568b67c0f2ed6fbabca8a4b8e77d",
     "grade": true,
     "grade_id": "student-explain-pep-8",
     "locked": false,
     "points": 12,
     "schema_version": 3,
     "solution": true,
     "task": false
    }
   },
   "source": [
    "1. I chose `df.describe()` to show mean, min, and max values since it's a 1-liner and provides a concise overview of the dataframe in an eary-to-read table.\n",
    "2. If the dataframe is not re-indexed there is no way to specify the \"year\" column to plot (since the \"year\" column is the index). So pyplot will throw an error.\n",
    "3. I would add the column named \"county\" to the groupby method as follows: \n",
    "```python\n",
    "pd.DataFrame(df.groupby([\"year\", \"county\"])['fire_size'].mean())\n",
    "```"
   ]
  },
  {
   "cell_type": "code",
   "execution_count": null,
   "metadata": {
    "deletable": false,
    "editable": false,
    "nbgrader": {
     "cell_type": "code",
     "checksum": "af7c9acfde609e04e2eeda6d69bc3ab5",
     "grade": true,
     "grade_id": "hidden-plot-tests",
     "locked": true,
     "points": 16,
     "schema_version": 3,
     "solution": false
    }
   },
   "outputs": [],
   "source": []
  }
 ],
 "metadata": {
  "kernelspec": {
   "display_name": "Python 3",
   "language": "python",
   "name": "python3"
  },
  "language_info": {
   "codemirror_mode": {
    "name": "ipython",
    "version": 3
   },
   "file_extension": ".py",
   "mimetype": "text/x-python",
   "name": "python",
   "nbconvert_exporter": "python",
   "pygments_lexer": "ipython3",
   "version": "3.7.3"
  },
  "varInspector": {
   "cols": {
    "lenName": 16,
    "lenType": 16,
    "lenVar": 40
   },
   "kernels_config": {
    "python": {
     "delete_cmd_postfix": "",
     "delete_cmd_prefix": "del ",
     "library": "var_list.py",
     "varRefreshCmd": "print(var_dic_list())"
    },
    "r": {
     "delete_cmd_postfix": ") ",
     "delete_cmd_prefix": "rm(",
     "library": "var_list.r",
     "varRefreshCmd": "cat(var_dic_list()) "
    }
   },
   "types_to_exclude": [
    "module",
    "function",
    "builtin_function_or_method",
    "instance",
    "_Feature"
   ],
   "window_display": false
  }
 },
 "nbformat": 4,
 "nbformat_minor": 2
}
