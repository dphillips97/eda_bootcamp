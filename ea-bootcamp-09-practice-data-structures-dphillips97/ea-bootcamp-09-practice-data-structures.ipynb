{
 "cells": [
  {
   "cell_type": "markdown",
   "metadata": {},
   "source": [
    "Before you turn this problem in, make sure everything runs as expected. First, **restart the kernel** (in the menubar, select Kernel$\\rightarrow$Restart) and then **run all cells** (in the menubar, select Cell$\\rightarrow$Run All).\n",
    "\n",
    "Make sure you fill in any place that says `YOUR CODE HERE` or \"YOUR ANSWER HERE\", as well as your name and collaborators below:"
   ]
  },
  {
   "cell_type": "code",
   "execution_count": 1,
   "metadata": {},
   "outputs": [],
   "source": [
    "NAME = \"Drew Phillips\"\n",
    "COLLABORATORS = \"\""
   ]
  },
  {
   "cell_type": "markdown",
   "metadata": {},
   "source": [
    "---"
   ]
  },
  {
   "cell_type": "markdown",
   "metadata": {
    "deletable": false,
    "editable": false,
    "nbgrader": {
     "cell_type": "markdown",
     "checksum": "8115d981c69746150727eb6228c8d5a7",
     "grade": false,
     "grade_id": "header-logo",
     "locked": true,
     "schema_version": 3,
     "solution": false
    }
   },
   "source": [
    "<img style=\"float: left;\" src=\"earth-lab-logo-rgb.png\" width=\"150\" height=\"150\" />\n",
    "\n",
    "# Earth Analytics Education"
   ]
  },
  {
   "cell_type": "markdown",
   "metadata": {
    "deletable": false,
    "editable": false,
    "nbgrader": {
     "cell_type": "markdown",
     "checksum": "771a5ce2e65ad9bdf1b68cbdd8160a94",
     "grade": false,
     "grade_id": "hw-instructions",
     "locked": true,
     "schema_version": 3,
     "solution": false
    }
   },
   "source": [
    "# Week 9 Homework Template\n",
    "\n",
    "To complete assignment 9, be sure you have reviewed Chapters 14-15 (pgs 1-4) in Section 6 of the <a href=\"https://www.earthdatascience.org/courses/intro-to-earth-data-science/\" target=\"_blank\">Intro to Earth Data Science online textbook</a> online textbook, which covers **numpy** arrays and **pandas** dataframes, including how to slice or select data from these data structures.   \n",
    "\n",
    "Read the instructions for each question carefully to successfully complete the required tasks.\n",
    "\n",
    "**Request for the autograding tool that we are building:** please do not rename the notebook file. We are working on the tool to allow renamed notebooks, but for now, please leave the notebook name as `ea-bootcamp-09-practice-data-structures.ipynb`.\n",
    "\n",
    "\n",
    "## Adherence to PEP 8 \n",
    "\n",
    "Be sure to use clear and succinct names for variables, etc, and to organize your code to support readability.\n",
    "\n",
    "You will also be graded on adherence to PEP 8 standards including length of code lines and the appropriate use of comments and white space.\n",
    "\n",
    "Thus, be sure to add comments throughout your code (note that there are no pre-populated comments in this notebook), and use the `autopep8` tool to help you implement some of the PEP 8 standards. \n",
    "\n",
    "You can review the <a href=\"https://www.earthdatascience.org/courses/intro-to-earth-data-science/write-clean-expressive-code/intro-to-clean-code/python-pep-8-style-guide/\" target=\"_blank\">online textbook page on PEP 8 </a> as needed.\n",
    "\n",
    "\n",
    "## Assignment Data\n",
    "\n",
    "For this assignment, you will write **Python** code to download and work with average monthly precipitation in 1998-2017 for Boulder, CO <a href=\"https://www.esrl.noaa.gov/psd/boulder/Boulder.mm.precip.html\" target=\"_blank\">U.S. National Oceanic and Atmospheric Administration (NOAA)</a>.\n",
    "\n",
    "Note that the data files you will download and use in this assignment have **units in millimeters (mm), not inches.**"
   ]
  },
  {
   "cell_type": "code",
   "execution_count": 2,
   "metadata": {
    "deletable": false,
    "editable": false,
    "nbgrader": {
     "cell_type": "code",
     "checksum": "9406b5deaded509d2159b7ec9d14fa69",
     "grade": false,
     "grade_id": "core-imports",
     "locked": true,
     "schema_version": 3,
     "solution": false
    }
   },
   "outputs": [],
   "source": [
    "# Core imports needed for grading\n",
    "import matplotcheck.notebook as nb\n",
    "import matplotcheck.timeseries as ts"
   ]
  },
  {
   "cell_type": "markdown",
   "metadata": {
    "deletable": false,
    "editable": false,
    "nbgrader": {
     "cell_type": "markdown",
     "checksum": "580df3227bb03106c3bb4dd99ed67788",
     "grade": false,
     "grade_id": "question-student-imports",
     "locked": true,
     "schema_version": 3,
     "solution": false
    }
   },
   "source": [
    "## Import Python Packages\n",
    "\n",
    "In the cell below, add code **after the line for `Your Code Here`**, replacing `raise NotImplementedError()` with your code to import the packages/modules needed to:\n",
    "* create plots \n",
    "* set your working directory\n",
    "* download data using earthpy functions\n",
    "* work with numpy arrays and pandas dataframes\n",
    "\n",
    "Be sure to list the package imports following the appropriate PEP 8 order. "
   ]
  },
  {
   "cell_type": "code",
   "execution_count": 3,
   "metadata": {
    "deletable": false,
    "nbgrader": {
     "cell_type": "code",
     "checksum": "e487e16c8f967f9098581407ce4bca96",
     "grade": true,
     "grade_id": "student-imports-answer",
     "locked": false,
     "points": 2,
     "schema_version": 3,
     "solution": true
    }
   },
   "outputs": [],
   "source": [
    "import os\n",
    "import numpy as np\n",
    "import pandas as pd\n",
    "import matplotlib.pyplot as plt\n",
    "import earthpy as et"
   ]
  },
  {
   "cell_type": "markdown",
   "metadata": {
    "deletable": false,
    "editable": false,
    "nbgrader": {
     "cell_type": "markdown",
     "checksum": "36e876fd1dd1e312742e542fff131786",
     "grade": false,
     "grade_id": "question-download-data",
     "locked": true,
     "schema_version": 3,
     "solution": false,
     "task": false
    }
   },
   "source": [
    "## Download Data Using EarthPy\n",
    "\n",
    "In the cell below, add code **after the line for `Your Code Here`**, replacing `raise NotImplementedError()` with your code, to complete the following task:\n",
    "\n",
    "* Download the following datasets using **earthpy**: \n",
    "    * monthly-precip-mm-1998-to-2017.csv from https://ndownloader.figshare.com/files/12799931\n",
    "        * This dataset contains average monthly precipitation (millimeters) in 1998 to 2017 for Boulder, Colorado. The data are organized with a row for each year (in order from 1998 to 2017) and a column for each month (in order from January through December). Note that this .csv file has no column headers. \n",
    "    * monthly-precip-mm-1998-to-2017-headers.csv from https://ndownloader.figshare.com/files/18104966\n",
    "        * This dataset contains average monthly precipitation (millimeters) in 1998 to 2017 for Boulder, Colorado. Note that this .csv file contains column headers for the year and month names. "
   ]
  },
  {
   "cell_type": "code",
   "execution_count": 4,
   "metadata": {
    "deletable": false,
    "nbgrader": {
     "cell_type": "code",
     "checksum": "b85190dc7bb17a05a83267b6276796a3",
     "grade": true,
     "grade_id": "student-download-data-answer",
     "locked": false,
     "points": 2,
     "schema_version": 3,
     "solution": true,
     "task": false
    }
   },
   "outputs": [
    {
     "data": {
      "text/plain": [
       "'C:\\\\Users\\\\dphil\\\\earth-analytics\\\\data\\\\earthpy-downloads\\\\monthly-precip-mm-1998-to-2017-headers.csv'"
      ]
     },
     "execution_count": 4,
     "metadata": {},
     "output_type": "execute_result"
    }
   ],
   "source": [
    "# Get monthly precip data without headers\n",
    "et.data.get_data(url=\"https://ndownloader.figshare.com/files/12799931\")\n",
    "\n",
    "# Get monthly precip data with headers\n",
    "et.data.get_data(url=\"https://ndownloader.figshare.com/files/18104966\")"
   ]
  },
  {
   "cell_type": "markdown",
   "metadata": {
    "deletable": false,
    "editable": false,
    "nbgrader": {
     "cell_type": "markdown",
     "checksum": "b9e4cf3a62835e1bb8bc35cf994cd345",
     "grade": false,
     "grade_id": "question-set-wd",
     "locked": true,
     "schema_version": 3,
     "solution": false,
     "task": false
    }
   },
   "source": [
    "## Set Working Directory\n",
    "\n",
    "In the cell below, add code **after the line for `Your Code Here`**, replacing `raise NotImplementedError()` with your code, to set your working directory to **your `earth-analytics` directory in your home directory**.\n",
    "\n",
    "Be sure to use the appropriate functions that will allow your code to run successfully on any operating system."
   ]
  },
  {
   "cell_type": "code",
   "execution_count": 5,
   "metadata": {
    "deletable": false,
    "nbgrader": {
     "cell_type": "code",
     "checksum": "93038c07f29e4482f88a8310b6244ac3",
     "grade": true,
     "grade_id": "student-set-wd-answer",
     "locked": false,
     "points": 2,
     "schema_version": 3,
     "solution": true,
     "task": false
    }
   },
   "outputs": [
    {
     "data": {
      "text/plain": [
       "'C:\\\\Users\\\\dphil\\\\earth-analytics\\\\data\\\\earthpy-downloads'"
      ]
     },
     "execution_count": 5,
     "metadata": {},
     "output_type": "execute_result"
    }
   ],
   "source": [
    "# Change directory to path consistent across all os\n",
    "main_dir = os.path.join(et.io.HOME, \n",
    "                        \"earth-analytics\", \n",
    "                        \"data\", \n",
    "                        \"earthpy-downloads\")\n",
    "\n",
    "# Set path\n",
    "os.chdir(main_dir)\n",
    "\n",
    "# Check current working dir\n",
    "os.getcwd()"
   ]
  },
  {
   "cell_type": "markdown",
   "metadata": {
    "deletable": false,
    "editable": false,
    "nbgrader": {
     "cell_type": "markdown",
     "checksum": "bd30eb4f814c522947ac44845e66eac9",
     "grade": false,
     "grade_id": "question-import-data",
     "locked": true,
     "schema_version": 3,
     "solution": false,
     "task": false
    }
   },
   "source": [
    "## Import Data\n",
    "\n",
    "In the cell below, add your code **after the line for `Your Code Here`**, replacing `raise NotImplementedError()` with your code, to complete the following tasks:\n",
    "\n",
    "1. Import the appropriate .csv file into a **numpy** array using a relative path.  \n",
    "2. Import the appropriate .csv file into a **pandas** dataframe using a relative path.\n",
    "\n",
    "Be sure to assign appropriate names that clearly convey what is contain within each object (data structure). \n",
    "\n",
    "Be sure to use the appropriate functions that will allow your code to run successfully on any operating system.\n",
    "\n",
    "It can help to open each .csv file and review the structure, headers, etc to identify which data structure is most appropriate for which file. "
   ]
  },
  {
   "cell_type": "code",
   "execution_count": 6,
   "metadata": {
    "deletable": false,
    "nbgrader": {
     "cell_type": "code",
     "checksum": "6c7ceb2b316b9f26861c3b4db32673ef",
     "grade": true,
     "grade_id": "student-import-data-answer",
     "locked": false,
     "points": 8,
     "schema_version": 3,
     "solution": true,
     "task": false
    },
    "scrolled": false
   },
   "outputs": [],
   "source": [
    "# Set path to precip csv with column headers\n",
    "precip_head_path = os.path.join(main_dir, \n",
    "                                \"monthly-precip-mm-1998-to-2017-headers.csv\")\n",
    "\n",
    "# Set path to precip csv with no column headers\n",
    "precip_no_head_path = os.path.join(main_dir, \n",
    "                                   \"monthly-precip-mm-1998-to-2017.csv\")\n",
    "\n",
    "# Load csv with no column headers into np array\n",
    "precip_arr = np.loadtxt(precip_no_head_path, delimiter=\",\")\n",
    "\n",
    "# Create pandas df from precip csv with column headers\n",
    "precip_df = pd.read_csv(precip_head_path)"
   ]
  },
  {
   "cell_type": "markdown",
   "metadata": {
    "deletable": false,
    "editable": false,
    "nbgrader": {
     "cell_type": "markdown",
     "checksum": "3cf183b2b2edf02fe829e7bff1da29b4",
     "grade": false,
     "grade_id": "cell-05b716647f2abf5f",
     "locked": true,
     "schema_version": 3,
     "solution": false,
     "task": false
    }
   },
   "source": [
    "# Section on Numpy Arrays"
   ]
  },
  {
   "cell_type": "markdown",
   "metadata": {
    "deletable": false,
    "editable": false,
    "nbgrader": {
     "cell_type": "markdown",
     "checksum": "388cab52608760a057287b66597930bd",
     "grade": false,
     "grade_id": "question-info-pd",
     "locked": true,
     "schema_version": 3,
     "solution": false,
     "task": false
    }
   },
   "source": [
    "## Identify Mean Precipitation for 2013\n",
    "\n",
    "In the cell below, add code **after the line for `Your Code Here`**, replacing `raise NotImplementedError()` with your code, to complete the following task:\n",
    "\n",
    "* Calculate and display the mean precipitation for 2013 (across all months of data).\n",
    "    * Aim to use the most concise code that accomplishes this goal.\n",
    "    \n",
    "Hint: it can help to begin by selecting the row that represents the year 2013."
   ]
  },
  {
   "cell_type": "code",
   "execution_count": 7,
   "metadata": {
    "deletable": false,
    "nbgrader": {
     "cell_type": "code",
     "checksum": "4f6bb8d7dab2ac1e60ab91f553fc654e",
     "grade": true,
     "grade_id": "student-info-pd-answer",
     "locked": false,
     "points": 8,
     "schema_version": 3,
     "solution": true,
     "task": false
    },
    "scrolled": false
   },
   "outputs": [
    {
     "data": {
      "text/plain": [
       "72.28416666666666"
      ]
     },
     "execution_count": 7,
     "metadata": {},
     "output_type": "execute_result"
    }
   ],
   "source": [
    "# Slice list at row 16 (2013)\n",
    "# Index position 15\n",
    "# And include all columns\n",
    "precip_arr[15,:].mean()"
   ]
  },
  {
   "cell_type": "markdown",
   "metadata": {
    "deletable": false,
    "editable": false,
    "nbgrader": {
     "cell_type": "markdown",
     "checksum": "b1230b9d891dc14b76d3ee7210449d6e",
     "grade": false,
     "grade_id": "question-summarize-pd",
     "locked": true,
     "schema_version": 3,
     "solution": false,
     "task": false
    }
   },
   "source": [
    "## Identify Mean Precipitation in September\n",
    "\n",
    "In the cell below, add code **after the line for `Your Code Here`**, replacing `raise NotImplementedError()` with your code, to complete the following task:\n",
    "\n",
    "* Calculate and display the mean precipitation for September (across all years of data).\n",
    "    * Aim to use the most concise code that accomplishes this goal.\n",
    "\n",
    "Hint: again, it can help to begin with a selection. How can you select all of the September values?"
   ]
  },
  {
   "cell_type": "code",
   "execution_count": 8,
   "metadata": {
    "deletable": false,
    "nbgrader": {
     "cell_type": "code",
     "checksum": "ba3647aa0cf3774336f6feece57382bc",
     "grade": true,
     "grade_id": "student-summarize-pd-answer",
     "locked": false,
     "points": 6,
     "schema_version": 3,
     "solution": true,
     "task": false
    }
   },
   "outputs": [
    {
     "data": {
      "text/plain": [
       "58.521600000000014"
      ]
     },
     "execution_count": 8,
     "metadata": {},
     "output_type": "execute_result"
    }
   ],
   "source": [
    "# Slice to select column 9 (September)\n",
    "# Index 8\n",
    "# Select all rows and return mean\n",
    "precip_arr[:, 8].mean()"
   ]
  },
  {
   "cell_type": "markdown",
   "metadata": {
    "deletable": false,
    "editable": false,
    "nbgrader": {
     "cell_type": "markdown",
     "checksum": "c5fdf98a4a4e03dd1b391ff03c282171",
     "grade": false,
     "grade_id": "cell-a6794af1da050cf9",
     "locked": true,
     "schema_version": 3,
     "solution": false,
     "task": false
    }
   },
   "source": [
    "## Create Month Names For Plotting\n",
    "\n",
    "In the cell below, add code **after the line for `Your Code Here`**, replacing `raise NotImplementedError()` with your code, to complete the following task:\n",
    "\n",
    "* Manually create a list or numpy array that contains abbreviated month names as identified by the <a href=\"https://www.esrl.noaa.gov/psd/boulder/Boulder.mm.precip.html\" target=\"_blank\">U.S. National Oceanic and Atmospheric Administration (NOAA)</a>."
   ]
  },
  {
   "cell_type": "code",
   "execution_count": 9,
   "metadata": {
    "deletable": false,
    "nbgrader": {
     "cell_type": "code",
     "checksum": "fcb3ba7379590b3550be0cecc40907a5",
     "grade": true,
     "grade_id": "student-create-month-names",
     "locked": false,
     "points": 2,
     "schema_version": 3,
     "solution": true,
     "task": false
    }
   },
   "outputs": [],
   "source": [
    "# Create list of month names from NOAA data\n",
    "# There really should be a library/function for this\n",
    "month_names = [\"JAN\", \"FEB\", \"MAR\", \"APR\", \"MAY\", \"JUN\", \"JUL\", \"AUG\", \"SEP\", \"OCT\", \"NOV\", \"DEC\"]"
   ]
  },
  {
   "cell_type": "markdown",
   "metadata": {
    "deletable": false,
    "editable": false,
    "nbgrader": {
     "cell_type": "markdown",
     "checksum": "3d852f4456a329038c7eed6cff5ac33a",
     "grade": false,
     "grade_id": "question-plot",
     "locked": true,
     "schema_version": 3,
     "solution": false
    }
   },
   "source": [
    "## Plot Precipitation in 2013 with Highlight of 2013 Mean\n",
    "\n",
    "In the cell below, add code **after the line for `Your Code Here`**, replacing `raise NotImplementedError()` with your code, to complete the following task:\n",
    "\n",
    "* Create a figure with a plot of the **average monthly precipitation for 2013 using any style, color, etc**.\n",
    "    * Hint: review how to select a row from a numpy array - how can you use this selection to plot the 2013 data? \n",
    "* **Add a horizontal line to your plot for the 2013 mean value** that you calculated previously by adding the following code:\n",
    "\n",
    "```python\n",
    "# Value for y can be numeric value or variable\n",
    "ax.axhline(y=0.0000, color ='color-name')\n",
    "```\n",
    "* **Add some information about this highlighted line in your plot title.**\n",
    "\n",
    "**Note:** axhline adds a horizontal line across your plot at the given y axis value. See the matplotlib documentation for more information on <a href=\"https://matplotlib.org/api/_as_gen/matplotlib.axes.Axes.axhline.html?highlight=axhline#matplotlib.axes.Axes.axhline\" target=\"_blank\">axhline</a>.\n",
    "\n",
    "For your title and labels, be sure to think about the following pieces of information that could help someone easily interpret the plot:\n",
    "* geographic coverage or extent of data.\n",
    "* duration or temporal extent of the data.\n",
    "* what was actually measured and/or represented by the data.\n",
    "* units of measurement.\n",
    "\n",
    "**Request for the autograding tool that we are building:** please comment out the code line `plt.show()` in your plot code like this: `# plt.show()`. If you do not comment out that code line, you may see an extra empty plot underneath your desired figure. "
   ]
  },
  {
   "cell_type": "code",
   "execution_count": 10,
   "metadata": {
    "deletable": false,
    "nbgrader": {
     "cell_type": "code",
     "checksum": "b8c7dfb6b86657cc21220b5e9aa08df9",
     "grade": false,
     "grade_id": "student-create-plot-1-answer",
     "locked": false,
     "schema_version": 3,
     "solution": true,
     "task": false
    }
   },
   "outputs": [
    {
     "data": {
      "image/png": "[encoded data removed]",
      "text/plain": [
       "<Figure size 432x288 with 1 Axes>"
      ]
     },
     "metadata": {
      "needs_background": "light"
     },
     "output_type": "display_data"
    }
   ],
   "source": [
    "fig, ax = plt.subplots()\n",
    "\n",
    "ax.bar(month_names, precip_arr[15,:])\n",
    "\n",
    "ax.axhline(y=72.2842, color='purple')\n",
    "\n",
    "ax.set(title=\"\"\"2013 Precipitation in Boulder, CO\n",
    "                *Purple line indicates 2013 mean\"\"\",\n",
    "      xlabel=\"Month\",\n",
    "      ylabel=\"Precipitation (mm)\")\n",
    "\n",
    "### DO NOT REMOVE LINE BELOW ###\n",
    "ts_1_plot = nb.convert_axes(plt, which_axes=\"all\")"
   ]
  },
  {
   "cell_type": "markdown",
   "metadata": {
    "deletable": false,
    "editable": false,
    "nbgrader": {
     "cell_type": "markdown",
     "checksum": "5caf424a705185fa6bc66fd34e4ef0a4",
     "grade": false,
     "grade_id": "cell-26d3395719c57e41",
     "locked": true,
     "schema_version": 3,
     "solution": false,
     "task": false
    }
   },
   "source": [
    "# Section on Pandas Dataframes"
   ]
  },
  {
   "cell_type": "markdown",
   "metadata": {
    "deletable": false,
    "editable": false,
    "nbgrader": {
     "cell_type": "markdown",
     "checksum": "3a7fe64522d5b37577964ecce56388d2",
     "grade": false,
     "grade_id": "cell-53d3756c07b3ece5",
     "locked": true,
     "schema_version": 3,
     "solution": false,
     "task": false
    }
   },
   "source": [
    "## Use Label Indexing To Select 2013 Data\n",
    "\n",
    "In the cell below, add code **after the line for `Your Code Here`**, replacing `raise NotImplementedError()` with your code, to complete the following task:\n",
    "\n",
    "* Create a new dataframe that contains a label-based index created from the column called Year.\n",
    "* Use that index to select the data for 2013. \n",
    "    * Aim to use the most concise code that accomplishes this goal."
   ]
  },
  {
   "cell_type": "code",
   "execution_count": 11,
   "metadata": {
    "deletable": false,
    "nbgrader": {
     "cell_type": "code",
     "checksum": "38983a5ca8643cba1dd2c2f6e713a41b",
     "grade": true,
     "grade_id": "cell-ca6ee99b76299910",
     "locked": false,
     "points": 8,
     "schema_version": 3,
     "solution": true,
     "task": false
    }
   },
   "outputs": [
    {
     "data": {
      "text/plain": [
       "January        6.858\n",
       "February      28.702\n",
       "March         43.688\n",
       "April        105.156\n",
       "May           67.564\n",
       "June          15.494\n",
       "July          26.162\n",
       "August        35.560\n",
       "September    461.264\n",
       "October       56.896\n",
       "November       7.366\n",
       "December      12.700\n",
       "Name: 2013, dtype: float64"
      ]
     },
     "execution_count": 11,
     "metadata": {},
     "output_type": "execute_result"
    }
   ],
   "source": [
    "# Set index for precip df \n",
    "# Don't want year in mean calculation\n",
    "precip_df_year = precip_df.set_index('Year')\n",
    "\n",
    "# Select data for 2013\n",
    "precip_df_year.loc[2013]"
   ]
  },
  {
   "cell_type": "markdown",
   "metadata": {
    "deletable": false,
    "editable": false,
    "nbgrader": {
     "cell_type": "markdown",
     "checksum": "4a2cec7089526bc3b3f8781aef281404",
     "grade": false,
     "grade_id": "cell-05e0c1d0639ab470",
     "locked": true,
     "schema_version": 3,
     "solution": false,
     "task": false
    }
   },
   "source": [
    "## Identify Mean Precipitation in September\n",
    "\n",
    "In the cell below, add code **after the line for `Your Code Here`**, replacing `raise NotImplementedError()` with your code, to complete the following task:\n",
    "\n",
    "* Calculate and display the mean for September (across all years).\n",
    "    * Aim to use the most concise code that accomplishes this goal."
   ]
  },
  {
   "cell_type": "code",
   "execution_count": 12,
   "metadata": {
    "deletable": false,
    "nbgrader": {
     "cell_type": "code",
     "checksum": "6d3beef94012596af84314e600329194",
     "grade": true,
     "grade_id": "cell-25098a8668951666",
     "locked": false,
     "points": 4,
     "schema_version": 3,
     "solution": true,
     "task": false
    }
   },
   "outputs": [
    {
     "data": {
      "text/plain": [
       "58.52160000000002"
      ]
     },
     "execution_count": 12,
     "metadata": {},
     "output_type": "execute_result"
    }
   ],
   "source": [
    "# Select single column in precip_df_year\n",
    "# Calculate mean\n",
    "precip_df_year[\"September\"].mean()"
   ]
  },
  {
   "cell_type": "markdown",
   "metadata": {
    "deletable": false,
    "editable": false,
    "nbgrader": {
     "cell_type": "markdown",
     "checksum": "9d734e9cd461c9311014732ebe8a0f69",
     "grade": false,
     "grade_id": "cell-4fd7a66f3f027b45",
     "locked": true,
     "schema_version": 3,
     "solution": false,
     "task": false
    }
   },
   "source": [
    "## Plot September Precipitation with Highlight of September Mean\n",
    "\n",
    "In the cell below, add code **after the line for `Your Code Here`**, replacing `raise NotImplementedError()` with your code, to complete the following task:\n",
    "\n",
    "* Create a figure with a plot of the **average monthly precipitation for 2013 using any style, color, etc**.\n",
    "    * Recall that in a previous assignment, you reviewed how to select columns in a dataframe as a pandas series.\n",
    "* **Add a horizontal line (axhline) to your plot for the September mean value** that you calculated previously.\n",
    "* **Add some information about this highlighted line in your plot title.**\n",
    "\n",
    "For your title and labels, be sure to think about the following pieces of information that could help someone easily interpret the plot:\n",
    "* geographic coverage or extent of data.\n",
    "* duration or temporal extent of the data.\n",
    "* what was actually measured and/or represented by the data.\n",
    "* units of measurement.\n",
    "\n",
    "**Request for the autograding tool that we are building:** please comment out the code line `plt.show()` in your plot code like this: `# plt.show()`. If you do not comment out that code line, you may see an extra empty plot underneath your desired figure. "
   ]
  },
  {
   "cell_type": "code",
   "execution_count": 14,
   "metadata": {
    "deletable": false,
    "nbgrader": {
     "cell_type": "code",
     "checksum": "b80f4bad3737e02767ed41d25e46f2c4",
     "grade": false,
     "grade_id": "cell-27e560757ab6caa1",
     "locked": false,
     "schema_version": 3,
     "solution": true,
     "task": false
    }
   },
   "outputs": [
    {
     "data": {
      "image/png": "[encoded data removed]",
      "text/plain": [
       "<Figure size 432x288 with 1 Axes>"
      ]
     },
     "metadata": {
      "needs_background": "light"
     },
     "output_type": "display_data"
    }
   ],
   "source": [
    "#Create a figure with a plot of the all September precipitation values using any style, color, etc.\n",
    "fig, ax = plt.subplots()\n",
    "\n",
    "# Create bar chart \n",
    "ax.bar(precip_df[\"Year\"], precip_df_year[\"September\"])\n",
    "\n",
    "# Add horizontal line for mean September value\n",
    "ax.axhline(y=58.5216, color='purple')\n",
    "\n",
    "# Set title and labels\n",
    "ax.set(title=\"\"\"September Precipitation in Boulder, CO\n",
    "                *Purple Line indicates September Mean\"\"\",\n",
    "      xlabel=\"Year\",\n",
    "      ylabel=\"Precipitation (mm)\")\n",
    "\n",
    "# Rotate x labels 90 degrees\n",
    "plt.xticks(rotation=90)\n",
    "\n",
    "# Set x labels to be values for \"Year\"\n",
    "ax.set_xticks(precip_df[\"Year\"])\n",
    "\n",
    "### DO NOT REMOVE LINE BELOW ###\n",
    "ts_1_plot = nb.convert_axes(plt, which_axes=\"all\")"
   ]
  },
  {
   "cell_type": "markdown",
   "metadata": {
    "deletable": false,
    "editable": false,
    "nbgrader": {
     "cell_type": "markdown",
     "checksum": "3960fc9f6788c374d249e02a1272c194",
     "grade": false,
     "grade_id": "question-explain-pep-8",
     "locked": true,
     "schema_version": 3,
     "solution": false,
     "task": false
    }
   },
   "source": [
    "## Discuss Your Plot\n",
    "\n",
    "In the Markdown cell below, answer the following questions using any kind of Markdown list.\n",
    "\n",
    "1. For the first plot from the **numpy** array, why are you be able to plot the month names from either a list and a **numpy** array? \n",
    "2. In the second plot from the **pandas** dataframe, is the x-axis a numeric value or a text string? How do you know? \n",
    "3. In order to change the appearance of the x axis in the second plot, what might you need to know how to do? \n",
    "\n",
    "Remove any existing text in the cell before adding your answer."
   ]
  },
  {
   "cell_type": "markdown",
   "metadata": {
    "deletable": false,
    "nbgrader": {
     "cell_type": "markdown",
     "checksum": "df8102f3aed5c9b3f6389d829d749f00",
     "grade": true,
     "grade_id": "cell-e5b21fde84e3e84e",
     "locked": false,
     "points": 12,
     "schema_version": 3,
     "solution": true,
     "task": false
    }
   },
   "source": [
    "1. Numpy arrays and lists are treated the same in this case when specified as an axis in pyplot\n",
    "2. It's a numeric value. If you run `type(precip_df[\"Year\"][0])` you see `numpy.int64`\n",
    "3. When I first ran this cell the x axis labels ran together and were set to half-year values. I specified the x_ticks to be the same as the Years column in precip_df and rotated them to be visible. So I had to know how to set the ticks to be exactly what I wanted rather than let pandas interpret - I've come across this before when integers are used as axis labels."
   ]
  },
  {
   "cell_type": "markdown",
   "metadata": {
    "deletable": false,
    "editable": false,
    "nbgrader": {
     "cell_type": "markdown",
     "checksum": "6bb4c6830ef29259426fa796c5c41fa9",
     "grade": false,
     "grade_id": "cell-62684fb141b432a2",
     "locked": true,
     "schema_version": 3,
     "solution": false,
     "task": false
    }
   },
   "source": [
    "## Discuss Your Workflow\n",
    "\n",
    "In the Markdown cell below, answer the following questions using any kind of Markdown list.\n",
    "\n",
    "1. Given that the .csv files you downloaded were quite similar, how did you decide on what to name your **numpy** array and your **pandas** dataframe? \n",
    "2. Compare your workflows for calculating the mean of September from a **numpy** array versus from a **pandas** dataframe. \n",
    "    * What did the workflows require you to know about the data? \n",
    "    * Was this information easier to obtain from one data structure or the other?\n",
    "\n",
    "Remove any existing text in the cell before adding your answer."
   ]
  },
  {
   "cell_type": "markdown",
   "metadata": {
    "deletable": false,
    "nbgrader": {
     "cell_type": "markdown",
     "checksum": "0d21fdcebd124cde99f2dcfa4b27dbf6",
     "grade": true,
     "grade_id": "student-explain-pep-8",
     "locked": false,
     "points": 8,
     "schema_version": 3,
     "solution": true,
     "task": false
    }
   },
   "source": [
    "- To keep the 2 separate, I named them precip_arr for the numpy array (since I see \"arrays\" more often in numpy) and precip_df (since numpy does not support dataframes, this path must be for pandas)\n",
    "\n",
    " - These workflows required that I know whether the data had headers (basically \"columns\" of different dtypes).\n",
    " - Info was easier to obtain from the dataframe since I could call values by their header value (\"September\" or 2013) rather than their index position."
   ]
  },
  {
   "cell_type": "code",
   "execution_count": null,
   "metadata": {
    "deletable": false,
    "editable": false,
    "nbgrader": {
     "cell_type": "code",
     "checksum": "ed98cac854d5222f06e8047361ccc8e1",
     "grade": true,
     "grade_id": "cell-8ad798858d89ee05",
     "locked": true,
     "points": 14,
     "schema_version": 3,
     "solution": false,
     "task": false
    }
   },
   "outputs": [],
   "source": []
  }
 ],
 "metadata": {
  "kernelspec": {
   "display_name": "Python 3",
   "language": "python",
   "name": "python3"
  },
  "language_info": {
   "codemirror_mode": {
    "name": "ipython",
    "version": 3
   },
   "file_extension": ".py",
   "mimetype": "text/x-python",
   "name": "python",
   "nbconvert_exporter": "python",
   "pygments_lexer": "ipython3",
   "version": "3.7.3"
  },
  "varInspector": {
   "cols": {
    "lenName": 16,
    "lenType": 16,
    "lenVar": 40
   },
   "kernels_config": {
    "python": {
     "delete_cmd_postfix": "",
     "delete_cmd_prefix": "del ",
     "library": "var_list.py",
     "varRefreshCmd": "print(var_dic_list())"
    },
    "r": {
     "delete_cmd_postfix": ") ",
     "delete_cmd_prefix": "rm(",
     "library": "var_list.r",
     "varRefreshCmd": "cat(var_dic_list()) "
    }
   },
   "types_to_exclude": [
    "module",
    "function",
    "builtin_function_or_method",
    "instance",
    "_Feature"
   ],
   "window_display": false
  }
 },
 "nbformat": 4,
 "nbformat_minor": 2
}
