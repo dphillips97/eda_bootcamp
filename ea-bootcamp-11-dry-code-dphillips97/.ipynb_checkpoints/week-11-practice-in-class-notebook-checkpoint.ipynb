{
 "cells": [
  {
   "cell_type": "markdown",
   "metadata": {},
   "source": [
    "Before you turn this problem in, make sure everything runs as expected. First, **restart the kernel** (in the menubar, select Kernel$\\rightarrow$Restart) and then **run all cells** (in the menubar, select Cell$\\rightarrow$Run All).\n",
    "\n",
    "Make sure you fill in any place that says `YOUR CODE HERE` or \"YOUR ANSWER HERE\", as well as your name and collaborators below:"
   ]
  },
  {
   "cell_type": "code",
   "execution_count": 1,
   "metadata": {},
   "outputs": [],
   "source": [
    "NAME = \"Drew Phillips\"\n",
    "COLLABORATORS = \"\""
   ]
  },
  {
   "cell_type": "markdown",
   "metadata": {},
   "source": [
    "---"
   ]
  },
  {
   "cell_type": "markdown",
   "metadata": {},
   "source": [
    "## Practice DRY Code with Lists and Numpy Arrays\n",
    "\n",
    "Practice writing conditional statements, loops and, functions with data structures, including lists, **numpy** arrays and **pandas** dataframes."
   ]
  },
  {
   "cell_type": "code",
   "execution_count": null,
   "metadata": {},
   "outputs": [],
   "source": [
    "# Import necessary packages\n",
    "import matplotlib.pyplot as plt\n",
    "import numpy as np\n",
    "import pandas as pd"
   ]
  },
  {
   "cell_type": "code",
   "execution_count": null,
   "metadata": {},
   "outputs": [],
   "source": [
    "# List of abbreviated month names\n",
    "months = [\"Jan\", \"Feb\", \"Mar\", \"Apr\", \"May\", \"June\", \n",
    "          \"July\", \"Aug\", \"Sept\", \"Oct\", \"Nov\", \"Dec\"]\n",
    "\n",
    "# List of average monthly precip (inches) in Boulder, CO\n",
    "avg_monthly_precip_in = [0.70,  0.75, 1.85, 2.93, 3.05, 2.02, \n",
    "                         1.93, 1.62, 1.84, 1.31, 1.39, 0.84]\n",
    "\n",
    "# 1d array of abbreviated month names\n",
    "months_arr = np.array([\"Jan\", \"Feb\", \"Mar\", \"Apr\", \"May\", \"June\", \n",
    "                       \"July\", \"Aug\", \"Sept\", \"Oct\", \"Nov\", \"Dec\"])\n",
    "\n",
    "# 1d array of average monthly precip (inches) for 2002 in Boulder, CO\n",
    "precip_2002_arr = np.array([1.07, 0.44, 1.50, 0.20, 3.20, 1.18, \n",
    "                            0.09, 1.44, 1.52, 2.44, 0.78, 0.02])\n",
    "\n",
    "# 1d array of average monthly precip (inches) for 2013 in Boulder, CO\n",
    "precip_2013_arr = np.array([0.27, 1.13, 1.72, 4.14, 2.66, 0.61, \n",
    "                            1.03, 1.40, 18.16, 2.24, 0.29, 0.50])\n",
    "\n",
    "# 2d array of average monthly precip (inches) for 2002 and 2013 in Boulder, CO\n",
    "precip_2002_2013_arr = np.array([[1.07, 0.44, 1.50, 0.20, 3.20, 1.18, \n",
    "                            0.09, 1.44, 1.52, 2.44, 0.78, 0.02],\n",
    "                            [0.27, 1.13, 1.72, 4.14, 2.66, 0.61, \n",
    "                            1.03, 1.40, 18.16, 2.24, 0.29, 0.50],\n",
    "                           ])\n",
    "\n",
    "# Dataframe of average monthly precip (inches) in 2002 and 2013 for Boulder, CO\n",
    "precip_2002_2013_df = pd.DataFrame(columns=[\"month\", \"precip_2002\", \"precip_2013\"],\n",
    "                                   data=[\n",
    "                                        [\"Jan\", 1.07, 0.27],   [\"Feb\", 0.44, 1.13],\n",
    "                                        [\"Mar\", 1.50, 1.72],   [\"Apr\", 0.20, 4.14],\n",
    "                                        [\"May\", 3.20, 2.66],   [\"June\", 1.18, 0.61],\n",
    "                                        [\"July\", 0.09, 1.03],  [\"Aug\", 1.44, 1.40],\n",
    "                                        [\"Sept\", 1.52, 18.16], [\"Oct\", 2.44, 2.24],\n",
    "                                        [\"Nov\", 0.78, 0.29],   [\"Dec\", 0.02, 0.50]\n",
    "                                   ])"
   ]
  }
 ],
 "metadata": {
  "kernelspec": {
   "display_name": "Python 3",
   "language": "python",
   "name": "python3"
  },
  "language_info": {
   "codemirror_mode": {
    "name": "ipython",
    "version": 3
   },
   "file_extension": ".py",
   "mimetype": "text/x-python",
   "name": "python",
   "nbconvert_exporter": "python",
   "pygments_lexer": "ipython3",
   "version": "3.7.3"
  },
  "varInspector": {
   "cols": {
    "lenName": 16,
    "lenType": 16,
    "lenVar": 40
   },
   "kernels_config": {
    "python": {
     "delete_cmd_postfix": "",
     "delete_cmd_prefix": "del ",
     "library": "var_list.py",
     "varRefreshCmd": "print(var_dic_list())"
    },
    "r": {
     "delete_cmd_postfix": ") ",
     "delete_cmd_prefix": "rm(",
     "library": "var_list.r",
     "varRefreshCmd": "cat(var_dic_list()) "
    }
   },
   "types_to_exclude": [
    "module",
    "function",
    "builtin_function_or_method",
    "instance",
    "_Feature"
   ],
   "window_display": false
  }
 },
 "nbformat": 4,
 "nbformat_minor": 2
}
