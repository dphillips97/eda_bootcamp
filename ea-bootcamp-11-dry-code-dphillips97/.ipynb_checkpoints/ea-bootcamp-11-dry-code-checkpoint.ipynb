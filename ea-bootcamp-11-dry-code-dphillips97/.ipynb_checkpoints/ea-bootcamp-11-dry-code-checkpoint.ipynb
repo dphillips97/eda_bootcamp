{
 "cells": [
  {
   "cell_type": "markdown",
   "metadata": {},
   "source": [
    "Before you turn this problem in, make sure everything runs as expected. First, **restart the kernel** (in the menubar, select Kernel$\\rightarrow$Restart) and then **run all cells** (in the menubar, select Cell$\\rightarrow$Run All).\n",
    "\n",
    "Make sure you fill in any place that says `YOUR CODE HERE` or \"YOUR ANSWER HERE\", as well as your name and collaborators below:"
   ]
  },
  {
   "cell_type": "code",
   "execution_count": 1,
   "metadata": {},
   "outputs": [],
   "source": [
    "NAME = \"Drew Phillips\"\n",
    "COLLABORATORS = \"\""
   ]
  },
  {
   "cell_type": "markdown",
   "metadata": {},
   "source": [
    "---"
   ]
  },
  {
   "cell_type": "markdown",
   "metadata": {
    "deletable": false,
    "editable": false,
    "nbgrader": {
     "cell_type": "markdown",
     "checksum": "8115d981c69746150727eb6228c8d5a7",
     "grade": false,
     "grade_id": "header-logo",
     "locked": true,
     "schema_version": 3,
     "solution": false
    }
   },
   "source": [
    "<img style=\"float: left;\" src=\"earth-lab-logo-rgb.png\" width=\"150\" height=\"150\" />\n",
    "\n",
    "# Earth Analytics Education"
   ]
  },
  {
   "cell_type": "markdown",
   "metadata": {
    "deletable": false,
    "editable": false,
    "nbgrader": {
     "cell_type": "markdown",
     "checksum": "3b430e6541be63d7e67b47541a59eb80",
     "grade": false,
     "grade_id": "hw-instructions",
     "locked": true,
     "schema_version": 3,
     "solution": false
    }
   },
   "source": [
    "# Week 11 Homework Template\n",
    "\n",
    "To complete assignment 11, be sure you have reviewed Chaps 17-19 in Section 7 of the <a href=\"https://www.earthdatascience.org/courses/intro-to-earth-data-science/\" target=\"_blank\">Intro to Earth Data Science online textbook</a> online textbook, which conditional statements, loops, and functions in **Python**.   \n",
    "\n",
    "Read the instructions for each question carefully to successfully complete the required tasks.\n",
    "\n",
    "**Request for the autograding tool that we are building:** please do not rename the notebook file. We are working on the tool to allow renamed notebooks, but for now, please leave the notebook name as `ea-bootcamp-11-dry-code.ipynb`.\n",
    "\n",
    "\n",
    "## Adherence to PEP 8 \n",
    "\n",
    "Be sure to use clear and succinct names for variables, etc, and to organize your code to support readability.\n",
    "\n",
    "You will also be graded on adherence to PEP 8 standards including length of code lines and the appropriate use of comments and white space.\n",
    "\n",
    "Thus, be sure to add comments throughout your code (note that there are no pre-populated comments in this notebook), and use the `autopep8` tool to help you implement some of the PEP 8 standards. \n",
    "\n",
    "You can review the <a href=\"https://www.earthdatascience.org/courses/intro-to-earth-data-science/write-clean-expressive-code/intro-to-clean-code/python-pep-8-style-guide/\" target=\"_blank\">online textbook page on PEP 8 </a> as needed.\n",
    "\n",
    "\n",
    "## Assignment Data\n",
    "\n",
    "For this assignment, you will write **Python** code to download and work with data on total monthly precipitation (inches) and average monthly minimum temperature (Fahrenheit) for the Los Angeles International Airport (LAX) in California between 1992 and 2018 provided by <a href=\"https://w2.weather.gov/climate/xmacis.php?wfo=lox\" target=\"_blank\">the National Weather Service</a>."
   ]
  },
  {
   "cell_type": "code",
   "execution_count": 2,
   "metadata": {
    "deletable": false,
    "editable": false,
    "nbgrader": {
     "cell_type": "code",
     "checksum": "9406b5deaded509d2159b7ec9d14fa69",
     "grade": false,
     "grade_id": "core-imports",
     "locked": true,
     "schema_version": 3,
     "solution": false
    }
   },
   "outputs": [],
   "source": [
    "# Core imports needed for grading\n",
    "import matplotcheck.notebook as nb\n",
    "import matplotcheck.timeseries as ts"
   ]
  },
  {
   "cell_type": "markdown",
   "metadata": {
    "deletable": false,
    "editable": false,
    "nbgrader": {
     "cell_type": "markdown",
     "checksum": "580df3227bb03106c3bb4dd99ed67788",
     "grade": false,
     "grade_id": "question-student-imports",
     "locked": true,
     "schema_version": 3,
     "solution": false
    }
   },
   "source": [
    "## Import Python Packages\n",
    "\n",
    "In the cell below, add code **after the line for `Your Code Here`**, replacing `raise NotImplementedError()` with your code to import the packages/modules needed to:\n",
    "* create plots \n",
    "* set your working directory\n",
    "* download data using earthpy functions\n",
    "* work with numpy arrays and pandas dataframes\n",
    "\n",
    "Be sure to list the package imports following the appropriate PEP 8 order. "
   ]
  },
  {
   "cell_type": "code",
   "execution_count": 3,
   "metadata": {
    "deletable": false,
    "nbgrader": {
     "cell_type": "code",
     "checksum": "e487e16c8f967f9098581407ce4bca96",
     "grade": true,
     "grade_id": "student-imports-answer",
     "locked": false,
     "points": 2,
     "schema_version": 3,
     "solution": true
    }
   },
   "outputs": [],
   "source": [
    "# Import required packages\n",
    "import os\n",
    "import matplotlib.pyplot as plt\n",
    "import numpy as np\n",
    "import pandas as pd\n",
    "import earthpy as et"
   ]
  },
  {
   "cell_type": "markdown",
   "metadata": {
    "deletable": false,
    "editable": false,
    "nbgrader": {
     "cell_type": "markdown",
     "checksum": "1dd692bc11049692b9e38ba711922d02",
     "grade": false,
     "grade_id": "cell-f5546f37bff98352",
     "locked": true,
     "schema_version": 3,
     "solution": false,
     "task": false
    }
   },
   "source": [
    "## Define Function to Convert Precipitation Units\n",
    "\n",
    "In the cell below, add code **after the line for `Your Code Here`**, replacing `raise NotImplementedError()` with your code, to complete the following task:\n",
    "\n",
    "* Write a function to convert values from inches to millimeters (1 inch = 25.4 millimeters). \n",
    "\n",
    "Be sure to include a docstring with a brief description of the function (i.e. how it works, purpose) as well as identify the input parameters (i.e. type, description) and the returned output (i.e. type, description)."
   ]
  },
  {
   "cell_type": "code",
   "execution_count": 4,
   "metadata": {
    "deletable": false,
    "nbgrader": {
     "cell_type": "code",
     "checksum": "142dc9b4ed3cf2d9912833df477e1be1",
     "grade": true,
     "grade_id": "cell-4be81b17f61f0c37",
     "locked": false,
     "points": 0,
     "schema_version": 3,
     "solution": true,
     "task": false
    }
   },
   "outputs": [],
   "source": [
    "# Create function to convert inches to mm\n",
    "def in_to_mm(inches):\n",
    "    \"\"\"Convert inches to millimeters.\n",
    "    \n",
    "    Parameters\n",
    "    ----------\n",
    "    inches: int or float\n",
    "            Numeric value of unit \"inches\"\n",
    "            \n",
    "    Returns\n",
    "    -------\n",
    "    mm: int or float\n",
    "        Numeric value of unit \"millimeters\"\n",
    "    \n",
    "    \"\"\"\n",
    "    \n",
    "    mm = inches * 25.4\n",
    "    \n",
    "    return mm"
   ]
  },
  {
   "cell_type": "markdown",
   "metadata": {
    "deletable": false,
    "editable": false,
    "nbgrader": {
     "cell_type": "markdown",
     "checksum": "fb2651813a343908938bdcd2bad488fc",
     "grade": false,
     "grade_id": "cell-0d487b441c96c076",
     "locked": true,
     "schema_version": 3,
     "solution": false,
     "task": false
    }
   },
   "source": [
    "## Define Function to Convert Temperature Units\n",
    "\n",
    "In the cell below, add code **after the line for `Your Code Here`**, replacing `raise NotImplementedError()` with your code, to complete the following task:\n",
    "\n",
    "* Write a function to convert values from Fahrenheit to Celsius units using the following equation:\n",
    "    * Celsius = (Fahrenheit - 32) / 1.8\n",
    "    * Note that including `Fahrenheit - 32` within parenthesis `()` tells `Python` to execute that calculation first.   \n",
    "\n",
    "Be sure to include a docstring with a brief description of the function (i.e. how it works, purpose) as well as identify the input parameters (i.e. type, description) and the returned output (i.e. type, description)."
   ]
  },
  {
   "cell_type": "code",
   "execution_count": 5,
   "metadata": {
    "deletable": false,
    "nbgrader": {
     "cell_type": "code",
     "checksum": "0d1845f0c022a9120bc80f431bc3b196",
     "grade": true,
     "grade_id": "cell-8dac21a48503a2ed",
     "locked": false,
     "points": 0,
     "schema_version": 3,
     "solution": true,
     "task": false
    }
   },
   "outputs": [],
   "source": [
    "# Create function to convert\n",
    "# Degrees Fahrenheit to Celsius\n",
    "def f_to_c(f):\n",
    "    \"\"\"Convert degrees Fahrenheit to Celsius.\n",
    "    \n",
    "    Parameters\n",
    "    ----------\n",
    "    f: int or float\n",
    "        Numeric value of units in degrees Fahrenheit\n",
    "        \n",
    "    Returns\n",
    "    -------\n",
    "    c: int or float\n",
    "        Numeric value of units in degrees Celsius\n",
    "    \"\"\"\n",
    "    \n",
    "    c = (f - 32) / 1.8\n",
    "    \n",
    "    return c"
   ]
  },
  {
   "cell_type": "markdown",
   "metadata": {
    "deletable": false,
    "editable": false,
    "nbgrader": {
     "cell_type": "markdown",
     "checksum": "b1059c0cdc698b7c1d5477c2cbaf0c10",
     "grade": false,
     "grade_id": "question-download-data",
     "locked": true,
     "schema_version": 3,
     "solution": false,
     "task": false
    }
   },
   "source": [
    "## Download Data Using EarthPy\n",
    "\n",
    "In the cell below, add code **after the line for `Your Code Here`**, replacing `raise NotImplementedError()` with your code, to complete the following task:\n",
    "\n",
    "* **Use a loop to download the following datasets using earthpy**: \n",
    "    * lax-monthly-mean-min-temp-fahr-1992-2018.csv from https://ndownloader.figshare.com/files/18601016\n",
    "        * The dataset contains the monthly mean of minimum temperature (Fahrenheit) that occurred in each month and year at LAX airport between 1992 and 2018. The data are organized with a row for each year (in order from 1992 to 2018) and a column for each month (in order from January through December). Note that this .csv file has no column headers. \n",
    "    * lax-monthly-total-precip-inches-1992-2018.csv from https://ndownloader.figshare.com/files/18603971\n",
    "        * The dataset contains the total monthly precipitation (inches) for each month and year in California between 1992 and 2018. The data are organized with a row for each month (in order from January to February) and a column for each year(in order from 1992 to 2018). Note that this .csv file has column headers for the year and one column for monthly mean (inches). "
   ]
  },
  {
   "cell_type": "code",
   "execution_count": 6,
   "metadata": {
    "deletable": false,
    "nbgrader": {
     "cell_type": "code",
     "checksum": "b85190dc7bb17a05a83267b6276796a3",
     "grade": true,
     "grade_id": "student-download-data-answer",
     "locked": false,
     "points": 2,
     "schema_version": 3,
     "solution": true,
     "task": false
    }
   },
   "outputs": [],
   "source": [
    "# Create list of urls\n",
    "urls = [\"https://ndownloader.figshare.com/files/18601016\",\n",
    "        \"https://ndownloader.figshare.com/files/18603971\"]\n",
    "\n",
    "# Loop thru urls and download each one\n",
    "for url in urls:\n",
    "    et.data.get_data(url=url)"
   ]
  },
  {
   "cell_type": "markdown",
   "metadata": {
    "deletable": false,
    "editable": false,
    "nbgrader": {
     "cell_type": "markdown",
     "checksum": "b9e4cf3a62835e1bb8bc35cf994cd345",
     "grade": false,
     "grade_id": "question-set-wd",
     "locked": true,
     "schema_version": 3,
     "solution": false,
     "task": false
    }
   },
   "source": [
    "## Set Working Directory\n",
    "\n",
    "In the cell below, add code **after the line for `Your Code Here`**, replacing `raise NotImplementedError()` with your code, to set your working directory to **your `earth-analytics` directory in your home directory**.\n",
    "\n",
    "Be sure to use the appropriate functions that will allow your code to run successfully on any operating system."
   ]
  },
  {
   "cell_type": "code",
   "execution_count": 7,
   "metadata": {
    "deletable": false,
    "nbgrader": {
     "cell_type": "code",
     "checksum": "93038c07f29e4482f88a8310b6244ac3",
     "grade": true,
     "grade_id": "student-set-wd-answer",
     "locked": false,
     "points": 2,
     "schema_version": 3,
     "solution": true,
     "task": false
    }
   },
   "outputs": [
    {
     "data": {
      "text/plain": [
       "'C:\\\\Users\\\\dphil\\\\earth-analytics'"
      ]
     },
     "execution_count": 7,
     "metadata": {},
     "output_type": "execute_result"
    }
   ],
   "source": [
    "# Set working directory\n",
    "work_dir = os.path.join(et.io.HOME, \"earth-analytics\")\n",
    "\n",
    "# Change to working directory\n",
    "os.chdir(work_dir)\n",
    "\n",
    "# Check to see if dir changed correctly\n",
    "os.getcwd()"
   ]
  },
  {
   "cell_type": "markdown",
   "metadata": {
    "deletable": false,
    "editable": false,
    "nbgrader": {
     "cell_type": "markdown",
     "checksum": "4551ec2a5d73dd4b3e0f76701e9a19cc",
     "grade": false,
     "grade_id": "question-import-data",
     "locked": true,
     "schema_version": 3,
     "solution": false,
     "task": false
    }
   },
   "source": [
    "## Check Paths and Import Data\n",
    "\n",
    "In the cell below, add your code **after the line for `Your Code Here`**, replacing `raise NotImplementedError()` with your code, to complete the following task:\n",
    "\n",
    "**For each file, write a conditional statement** to:\n",
    "* Import the file into the appropriate data structure if the relative path to that file exists.\n",
    "* Print a helpful message if the relative path to that file does not exist.\n",
    "\n",
    "Aim to reduce repetition in your code with reusable variables for the paths. Be sure to use the appropriate functions that will allow your code to run successfully on any operating system.\n",
    "\n",
    "It can help to open each .csv file and review the structure, headers, etc to identify which data structure is most appropriate for which file. "
   ]
  },
  {
   "cell_type": "code",
   "execution_count": 8,
   "metadata": {
    "deletable": false,
    "nbgrader": {
     "cell_type": "code",
     "checksum": "6c7ceb2b316b9f26861c3b4db32673ef",
     "grade": true,
     "grade_id": "student-import-data-answer",
     "locked": false,
     "points": 8,
     "schema_version": 3,
     "solution": true,
     "task": false
    }
   },
   "outputs": [],
   "source": [
    "# Set relative path to data dir for both datasets\n",
    "dir_path = os.path.join(work_dir, \"data\", \"earthpy-downloads\")\n",
    "\n",
    "# Set path to both datasets\n",
    "temps_fpath = os.path.join(dir_path, \n",
    "                          \"lax-monthly-mean-min-temp-fahr-1992-2018.csv\") \n",
    "\n",
    "precip_fpath = os.path.join(dir_path,\n",
    "                          \"lax-monthly-total-precip-inches-1992-2018.csv\")\n",
    "\n",
    "# Import LAX temp data if the path exists\n",
    "if os.path.exists(temps_fpath):\n",
    "    temps = np.loadtxt(temps_fpath, delimiter=\",\")\n",
    "else:\n",
    "    print(\"Temperature file not found\")\n",
    "    \n",
    "# Import LAX precip data if the path exists:\n",
    "if os.path.exists(precip_fpath):\n",
    "    precip = pd.read_csv(precip_fpath)\n",
    "else:\n",
    "    print(\"Precipitation file not found\")"
   ]
  },
  {
   "cell_type": "markdown",
   "metadata": {
    "deletable": false,
    "editable": false,
    "nbgrader": {
     "cell_type": "markdown",
     "checksum": "52b77277772058c6532a7d028398914f",
     "grade": false,
     "grade_id": "cell-bee04daffb68cd1d",
     "locked": true,
     "schema_version": 3,
     "solution": false,
     "task": false
    }
   },
   "source": [
    "## Convert Monthly Mean of Total Precipitation to Millimeters\n",
    "\n",
    "In the cell below, add code **after the line for `Your Code Here`**, replacing `raise NotImplementedError()` with your code, to complete the following task:\n",
    "\n",
    "1. Convert the monthly means for total precipitation to millimeters using the function that you defined at the top of this notebook.\n",
    "3. Save the final result to a new column in the **pandas** dataframe, and display the final dataframe. \n",
    "    \n",
    "It can help to review how to create a new column from a calculation in a **pandas** dataframe."
   ]
  },
  {
   "cell_type": "code",
   "execution_count": 9,
   "metadata": {
    "deletable": false,
    "nbgrader": {
     "cell_type": "code",
     "checksum": "432bd29da31dc5a27a4e97d2d3c0f530",
     "grade": true,
     "grade_id": "cell-c00d477c563d6f24",
     "locked": false,
     "points": 0,
     "schema_version": 3,
     "solution": true,
     "task": false
    }
   },
   "outputs": [],
   "source": [
    "# Add new column with precipitation in mm\n",
    "precip['precip_mm'] = in_to_mm(inches = precip['monthly_mean'])"
   ]
  },
  {
   "cell_type": "markdown",
   "metadata": {
    "deletable": false,
    "editable": false,
    "nbgrader": {
     "cell_type": "markdown",
     "checksum": "c024a790419e1cb7386ddcdac9a0e296",
     "grade": false,
     "grade_id": "cell-d588e2e609198cc7",
     "locked": true,
     "schema_version": 3,
     "solution": false,
     "task": false
    }
   },
   "source": [
    "## Calculate Monthly Mean of Minimum Temperature in Celsius\n",
    "\n",
    "In the cell below, add code **after the line for `Your Code Here`**, replacing `raise NotImplementedError()` with your code, to complete the following tasks:\n",
    "\n",
    "1. Calculate the mean of the temperature values for each month (i.e. across all years of data).\n",
    "2. Convert the temperature units to Celsius using the function that you defined at the top of this notebook.\n",
    "3. Save the final result to a new **numpy** array and display the new array of monthly mean temp in Celsius.\n",
    "\n",
    "Aim to use the most concise code that accomplishes this goal. Recall that you can pass the output of one function as the input to another function. "
   ]
  },
  {
   "cell_type": "code",
   "execution_count": 10,
   "metadata": {
    "deletable": false,
    "nbgrader": {
     "cell_type": "code",
     "checksum": "8544f77368ac171f59c14f58ef35c513",
     "grade": true,
     "grade_id": "cell-d9da6dbbfced7c0b",
     "locked": false,
     "points": 0,
     "schema_version": 3,
     "solution": true,
     "task": false
    },
    "scrolled": false
   },
   "outputs": [
    {
     "data": {
      "text/plain": [
       "array([ 9.66049383, 10.09876543, 11.27983539, 12.22016461, 14.30246914,\n",
       "       16.04526749, 17.88683128, 18.2037037 , 17.59876543, 15.40329218,\n",
       "       12.06378601,  9.44032922])"
      ]
     },
     "execution_count": 10,
     "metadata": {},
     "output_type": "execute_result"
    }
   ],
   "source": [
    "# Convert array to Celsius \n",
    "# Argument is result of mean of array\n",
    "temps_mean_c = f_to_c(f=np.mean(temps, axis=0))\n",
    "\n",
    "# Display new array\n",
    "temps_mean_c"
   ]
  },
  {
   "cell_type": "markdown",
   "metadata": {
    "deletable": false,
    "editable": false,
    "nbgrader": {
     "cell_type": "markdown",
     "checksum": "24ad3338b06dfda57e302c915bddc67f",
     "grade": false,
     "grade_id": "cell-a6794af1da050cf9",
     "locked": true,
     "schema_version": 3,
     "solution": false,
     "task": false
    }
   },
   "source": [
    "## Get Month Names and Check Shape For Plotting \n",
    "\n",
    "In the cell below, add code **after the line for `Your Code Here`**, replacing `raise NotImplementedError()` with your code, to complete the following tasks:\n",
    "\n",
    "1. Select the month names and save as a new **pandas** series. \n",
    "2. Use a conditional statement to:\n",
    "    * Check whether the shape of the **numpy** array for temperature is the same as the shape of the **pandas** series. (Note that you can actually use the same code to check the shape of the **numpy** array and the **pandas** series.) \n",
    "    * Print a message indicating whether or not the **numpy** array for temperature can be plotted with the **pandas** series. \n",
    "    \n",
    "It can help to review how to select data from **pandas** dataframes as a series. "
   ]
  },
  {
   "cell_type": "code",
   "execution_count": 11,
   "metadata": {
    "deletable": false,
    "nbgrader": {
     "cell_type": "code",
     "checksum": "65287bfd12ec20da251764976833cad3",
     "grade": true,
     "grade_id": "cell-f65afc09d3889c3d",
     "locked": false,
     "points": 0,
     "schema_version": 3,
     "solution": true,
     "task": false
    }
   },
   "outputs": [
    {
     "name": "stdout",
     "output_type": "stream",
     "text": [
      "Array and series can be plotted together!\n"
     ]
    }
   ],
   "source": [
    "# Select month names and save as series\n",
    "months = pd.Series(precip['month'])\n",
    "\n",
    "# Check shapes of np array and pd series\n",
    "if months.shape == temps_mean_c.shape:\n",
    "    print(\"Array and series can be plotted together!\")\n",
    "else:\n",
    "    print(\"Array and series are not the same length.\")"
   ]
  },
  {
   "cell_type": "markdown",
   "metadata": {
    "deletable": false,
    "editable": false,
    "nbgrader": {
     "cell_type": "markdown",
     "checksum": "0df0d7b75fec45618ce9b2a532e20178",
     "grade": false,
     "grade_id": "question-plot",
     "locked": true,
     "schema_version": 3,
     "solution": false
    }
   },
   "source": [
    "## Figure of Monthly Means of Total Precipitation and Minimum Temperature at LAX\n",
    "\n",
    "From the previous assignment, you have an idea of the fire season (i.e. the range of time within a year in which fire is most likely to occur) in California. \n",
    "\n",
    "Create a complimentary figure to show the monthly means of total precipitation and minimum temperature for the Los Angeles area (as represented by the LAX airport), which is one of the most fire prone areas in the state. \n",
    "\n",
    "In the cell below, add code **after the line for `Your Code Here`**, replacing `raise NotImplementedError()` with your code, to complete the following task:\n",
    "\n",
    "* Create one multi-plot figure that contains two subplots that are **side by side**:\n",
    "    * **left** plot: mean of **total precipitation** for each month\n",
    "        * **Use the pandas series for the month names.**\n",
    "    * **right** plot: mean of **minimum temperature** for each month\n",
    "        * **Use the pandas series for the month names.**\n",
    "* **Use a different color for each plot but you can use the same style if you like.** \n",
    "    * For each plot, be sure to include appropriate titles and axes labels including units of measurement where appropriate. \n",
    "* Add an overall title for the entire figure. \n",
    "\n",
    "For your title and labels, be sure to think about the following pieces of information that could help someone easily interpret the plot:\n",
    "* geographic coverage or extent of data.\n",
    "* duration or temporal extent of the data.\n",
    "* what was actually measured and/or represented by the data.\n",
    "* units of measurement.\n",
    "\n",
    "**Request for the autograding tool that we are building:** please comment out the code line `plt.show()` in your plot code like this: `# plt.show()`. If you do not comment out that code line, you may see an extra empty plot underneath your desired figure. "
   ]
  },
  {
   "cell_type": "code",
   "execution_count": 12,
   "metadata": {
    "deletable": false,
    "nbgrader": {
     "cell_type": "code",
     "checksum": "b8c7dfb6b86657cc21220b5e9aa08df9",
     "grade": false,
     "grade_id": "student-create-plot-1-answer",
     "locked": false,
     "schema_version": 3,
     "solution": true,
     "task": false
    }
   },
   "outputs": [
    {
     "data": {
      "image/png": "[encoded data removed]",
      "text/plain": [
       "<Figure size 864x432 with 2 Axes>"
      ]
     },
     "metadata": {
      "needs_background": "light"
     },
     "output_type": "display_data"
    }
   ],
   "source": [
    "# Create figure with 2 plots\n",
    "fig, (precip_plot, temp_plot) = plt.subplots(1,2, figsize=(12,6))\n",
    "\n",
    "# Provide title for figure\n",
    "fig.suptitle(\"Fire Season in California, 1992-2018\")\n",
    "\n",
    "\"\"\"For total precip plot on left\"\"\"\n",
    "# Create bar graph\n",
    "precip_plot.bar(months, precip['precip_mm'], \n",
    "                color=\"lightblue\")\n",
    "\n",
    "# Set appearance and labels\n",
    "precip_plot.set(xlabel=\"Month\", \n",
    "                ylabel=\"Mean total Precipitation (mm)\",\n",
    "                title=\"Mean Total Precipitation per Month\")\n",
    "\n",
    "\n",
    "\"\"\"For mean min temp plot on right\"\"\"\n",
    "# Create bar graph\n",
    "temp_plot.bar(months, temps_mean_c, \n",
    "              color='orange')\n",
    "\n",
    "# Set appearance and labels\n",
    "temp_plot.set(xlabel=\"Month\", \n",
    "              ylabel=\"Mean Min. Temperature, °C\",\n",
    "              title=\"Mean Min Temperature per Month\")\n",
    "\n",
    "### DO NOT REMOVE LINE BELOW ###\n",
    "ts_1_plot = nb.convert_axes(plt, which_axes=\"all\")"
   ]
  },
  {
   "cell_type": "markdown",
   "metadata": {
    "deletable": false,
    "editable": false,
    "nbgrader": {
     "cell_type": "markdown",
     "checksum": "3a5adf77953a3f2b68e5dd9a9501fab6",
     "grade": false,
     "grade_id": "question-explain-pep-8",
     "locked": true,
     "schema_version": 3,
     "solution": false,
     "task": false
    }
   },
   "source": [
    "## Discuss Your Plot\n",
    "\n",
    "In the Markdown cell below, answer the following questions using any kind of Markdown list.\n",
    "\n",
    "Review your figure on the Fire Season in California from the previous assignment:\n",
    "1. How does the pattern of the monthly means of total precipitation at LAX compare to the fire season in California?\n",
    "2. How does the pattern of the monthly means of minimum temperature at LAX compare to the fire season in California?\n",
    "\n",
    "Remove any existing text in the cell before adding your answer."
   ]
  },
  {
   "cell_type": "markdown",
   "metadata": {
    "deletable": false,
    "nbgrader": {
     "cell_type": "markdown",
     "checksum": "df8102f3aed5c9b3f6389d829d749f00",
     "grade": true,
     "grade_id": "cell-e5b21fde84e3e84e",
     "locked": false,
     "points": 12,
     "schema_version": 3,
     "solution": true,
     "task": false
    }
   },
   "source": [
    "1. There seems to be a negative correlation between minimum total monthly precipitation and fire size and count. In the summer months (May to Sep), the precipitation drops dramatically. Fire count ( >100 acres ) is at the highest values in June, July, and August and mean fire size is likewise at elevated values (though that graph peaks in October). This makes intuitive sense, as one would expect precipitation to limit fire ignition and propagation.\n",
    "\n",
    "2. Monthly minimum temperature seems to be correlated with both fire measurements (mean size and count). Mean minimum temperatures are highest in July, August, and September, and fire size and count are likewise elevated (though we observe peaks slightly earlier and slightly later, respectively)."
   ]
  },
  {
   "cell_type": "markdown",
   "metadata": {
    "deletable": false,
    "editable": false,
    "nbgrader": {
     "cell_type": "markdown",
     "checksum": "a89607fe22a72b24908eb7196b386f5b",
     "grade": false,
     "grade_id": "cell-62684fb141b432a2",
     "locked": true,
     "schema_version": 3,
     "solution": false,
     "task": false
    }
   },
   "source": [
    "## Discuss Your Workflow\n",
    "\n",
    "In the Markdown cell below, answer the following questions using any kind of Markdown list.\n",
    "\n",
    "**Pandas** dataframes actually support summary statistics (e.g. mean, max) using `axis=`, just like **numpy** arrays. See <a href=\"https://stackoverflow.com/questions/22149584/what-does-axis-in-pandas-mean\" target=\"_blank\">this post on stackoverflow</a> and <a href=\"https://www.geeksforgeeks.org/python-pandas-dataframe-mean/\" target=\"_blank\">this short tutorial</a> for examples. \n",
    "* How could you use this code to calculate the monthly means for the **pandas** dataframe? \n",
    "    * Which axis would need to use for the **pandas** dataframe?\n",
    "    * How can you capture the results of the calculation within the **pandas** dataframe? \n",
    "\n",
    "Note: you do not need to write new code to address these questions, but rather explain the process to achieve the outcome. \n",
    "\n",
    "Remove any existing text in the cell before adding your answer."
   ]
  },
  {
   "cell_type": "markdown",
   "metadata": {
    "deletable": false,
    "nbgrader": {
     "cell_type": "markdown",
     "checksum": "0d21fdcebd124cde99f2dcfa4b27dbf6",
     "grade": true,
     "grade_id": "student-explain-pep-8",
     "locked": false,
     "points": 8,
     "schema_version": 3,
     "solution": true,
     "task": false
    }
   },
   "source": [
    "- You could use code like `df['monthly_mean'].mean(axis=1)` to find the mean of the columns, which are the months.\n",
    "- You would need axis = 1, where 1 means columns (months).\n",
    "- You would add a new column, called 'monthly_mean' above. And if you don't like that column, df.drop it!"
   ]
  },
  {
   "cell_type": "markdown",
   "metadata": {},
   "source": [
    "## Practice Pseudo-coding\n",
    "\n",
    "In the Markdown cell below, answer the following questions using any kind of Markdown list.\n",
    "\n",
    "Practice pseudo-coding: you have code to download data and other code to import data into a data structure: \n",
    "1. Based on either a **numpy** array or **pandas** dataframe, list the steps that you would need to include in a function definition if you wanted the function to both download and import data into that data structure. \n",
    "    * It can help to begin with listing out all of the steps for each task and then reorganizing them as needed. \n",
    "2. Which step(s) make writing this function difficult and why? Is there anything that you would need to know that you have not learned yet?\n",
    "    * Think about which placeholder variables you would need to accomplish these steps. \n",
    "3. Would it be possible to write one function that could import data into either a **numpy** array or **pandas** dataframe, depending on the input parameter? How might that work?\n",
    "\n",
    "Note: you do not need to write new code to address these questions, but rather explain the process to achieve the outcome. \n",
    "\n",
    "Remove any existing text in the cell before adding your answer."
   ]
  },
  {
   "cell_type": "markdown",
   "metadata": {
    "deletable": false,
    "nbgrader": {
     "cell_type": "markdown",
     "checksum": "1dd9f36660ca5c57d1a6bf483f54c982",
     "grade": true,
     "grade_id": "cell-d7456c30def5b3b3",
     "locked": false,
     "points": 0,
     "schema_version": 3,
     "solution": true,
     "task": false
    }
   },
   "source": [
    "- The steps are as follows:\n",
    " 1. Specify url \n",
    " 2. Download data from url\n",
    " 3. Use os.path.join to create path to dataset\n",
    " 4. Check if os.path.exists\n",
    " 5. Print a message if the path does not exist\n",
    " 6. Otherwise, import the data using pandas or numpy\n",
    " \n",
    " \n",
    " - Step 6 would be the most challenging because the function would need to determine the \"right\" data structure based on content. I would need to know how to check for data that numpy arrays cannot handle (text). I would then use a conditional as indicated below. I would need a structure to temporarily hold the data while the function iterates through it. A try... except statement might also work (try to import into numpy, except import into pandas).\n",
    "     ```\n",
    "     if any data in dataset has dtype = text:\n",
    "         import into pandas\n",
    "     elif any data in dataset has dtype != text:\n",
    "         import into numpy\n",
    "         ```\n",
    " \n",
    " \n",
    " - You could write code that checks the data for text. If the dataset contains text then the text is probably header info and should be imported as a pandas df. If dtype != strings then the dataset should be imported into a numpy array which can only hold numeric data. Or you could cheat and use pandas for everything. "
   ]
  },
  {
   "cell_type": "code",
   "execution_count": null,
   "metadata": {
    "deletable": false,
    "editable": false,
    "nbgrader": {
     "cell_type": "code",
     "checksum": "ed98cac854d5222f06e8047361ccc8e1",
     "grade": true,
     "grade_id": "cell-8ad798858d89ee05",
     "locked": true,
     "points": 14,
     "schema_version": 3,
     "solution": false,
     "task": false
    }
   },
   "outputs": [],
   "source": []
  }
 ],
 "metadata": {
  "kernelspec": {
   "display_name": "Python 3",
   "language": "python",
   "name": "python3"
  },
  "language_info": {
   "codemirror_mode": {
    "name": "ipython",
    "version": 3
   },
   "file_extension": ".py",
   "mimetype": "text/x-python",
   "name": "python",
   "nbconvert_exporter": "python",
   "pygments_lexer": "ipython3",
   "version": "3.7.3"
  },
  "varInspector": {
   "cols": {
    "lenName": 16,
    "lenType": 16,
    "lenVar": 40
   },
   "kernels_config": {
    "python": {
     "delete_cmd_postfix": "",
     "delete_cmd_prefix": "del ",
     "library": "var_list.py",
     "varRefreshCmd": "print(var_dic_list())"
    },
    "r": {
     "delete_cmd_postfix": ") ",
     "delete_cmd_prefix": "rm(",
     "library": "var_list.r",
     "varRefreshCmd": "cat(var_dic_list()) "
    }
   },
   "types_to_exclude": [
    "module",
    "function",
    "builtin_function_or_method",
    "instance",
    "_Feature"
   ],
   "window_display": false
  }
 },
 "nbformat": 4,
 "nbformat_minor": 2
}
