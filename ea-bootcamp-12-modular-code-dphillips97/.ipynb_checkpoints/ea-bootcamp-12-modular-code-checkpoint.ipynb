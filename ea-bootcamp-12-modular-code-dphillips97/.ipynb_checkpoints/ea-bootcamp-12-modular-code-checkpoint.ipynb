{
 "cells": [
  {
   "cell_type": "markdown",
   "metadata": {},
   "source": [
    "Before you turn this problem in, make sure everything runs as expected. First, **restart the kernel** (in the menubar, select Kernel$\\rightarrow$Restart) and then **run all cells** (in the menubar, select Cell$\\rightarrow$Run All).\n",
    "\n",
    "Make sure you fill in any place that says `YOUR CODE HERE` or \"YOUR ANSWER HERE\", as well as your name and collaborators below:"
   ]
  },
  {
   "cell_type": "code",
   "execution_count": 1,
   "metadata": {},
   "outputs": [],
   "source": [
    "NAME = \"Drew Phillips\"\n",
    "COLLABORATORS = \"\""
   ]
  },
  {
   "cell_type": "markdown",
   "metadata": {},
   "source": [
    "---"
   ]
  },
  {
   "cell_type": "markdown",
   "metadata": {
    "deletable": false,
    "editable": false,
    "nbgrader": {
     "cell_type": "markdown",
     "checksum": "8115d981c69746150727eb6228c8d5a7",
     "grade": false,
     "grade_id": "header-logo",
     "locked": true,
     "schema_version": 3,
     "solution": false
    }
   },
   "source": [
    "<img style=\"float: left;\" src=\"earth-lab-logo-rgb.png\" width=\"150\" height=\"150\" />\n",
    "\n",
    "# Earth Analytics Education"
   ]
  },
  {
   "cell_type": "markdown",
   "metadata": {
    "deletable": false,
    "editable": false,
    "nbgrader": {
     "cell_type": "markdown",
     "checksum": "faf9a8903250535211e5ba358c0704cb",
     "grade": false,
     "grade_id": "hw-instructions",
     "locked": true,
     "schema_version": 3,
     "solution": false
    }
   },
   "source": [
    "# Week 12 Homework Template\n",
    "\n",
    "To complete assignment 12, be sure you have reviewed all pages of Chapter 19 in Section 7 of the <a href=\"https://www.earthdatascience.org/courses/intro-to-earth-data-science/\" target=\"_blank\">Intro to Earth Data Science online textbook</a> online textbook, which covers writing functions in **Python**.   \n",
    "\n",
    "Read the instructions for each question carefully to successfully complete the required tasks.\n",
    "\n",
    "**Request for the autograding tool that we are building:** please do not rename the notebook file. We are working on the tool to allow renamed notebooks, but for now, please leave the notebook name as `ea-bootcamp-12-modular-code.ipynb`.\n",
    "\n",
    "\n",
    "## Adherence to PEP 8 \n",
    "\n",
    "Be sure to use clear and succinct names for variables, etc, and to organize your code to support readability.\n",
    "\n",
    "You will also be graded on adherence to PEP 8 standards including length of code lines and the appropriate use of comments and white space.\n",
    "\n",
    "Thus, be sure to add comments throughout your code (note that there are no pre-populated comments in this notebook), and use the `autopep8` tool to help you implement some of the PEP 8 standards. \n",
    "\n",
    "You can review the <a href=\"https://www.earthdatascience.org/courses/intro-to-earth-data-science/write-clean-expressive-code/intro-to-clean-code/python-pep-8-style-guide/\" target=\"_blank\">online textbook page on PEP 8 </a> as needed.\n",
    "\n",
    "\n",
    "## Assignment Data\n",
    "\n",
    "For this assignment, you will write **Python** code to download and work with data on average monthly maximum temperatures (Fahrenheit) for the Sonoma County Airport and San Diego area in California between 1999 and 2018 provided by <a href=\"https://w2.weather.gov/climate/xmacis.php?wfo=mtr\" target=\"_blank\">the National Weather Service</a>."
   ]
  },
  {
   "cell_type": "code",
   "execution_count": 2,
   "metadata": {
    "deletable": false,
    "editable": false,
    "nbgrader": {
     "cell_type": "code",
     "checksum": "9406b5deaded509d2159b7ec9d14fa69",
     "grade": false,
     "grade_id": "core-imports",
     "locked": true,
     "schema_version": 3,
     "solution": false
    }
   },
   "outputs": [],
   "source": [
    "# Core imports needed for grading\n",
    "import matplotcheck.notebook as nb\n",
    "import matplotcheck.timeseries as ts"
   ]
  },
  {
   "cell_type": "markdown",
   "metadata": {
    "deletable": false,
    "editable": false,
    "nbgrader": {
     "cell_type": "markdown",
     "checksum": "293a548546f86b2af69ab8b32559b610",
     "grade": false,
     "grade_id": "question-student-imports",
     "locked": true,
     "schema_version": 3,
     "solution": false
    }
   },
   "source": [
    "## Import Python Packages\n",
    "\n",
    "In the cell below, add code **after the line for `Your Code Here`**, replacing `raise NotImplementedError()` with your code to import the packages/modules needed to:\n",
    "* create plots \n",
    "* set your working directory\n",
    "* download data using earthpy functions\n",
    "* work with numpy arrays\n",
    "\n",
    "Be sure to list the package imports following the appropriate PEP 8 order. "
   ]
  },
  {
   "cell_type": "code",
   "execution_count": 3,
   "metadata": {
    "deletable": false,
    "nbgrader": {
     "cell_type": "code",
     "checksum": "e487e16c8f967f9098581407ce4bca96",
     "grade": true,
     "grade_id": "student-imports-answer",
     "locked": false,
     "points": 2,
     "schema_version": 3,
     "solution": true
    }
   },
   "outputs": [],
   "source": [
    "import os \n",
    "import matplotlib.pyplot as plt\n",
    "import numpy as np\n",
    "import pandas as pd\n",
    "import earthpy as et"
   ]
  },
  {
   "cell_type": "markdown",
   "metadata": {
    "deletable": false,
    "editable": false,
    "nbgrader": {
     "cell_type": "markdown",
     "checksum": "402e52d6de92c6f1777becb9dc50a4e8",
     "grade": false,
     "grade_id": "cell-040c81812f784493",
     "locked": true,
     "schema_version": 3,
     "solution": false,
     "task": false
    }
   },
   "source": [
    "## Set Working Directory\n",
    "\n",
    "In the cell below, add code **after the line for `Your Code Here`**, replacing `raise NotImplementedError()` with your code, to complete the following task:\n",
    "\n",
    "* **Use a conditional statement** to:\n",
    "    * Set the working directory to **your `earth-analytics` directory in your home directory** if the path exists.\n",
    "    * Print a helpful message if the path does not exist. \n",
    "* **Use reusable variable(s) to reduce repetition in your code.**\n",
    "\n",
    "Be sure to use the appropriate functions that will allow your code to run successfully on any operating system."
   ]
  },
  {
   "cell_type": "code",
   "execution_count": 4,
   "metadata": {
    "deletable": false,
    "nbgrader": {
     "cell_type": "code",
     "checksum": "705f5f58a96cf32a33b494ce5f31e3e1",
     "grade": true,
     "grade_id": "cell-209b267e617f0e90",
     "locked": false,
     "points": 0,
     "schema_version": 3,
     "solution": true,
     "task": false
    }
   },
   "outputs": [
    {
     "name": "stdout",
     "output_type": "stream",
     "text": [
      "Changed path to C:\\Users\\dphil\\earth-analytics\n"
     ]
    }
   ],
   "source": [
    "# Create path to earth-analytics dir\n",
    "dir_path = os.path.join(et.io.HOME, \"earth-analytics\")\n",
    "\n",
    "# Go to path if it exists\n",
    "# Print messages on success and failure\n",
    "if os.path.exists(dir_path):\n",
    "    os.chdir(dir_path)\n",
    "    print(\"Changed path to {}\".format(dir_path))\n",
    "else:\n",
    "    print(\"Path to directory does not exist.\\n\" + \n",
    "            \"Please check and try again.\")"
   ]
  },
  {
   "cell_type": "markdown",
   "metadata": {
    "deletable": false,
    "editable": false,
    "nbgrader": {
     "cell_type": "markdown",
     "checksum": "faaa53b9998608813c845056866910fe",
     "grade": false,
     "grade_id": "question-download-data",
     "locked": true,
     "schema_version": 3,
     "solution": false,
     "task": false
    }
   },
   "source": [
    "## Define Function to Download and Import Data into Numpy Array\n",
    "\n",
    "In the cell below, add code **after the line for `Your Code Here`**, replacing `raise NotImplementedError()` with your code, to complete the following task:\n",
    "\n",
    "* Write a function to download and import a .csv file without headers into a **numpy** array.\n",
    "    * Write this function so that it **overwrites previously downloaded files** that have the same name.\n",
    "        * It can help to check out the help on the download function to see what options are available for this. \n",
    "\n",
    "Be sure to include a docstring with a brief description of the function (i.e. how it works, purpose) as well as identify the input parameters (i.e. type, description) and the returned output (i.e. type, description).\n",
    "\n",
    "It can be useful to start with the individual codes that you need to run each task individually and then combine them into one function with the appropriate parameters. "
   ]
  },
  {
   "cell_type": "code",
   "execution_count": 5,
   "metadata": {
    "deletable": false,
    "nbgrader": {
     "cell_type": "code",
     "checksum": "42c272c5bec56d2999259c2a3123d4e9",
     "grade": true,
     "grade_id": "cell-fae8c2bd764db315",
     "locked": false,
     "points": 0,
     "schema_version": 3,
     "solution": true,
     "task": false
    }
   },
   "outputs": [],
   "source": [
    "def download_import_to_array(download_url, fpath):\n",
    "    \"\"\"Download file from specified url \n",
    "    and use specified filepath to import \n",
    "    file into a numpy array. Will overwrite\n",
    "    existing data.\n",
    "    \n",
    "    Parameters\n",
    "    ----------\n",
    "    download_url: string\n",
    "        Text string for URL to online csv file\n",
    "        \n",
    "    fpath: string\n",
    "         Text string for filepath to csv file \n",
    "         downloaded to earth-analytics directory\n",
    "     \n",
    "     Returns\n",
    "     -------\n",
    "     arr: numpy array\n",
    "         Array created from downloaded csv file\n",
    "\"\"\"\n",
    "    \n",
    "    et.data.get_data(url=download_url, replace=True)\n",
    "    \n",
    "    arr = np.loadtxt(fpath, delimiter=\",\")\n",
    "    \n",
    "    return arr"
   ]
  },
  {
   "cell_type": "markdown",
   "metadata": {
    "deletable": false,
    "editable": false,
    "nbgrader": {
     "cell_type": "markdown",
     "checksum": "8f80864a47c50814f57d14e7cddb7f43",
     "grade": false,
     "grade_id": "cell-f5546f37bff98352",
     "locked": true,
     "schema_version": 3,
     "solution": false,
     "task": false
    }
   },
   "source": [
    "## Define Function to Calculate Median Along Axis of Numpy Array and Convert Temp Units\n",
    "\n",
    "In the cell below, add code **after the line for `Your Code Here`**, replacing `raise NotImplementedError()` with your code, to complete the following task:\n",
    "\n",
    "* Write a function to **calculate the median values along an axis and convert values from Fahrenheit to Celsius** units using the following equation:\n",
    "    * Celsius = (Fahrenheit - 32) / 1.8\n",
    "    * Note that including `Fahrenheit - 32` within parenthesis `()` tells `Python` to execute that calculation first.   \n",
    "\n",
    "Be sure to write the function so that **any valid value for the axis (0, 1, None)** can be provided to the function. \n",
    "\n",
    "Be sure to include a docstring with a brief description of the function (i.e. how it works, purpose) as well as identify the input parameters (i.e. type, description) and the returned output (i.e. type, description).\n",
    "\n",
    "It can be useful to start with the individual codes that you need to run each task individually and then combine them into one function with the appropriate parameters. "
   ]
  },
  {
   "cell_type": "code",
   "execution_count": 6,
   "metadata": {
    "deletable": false,
    "nbgrader": {
     "cell_type": "code",
     "checksum": "142dc9b4ed3cf2d9912833df477e1be1",
     "grade": true,
     "grade_id": "cell-4be81b17f61f0c37",
     "locked": false,
     "points": 0,
     "schema_version": 3,
     "solution": true,
     "task": false
    }
   },
   "outputs": [],
   "source": [
    "def mean_temp_to_median_C(in_temp_f, calc_axis=None):\n",
    "    \"\"\"Read temperature in degrees Fahrenheit\n",
    "    and return median in degrees Celsius\n",
    "    \n",
    "    Parameters\n",
    "    ----------\n",
    "    in_temp_f: int or float\n",
    "        Number representing temperature\n",
    "        in degrees Fahrenheit\n",
    "        \n",
    "    calc_axis (optional): 0, 1, or None\n",
    "        Object for method of calculating mean \n",
    "        via numpy where\n",
    "        0: calculate column by column\n",
    "        1: calculate row by row\n",
    "        \n",
    "    Returns\n",
    "    -------\n",
    "    median_temp_c: numpy array \n",
    "        Array representing median temps \n",
    "    \"\"\"\n",
    "    \n",
    "    if calc_axis is not None:\n",
    "        median_temp_f = np.median(in_temp_f, calc_axis)\n",
    "    \n",
    "    else:\n",
    "        median_temp_f = np.median(in_temp_f)\n",
    "    \n",
    "    median_temp_c = (median_temp_f - 32) / 1.8\n",
    "    \n",
    "    return median_temp_c    "
   ]
  },
  {
   "cell_type": "markdown",
   "metadata": {
    "deletable": false,
    "editable": false,
    "nbgrader": {
     "cell_type": "markdown",
     "checksum": "2c8e8ed4978700ebbbafff1976f15255",
     "grade": false,
     "grade_id": "cell-6fe4a53c9c561bdc",
     "locked": true,
     "schema_version": 3,
     "solution": false,
     "task": false
    }
   },
   "source": [
    "## Download and Import Data into Numpy Arrays\n",
    "\n",
    "In the cell below, add code **after the line for `Your Code Here`**, replacing `raise NotImplementedError()` with your code, to complete the following tasks:\n",
    "\n",
    "1. Use your custom function to download and import the following data files into individual **numpy** arrays.\n",
    "2. Print the shape of each array:\n",
    "  * san-diego-monthly-mean-max-temp-fahr-1999-2018.csv from https://ndownloader.figshare.com/files/18741818\n",
    "      * The dataset contains the average monthly maximum temperature for each month and year for the San Diego area between 1999 and 2018. The data are organized with a row for each month (in order from January to December) and a column for each year (in order from 1999 to 2018). Note that this .csv file does not contain headers. \n",
    "  * sonoma-monthly-mean-max-temp-fahr-1999-2018.csv from https://ndownloader.figshare.com/files/18741821\n",
    "      * The dataset contains the average monthly maximum temperature for each month and year at the Sonoma County Airport between 1999 and 2018. The data are organized with a row for each month (in order from January to December) and a column for each year (in order from 1999 to 2018). Note that this .csv file does not contain headers. \n",
    "            \n",
    "Note you are not required to do loop to answer this question. "
   ]
  },
  {
   "cell_type": "code",
   "execution_count": 7,
   "metadata": {
    "deletable": false,
    "nbgrader": {
     "cell_type": "code",
     "checksum": "ac711c32326290a8e6450384801bb3ae",
     "grade": true,
     "grade_id": "cell-a43bfa4458cea287",
     "locked": false,
     "points": 0,
     "schema_version": 3,
     "solution": true,
     "task": false
    }
   },
   "outputs": [
    {
     "name": "stdout",
     "output_type": "stream",
     "text": [
      "Downloading from https://ndownloader.figshare.com/files/18741818\n",
      "Downloading from https://ndownloader.figshare.com/files/18741821\n",
      "San Diego array shape is (20, 12)\n",
      "Sonoma County array shape is (20, 12)\n"
     ]
    }
   ],
   "source": [
    "# Set download url for San Diego data\n",
    "sd_url = r'https://ndownloader.figshare.com/files/18741818'\n",
    "\n",
    "# Create relative filepath to San Diego data\n",
    "sd_fpath = os.path.join(\"data\", \"earthpy-downloads\", \n",
    "                        \"san-diego-monthly-mean-max-temp-fahr-1999-2018.csv\")\n",
    "\n",
    "# Download San Diego csv and convert to array\n",
    "sd_max_temps = download_import_to_array(download_url=sd_url, \n",
    "                                        fpath=sd_fpath)\n",
    "\n",
    "# Set download url for Sonoma data\n",
    "sonoma_url='https://ndownloader.figshare.com/files/18741821'\n",
    "\n",
    "# Create relative filepath to Sonoma data\n",
    "sonoma_fpath = os.path.join(\"data\", \"earthpy-downloads\", \n",
    "                            \"sonoma-monthly-mean-max-temp-fahr-1999-2018.csv\")\n",
    "\n",
    "# Download Sonoma csv and convert to array\n",
    "sonoma_max_temps = download_import_to_array(download_url=sonoma_url, \n",
    "                                        fpath=sonoma_fpath)\n",
    "\n",
    "# Print shape of each array\n",
    "print(\"San Diego array shape is {}\".format(sd_max_temps.shape))\n",
    "print(\"Sonoma County array shape is {}\".format(sonoma_max_temps.shape))"
   ]
  },
  {
   "cell_type": "markdown",
   "metadata": {
    "deletable": false,
    "editable": false,
    "nbgrader": {
     "cell_type": "markdown",
     "checksum": "17953b32c6c966d42297847d8d1dd857",
     "grade": false,
     "grade_id": "cell-d588e2e609198cc7",
     "locked": true,
     "schema_version": 3,
     "solution": false,
     "task": false
    }
   },
   "source": [
    "## Calculate Monthly Median of Maximum Temperatures in Celsius\n",
    "\n",
    "In the cell below, add code **after the line for `Your Code Here`**, replacing `raise NotImplementedError()` with your code, to complete the following tasks:\n",
    "\n",
    "1. **Use a loop to run your custom function on each array** to calculate the median maximum temperature values for each month (i.e. across all years of data) in Celsius.\n",
    "2. Capture the results of the loop to a new list. \n",
    "    * Note that each item appended to the new list will be a **numpy** array.\n",
    "3. Use the list index to select and save each item from the results list as a new array: one for San Diego and one for Sonoma County Airport. \n",
    "4. Print each summary array. \n",
    "\n",
    "It can help to review how you can capture the results of a loop to a new list, and recall that once items have been appended to a list, you can access each item using the index value for that item. "
   ]
  },
  {
   "cell_type": "code",
   "execution_count": 8,
   "metadata": {
    "deletable": false,
    "nbgrader": {
     "cell_type": "code",
     "checksum": "8544f77368ac171f59c14f58ef35c513",
     "grade": true,
     "grade_id": "cell-d9da6dbbfced7c0b",
     "locked": false,
     "points": 0,
     "schema_version": 3,
     "solution": true,
     "task": false
    }
   },
   "outputs": [
    {
     "name": "stdout",
     "output_type": "stream",
     "text": [
      "[18.69444444 18.41666667 19.11111111 19.88888889 20.16666667 21.58333333\n",
      " 23.52777778 24.97222222 24.30555556 22.69444444 21.33333333 18.61111111]\n",
      "[14.13888889 16.25       18.77777778 20.36111111 23.94444444 27.88888889\n",
      " 28.25       28.66666667 28.38888889 24.61111111 18.52777778 14.05555556]\n"
     ]
    }
   ],
   "source": [
    "# Create array list holding temp data to be converted\n",
    "array_list = [sd_max_temps, sonoma_max_temps]\n",
    "\n",
    "# Create output list to hold result arrays\n",
    "# after conversion to C\n",
    "out_array_list = []\n",
    "\n",
    "# Loop through input arrays and save resulting\n",
    "# arrays in output list\n",
    "for arr in array_list:\n",
    "    out_array = mean_temp_to_median_C(in_temp_f=arr, calc_axis=0)\n",
    "    out_array_list.append(out_array)\n",
    "\n",
    "# Extract San Diego array from list\n",
    "sd_temps_c = out_array_list[0]\n",
    "\n",
    "# Print summary\n",
    "print(sd_temps_c)\n",
    "\n",
    "# Extract Sonoma array from list\n",
    "sonoma_temps_c = out_array_list[1]\n",
    "\n",
    "# Print summary\n",
    "print(sonoma_temps_c)"
   ]
  },
  {
   "cell_type": "markdown",
   "metadata": {
    "deletable": false,
    "editable": false,
    "nbgrader": {
     "cell_type": "markdown",
     "checksum": "0b850b5ad295a7060cbd8f2baaf941a2",
     "grade": false,
     "grade_id": "question-plot",
     "locked": true,
     "schema_version": 3,
     "solution": false
    }
   },
   "source": [
    "## Figure of Monthly Medians of Maximum Temperature (C) at Sonoma County Airport and San Diego Area\n",
    "\n",
    "In the cell below, add code **after the line for `Your Code Here`**, replacing `raise NotImplementedError()` with your code, to complete the following tasks:\n",
    "\n",
    "You will create one figure **with one plot that contains plot lines for both** Sonoma County Airport and the San Diego area together on the same plot. To do this:\n",
    "\n",
    "1. Create a **numpy** array of abbreviated month names.\n",
    "2. Use the same `ax.plot()` code to a create a plot line for each dataset (i.e. there is only one `ax` object but it is used twice in the code, so that both datasets on are the same plot as lines). \n",
    "    * For each call to `ax`, add a parameter `label = \"Text\"` to provide a label for the legend.\n",
    "    * Use different colors to plot each dataset.\n",
    "3. Add a legend using the code: `ax.legend()`. \n",
    "\n",
    "Note that using `label =` with the `ax` code will populate the legend, so that `ax.legend()` does not need additional information. \n",
    "\n",
    "See examples of this code in action: <a href=\"https://www.earthdatascience.org/courses/earth-analytics-python/use-time-series-data-in-python/floods-return-period-and-probability/#import-usgs-annual-peak-max-data\" target=\"_blank\">scroll down to the plot called Annual Maxima - Downloaded Instantaneous vs. Derived Daily Peak Flows</a>.\n",
    "\n",
    "For each plot, be sure to include appropriate titles and axes labels including units of measurement where appropriate. \n",
    "\n",
    "For your title and labels, be sure to think about the following pieces of information that could help someone easily interpret the plot:\n",
    "* geographic coverage or extent of data.\n",
    "* duration or temporal extent of the data.\n",
    "* what was actually measured and/or represented by the data.\n",
    "* units of measurement.\n",
    "\n",
    "**Request for the autograding tool that we are building:** please comment out the code line `plt.show()` in your plot code like this: `# plt.show()`. If you do not comment out that code line, you may see an extra empty plot underneath your desired figure. "
   ]
  },
  {
   "cell_type": "code",
   "execution_count": 9,
   "metadata": {
    "deletable": false,
    "nbgrader": {
     "cell_type": "code",
     "checksum": "b8c7dfb6b86657cc21220b5e9aa08df9",
     "grade": false,
     "grade_id": "student-create-plot-1-answer",
     "locked": false,
     "schema_version": 3,
     "solution": true,
     "task": false
    }
   },
   "outputs": [
    {
     "data": {
      "image/png": "[encoded data removed]",
      "text/plain": [
       "<Figure size 720x576 with 1 Axes>"
      ]
     },
     "metadata": {
      "needs_background": "light"
     },
     "output_type": "display_data"
    }
   ],
   "source": [
    "# Create np list of month names from existing data\n",
    "months = np.loadtxt(os.path.join(\"data\", \"earthpy-downloads\", \"months.txt\"), \n",
    "                                  dtype=\"str\")\n",
    "\n",
    "# Create figure and axis objects\n",
    "fig, ax = plt.subplots(figsize=(10,8))\n",
    "\n",
    "# Create ax object for San Diego data\n",
    "ax.plot(months, sd_temps_c,\n",
    "        label=\"San Diego Area\",\n",
    "        color=\"#0077be\")\n",
    "\n",
    "# Create ax object for Sonoma data\n",
    "ax.plot(months, sonoma_temps_c,\n",
    "        label=\"Sonoma County Airport\",\n",
    "        color=\"#800020\")\n",
    "\n",
    "# Set title and labels for entire plot\n",
    "ax.set(xlabel=\"Month\",\n",
    "      ylabel=\"Degrees Celsius\",\n",
    "      title=\"Median of Mean Maximum Temperatures by Month\\n\" +\n",
    "            \"in Coastal California, USA 1998-2018\")\n",
    "\n",
    "# Create slightly fancy legend in upper left of fig\n",
    "ax.legend(loc=2, shadow=True)\n",
    "\n",
    "### DO NOT REMOVE LINE BELOW ###\n",
    "ts_1_plot = nb.convert_axes(plt, which_axes=\"all\")"
   ]
  },
  {
   "cell_type": "markdown",
   "metadata": {
    "deletable": false,
    "editable": false,
    "nbgrader": {
     "cell_type": "markdown",
     "checksum": "0827e2dd54fcc2d4ba0ea14a2a28c505",
     "grade": false,
     "grade_id": "question-explain-pep-8",
     "locked": true,
     "schema_version": 3,
     "solution": false,
     "task": false
    }
   },
   "source": [
    "## Discuss Your Plot\n",
    "\n",
    "In the Markdown cell below, answer the following questions using any kind of Markdown list.\n",
    "\n",
    "1. Compare the patterns of the monthly medians of mean maximum temperatures at the Sonoma County Airport and San Diego area.\n",
    "2. This data are summarized monthly across 1999-2018. \n",
    "    * How could you modify this plot to determine whether maximum temperatures have been increasing over time in these locations?\n",
    "    * How would you organize the plot to highlight changes over time?\n",
    "\n",
    "Remove any existing text in the cell before adding your answer."
   ]
  },
  {
   "cell_type": "markdown",
   "metadata": {
    "deletable": false,
    "nbgrader": {
     "cell_type": "markdown",
     "checksum": "df8102f3aed5c9b3f6389d829d749f00",
     "grade": true,
     "grade_id": "cell-e5b21fde84e3e84e",
     "locked": false,
     "points": 12,
     "schema_version": 3,
     "solution": true,
     "task": false
    }
   },
   "source": [
    "1. In both geographical areas, median of mean maximum temperature (MMMT) peaks in August. The MMMT at the Sonoma County Airport is consistently elevated, around 28 degrees Celsius, from June To Spetember. The MMMT in the San Diego area does not have a flattened profile during the summer months indicating a greater variation **in this season**. The low temperatures in December and January are likewise higher in the San Diego area than the Sonoma County Airport. Taken together, the MMMT show less variability in the San Diego area, with less of a difference between summer and winter months.\n",
    "\n",
    "2. To determine change over time we could find the median across all years using ```np.median(data, axis=1)```. To simplify the resulting figure, we could select only the data for the hottest month per year by finding the maximum temp per row and then plotting those values across all years."
   ]
  },
  {
   "cell_type": "markdown",
   "metadata": {
    "deletable": false,
    "editable": false,
    "nbgrader": {
     "cell_type": "markdown",
     "checksum": "c50b7f7902e98c0460e2ad5d0a0be740",
     "grade": false,
     "grade_id": "cell-67eddb56cb4a84b9",
     "locked": true,
     "schema_version": 3,
     "solution": false,
     "task": false
    }
   },
   "source": [
    "## Practice Pseudo-coding\n",
    "\n",
    "In the Markdown cell below, answer the following questions using any kind of Markdown list.\n",
    "\n",
    "Practice pseudo-coding - you wrote a function to calculate the median along axis of numpy array and convert the temperature values. \n",
    "* How can you expand on this function to **calculate other summary statistics (such as minimum, maximum, mean, and sum) based on the input provided** by a user of the function?\n",
    "    * What components would the function need that it doesn't have already?\n",
    "    * Where in the existing function would you place the new code and why?\n",
    "\n",
    "Note: you do not need to write new code to address these questions, but rather explain the process to achieve the outcome. \n",
    "\n",
    "Remove any existing text in the cell before adding your answer."
   ]
  },
  {
   "cell_type": "markdown",
   "metadata": {
    "deletable": false,
    "nbgrader": {
     "cell_type": "markdown",
     "checksum": "1dd9f36660ca5c57d1a6bf483f54c982",
     "grade": true,
     "grade_id": "cell-d7456c30def5b3b3",
     "locked": false,
     "points": 0,
     "schema_version": 3,
     "solution": true,
     "task": false
    }
   },
   "source": [
    "- The function would need to allow for user input to specify which calculation to perform. This would look like, in the function definition, ```def my_function(in_array, stat_type=None, calc_type=None):``` where the user would have to specify calc_type as \"max\", \"min\", \"mean\", \"sum\", or \"median\".\n",
    "\n",
    "- The code for min, max, mean,median, and sum would be placed in an if/then loop that first checks to see what type of calculation is specified by the user. Then each if/elif statement would have to check for the axis to calculate on in nested if statements. After all of this, we would convert the values to C (since fewer numbers are returned than are present in the original arrays). A nested if code block for this function would look like:\n",
    "\n",
    "```if stat_type=\"minimum\":\n",
    "        if calc_type is not None:\n",
    "            out_array = np.minimum(array, axis=calc_type)\n",
    "        else:\n",
    "            out_array=np.minimum(array)\n",
    "```   "
   ]
  },
  {
   "cell_type": "code",
   "execution_count": null,
   "metadata": {
    "deletable": false,
    "editable": false,
    "nbgrader": {
     "cell_type": "code",
     "checksum": "ed98cac854d5222f06e8047361ccc8e1",
     "grade": true,
     "grade_id": "cell-8ad798858d89ee05",
     "locked": true,
     "points": 14,
     "schema_version": 3,
     "solution": false,
     "task": false
    }
   },
   "outputs": [],
   "source": []
  }
 ],
 "metadata": {
  "kernelspec": {
   "display_name": "Python 3",
   "language": "python",
   "name": "python3"
  },
  "language_info": {
   "codemirror_mode": {
    "name": "ipython",
    "version": 3
   },
   "file_extension": ".py",
   "mimetype": "text/x-python",
   "name": "python",
   "nbconvert_exporter": "python",
   "pygments_lexer": "ipython3",
   "version": "3.7.3"
  },
  "varInspector": {
   "cols": {
    "lenName": 16,
    "lenType": 16,
    "lenVar": 40
   },
   "kernels_config": {
    "python": {
     "delete_cmd_postfix": "",
     "delete_cmd_prefix": "del ",
     "library": "var_list.py",
     "varRefreshCmd": "print(var_dic_list())"
    },
    "r": {
     "delete_cmd_postfix": ") ",
     "delete_cmd_prefix": "rm(",
     "library": "var_list.r",
     "varRefreshCmd": "cat(var_dic_list()) "
    }
   },
   "types_to_exclude": [
    "module",
    "function",
    "builtin_function_or_method",
    "instance",
    "_Feature"
   ],
   "window_display": false
  }
 },
 "nbformat": 4,
 "nbformat_minor": 2
}
