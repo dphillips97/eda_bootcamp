{
 "cells": [
  {
   "cell_type": "markdown",
   "metadata": {},
   "source": [
    "Before you turn this problem in, make sure everything runs as expected. First, **restart the kernel** (in the menubar, select Kernel$\\rightarrow$Restart) and then **run all cells** (in the menubar, select Cell$\\rightarrow$Run All).\n",
    "\n",
    "Make sure you fill in any place that says `YOUR CODE HERE` or \"YOUR ANSWER HERE\", as well as your name and collaborators below:"
   ]
  },
  {
   "cell_type": "code",
   "execution_count": 1,
   "metadata": {},
   "outputs": [],
   "source": [
    "NAME = \"Drew Phillips\"\n",
    "COLLABORATORS = \"\""
   ]
  },
  {
   "cell_type": "markdown",
   "metadata": {},
   "source": [
    "---"
   ]
  },
  {
   "cell_type": "markdown",
   "metadata": {
    "deletable": false,
    "editable": false,
    "nbgrader": {
     "cell_type": "markdown",
     "checksum": "8115d981c69746150727eb6228c8d5a7",
     "grade": false,
     "grade_id": "header-logo",
     "locked": true,
     "schema_version": 3,
     "solution": false
    }
   },
   "source": [
    "<img style=\"float: left;\" src=\"earth-lab-logo-rgb.png\" width=\"150\" height=\"150\" />\n",
    "\n",
    "# Earth Analytics Education"
   ]
  },
  {
   "cell_type": "markdown",
   "metadata": {
    "deletable": false,
    "editable": false,
    "nbgrader": {
     "cell_type": "markdown",
     "checksum": "af2ae09ccff0c59fa2f0b619624f5366",
     "grade": false,
     "grade_id": "hw-instructions",
     "locked": true,
     "schema_version": 3,
     "solution": false
    }
   },
   "source": [
    "# Week 10 Homework Template\n",
    "\n",
    "To complete assignment 10, be sure you have reviewed Chaps 17-18 in Section 7 of the <a href=\"https://www.earthdatascience.org/courses/intro-to-earth-data-science/\" target=\"_blank\">Intro to Earth Data Science online textbook</a> online textbook, which conditional statements and loops in **Python**.   \n",
    "\n",
    "Read the instructions for each question carefully to successfully complete the required tasks.\n",
    "\n",
    "**Request for the autograding tool that we are building:** please do not rename the notebook file. We are working on the tool to allow renamed notebooks, but for now, please leave the notebook name as `ea-bootcamp-10-conditionals-loops.ipynb`.\n",
    "\n",
    "\n",
    "## Adherence to PEP 8 \n",
    "\n",
    "Be sure to use clear and succinct names for variables, etc, and to organize your code to support readability.\n",
    "\n",
    "You will also be graded on adherence to PEP 8 standards including length of code lines and the appropriate use of comments and white space.\n",
    "\n",
    "Thus, be sure to add comments throughout your code (note that there are no pre-populated comments in this notebook), and use the `autopep8` tool to help you implement some of the PEP 8 standards. \n",
    "\n",
    "You can review the <a href=\"https://www.earthdatascience.org/courses/intro-to-earth-data-science/write-clean-expressive-code/intro-to-clean-code/python-pep-8-style-guide/\" target=\"_blank\">online textbook page on PEP 8 </a> as needed.\n",
    "\n",
    "\n",
    "## Assignment Data\n",
    "\n",
    "For this assignment, you will write **Python** code to download and work with data on fire occurrence in California between 1992 and 2015 provided by <a href=\"https://www.fs.usda.gov/rds/archive/Product/RDS-2013-0009.4/\" target=\"_blank\">the United States Forest Service</a>."
   ]
  },
  {
   "cell_type": "code",
   "execution_count": 2,
   "metadata": {
    "deletable": false,
    "editable": false,
    "nbgrader": {
     "cell_type": "code",
     "checksum": "9406b5deaded509d2159b7ec9d14fa69",
     "grade": false,
     "grade_id": "core-imports",
     "locked": true,
     "schema_version": 3,
     "solution": false
    }
   },
   "outputs": [],
   "source": [
    "# Core imports needed for grading\n",
    "import matplotcheck.notebook as nb\n",
    "import matplotcheck.timeseries as ts"
   ]
  },
  {
   "cell_type": "markdown",
   "metadata": {
    "deletable": false,
    "editable": false,
    "nbgrader": {
     "cell_type": "markdown",
     "checksum": "293a548546f86b2af69ab8b32559b610",
     "grade": false,
     "grade_id": "question-student-imports",
     "locked": true,
     "schema_version": 3,
     "solution": false
    }
   },
   "source": [
    "## Import Python Packages\n",
    "\n",
    "In the cell below, add code **after the line for `Your Code Here`**, replacing `raise NotImplementedError()` with your code to import the packages/modules needed to:\n",
    "* create plots \n",
    "* set your working directory\n",
    "* download data using earthpy functions\n",
    "* work with numpy arrays\n",
    "\n",
    "Be sure to list the package imports following the appropriate PEP 8 order. "
   ]
  },
  {
   "cell_type": "code",
   "execution_count": 3,
   "metadata": {
    "deletable": false,
    "nbgrader": {
     "cell_type": "code",
     "checksum": "e487e16c8f967f9098581407ce4bca96",
     "grade": true,
     "grade_id": "student-imports-answer",
     "locked": false,
     "points": 2,
     "schema_version": 3,
     "solution": true
    }
   },
   "outputs": [],
   "source": [
    "import os\n",
    "import numpy as np\n",
    "import pandas as pd\n",
    "import matplotlib.pyplot as plt\n",
    "import earthpy as et"
   ]
  },
  {
   "cell_type": "markdown",
   "metadata": {
    "deletable": false,
    "editable": false,
    "nbgrader": {
     "cell_type": "markdown",
     "checksum": "ae17f1f4422e288a47e7b0f83ade5fa4",
     "grade": false,
     "grade_id": "question-download-data",
     "locked": true,
     "schema_version": 3,
     "solution": false,
     "task": false
    }
   },
   "source": [
    "## Download Data Using EarthPy\n",
    "\n",
    "In the cell below, add code **after the line for `Your Code Here`**, replacing `raise NotImplementedError()` with your code, to complete the following task:\n",
    "\n",
    "* **Use a loop to download the following datasets using earthpy**: \n",
    "    * ca-fires-monthly-count-1992-to-2015.csv from https://ndownloader.figshare.com/files/18296579\n",
    "        * The dataset contains the total number of fires (greater than 100 acres) that occurred in each month and year in California between 1992 and 2015. The data are organized with a row for each year (in order from 1992 to 2015) and a column for each month (in order from January through December). Note that this .csv file has no column headers. \n",
    "    * ca-fires-monthly-mean-size-1992-to-2015.csv from https://ndownloader.figshare.com/files/18301541\n",
    "        * The dataset contains the mean fire size (of all fires greater than 100 acres) for each month and year in California between 1992 and 2015. The data are organized with a row for each year (in order from 1992 to 2015) and a column for each month (in order from January through December). Note that this .csv file has no column headers. "
   ]
  },
  {
   "cell_type": "code",
   "execution_count": 4,
   "metadata": {
    "deletable": false,
    "nbgrader": {
     "cell_type": "code",
     "checksum": "b85190dc7bb17a05a83267b6276796a3",
     "grade": true,
     "grade_id": "student-download-data-answer",
     "locked": false,
     "points": 2,
     "schema_version": 3,
     "solution": true,
     "task": false
    }
   },
   "outputs": [],
   "source": [
    "# Set urls in a list\n",
    "urls = [r'https://ndownloader.figshare.com/files/18296579',\n",
    "        r'https://ndownloader.figshare.com/files/18301541']\n",
    "\n",
    "# Iterate over list to download data\n",
    "for url in urls:\n",
    "    et.data.get_data(url=url)"
   ]
  },
  {
   "cell_type": "markdown",
   "metadata": {
    "deletable": false,
    "editable": false,
    "nbgrader": {
     "cell_type": "markdown",
     "checksum": "3a5f8fed0618175049294a6f4d5ac4f9",
     "grade": false,
     "grade_id": "question-set-wd",
     "locked": true,
     "schema_version": 3,
     "solution": false,
     "task": false
    }
   },
   "source": [
    "## Set Working Directory\n",
    "\n",
    "In the cell below, add code **after the line for `Your Code Here`**, replacing `raise NotImplementedError()` with your code, to complete the following task:\n",
    "\n",
    "* **Use a conditional statement** to:\n",
    "    * Set the working directory to **your `earth-analytics` directory in your home directory** if the path exists.\n",
    "    * Print a helpful message if the path does not exist. \n",
    "\n",
    "Aim to reduce repetition in your code with reusable variables. \n",
    "\n",
    "Be sure to use the appropriate functions that will allow your code to run successfully on any operating system."
   ]
  },
  {
   "cell_type": "code",
   "execution_count": 5,
   "metadata": {
    "deletable": false,
    "nbgrader": {
     "cell_type": "code",
     "checksum": "93038c07f29e4482f88a8310b6244ac3",
     "grade": true,
     "grade_id": "student-set-wd-answer",
     "locked": false,
     "points": 2,
     "schema_version": 3,
     "solution": true,
     "task": false
    }
   },
   "outputs": [
    {
     "name": "stdout",
     "output_type": "stream",
     "text": [
      "Path changed to C:\\Users\\dphil\\earth-analytics\n"
     ]
    }
   ],
   "source": [
    "# Create path to directory\n",
    "dir_path = os.path.join(et.io.HOME, \"earth-analytics\")\n",
    "\n",
    "# Loop to check if path exists\n",
    "# If yes, change to that path\n",
    "if os.path.exists(dir_path):\n",
    "    os.chdir(dir_path)\n",
    "    print(f\"Path changed to {dir_path}\")\n",
    "\n",
    "else:\n",
    "    print(\"Error: path does not exist.\")"
   ]
  },
  {
   "cell_type": "markdown",
   "metadata": {
    "deletable": false,
    "editable": false,
    "nbgrader": {
     "cell_type": "markdown",
     "checksum": "fe05a1b2576e3ea4afd956ee4d64e2b9",
     "grade": false,
     "grade_id": "question-import-data",
     "locked": true,
     "schema_version": 3,
     "solution": false,
     "task": false
    }
   },
   "source": [
    "## Import Data\n",
    "\n",
    "In the cell below, add your code **after the line for `Your Code Here`**, replacing `raise NotImplementedError()` with your code, to complete the following task:\n",
    "\n",
    "* Import the .csv files into **numpy** arrays using relative paths.\n",
    "\n",
    "Be sure to assign appropriate names that clearly convey what is contain within each object (data structure). \n",
    "\n",
    "Be sure to use the appropriate functions that will allow your code to run successfully on any operating system."
   ]
  },
  {
   "cell_type": "code",
   "execution_count": 6,
   "metadata": {
    "deletable": false,
    "nbgrader": {
     "cell_type": "code",
     "checksum": "6c7ceb2b316b9f26861c3b4db32673ef",
     "grade": true,
     "grade_id": "student-import-data-answer",
     "locked": false,
     "points": 8,
     "schema_version": 3,
     "solution": true,
     "task": false
    }
   },
   "outputs": [],
   "source": [
    "# Create path to fire count data\n",
    "fire_count_path = os.path.join(dir_path, \"data\", \n",
    "                               \"earthpy-downloads\", \n",
    "                               \"ca-fires-monthly-count-1992-to-2015.csv\")\n",
    "\n",
    "# Create path to fire size data\n",
    "fire_size_path = os.path.join(dir_path, \"data\", \n",
    "                              \"earthpy-downloads\", \n",
    "                              \"ca-fires-monthly-mean-size-1992-to-2015.csv\")\n",
    "\n",
    "# Create array from fire count data\n",
    "fire_count_array = np.loadtxt(fire_count_path, \n",
    "                              delimiter=\",\")\n",
    "\n",
    "# Create array from fire size data\n",
    "fire_size_array = np.loadtxt(fire_size_path, \n",
    "                             delimiter=\",\")"
   ]
  },
  {
   "cell_type": "markdown",
   "metadata": {
    "deletable": false,
    "editable": false,
    "nbgrader": {
     "cell_type": "markdown",
     "checksum": "cbd607745b212f076fa0484cb81bc3bc",
     "grade": false,
     "grade_id": "cell-1f5b560a0831556a",
     "locked": true,
     "schema_version": 3,
     "solution": false,
     "task": false
    }
   },
   "source": [
    "## Calculate Yearly Mean Values for Fire Count and Size\n",
    "\n",
    "In the cell below, add code **after the line for `Your Code Here`**, replacing `raise NotImplementedError()` with your code, to complete the following task:\n",
    "\n",
    "* **Use a loop** to:\n",
    "    * Calculate and print the mean fire count for each year (i.e. across all months of data).\n",
    "    * Calculate and print the mean fire size for each year (i.e. across all months of data).\n",
    "    \n",
    "**Note: you do not need to save the results of these calculations.** You are asked to simply display the results.\n",
    "    \n",
    "Hint: review the use of axis to calculate summary statistics. Think about how these **numpy** arrays are structured."
   ]
  },
  {
   "cell_type": "code",
   "execution_count": 7,
   "metadata": {
    "deletable": false,
    "nbgrader": {
     "cell_type": "code",
     "checksum": "dd1b2f8a664d5775c7f60d505a8316f4",
     "grade": true,
     "grade_id": "cell-208c062fbaf44679",
     "locked": false,
     "points": 0,
     "schema_version": 3,
     "solution": true,
     "task": false
    }
   },
   "outputs": [
    {
     "name": "stdout",
     "output_type": "stream",
     "text": [
      "19.75\n",
      "15.583333333333334\n",
      "16.75\n",
      "15.75\n",
      "27.75\n",
      "11.916666666666666\n",
      "11.25\n",
      "18.25\n",
      "9.416666666666666\n",
      "12.416666666666666\n",
      "13.916666666666666\n",
      "17.5\n",
      "12.25\n",
      "14.25\n",
      "19.583333333333332\n",
      "13.333333333333334\n",
      "23.416666666666668\n",
      "10.0\n",
      "7.833333333333333\n",
      "11.583333333333334\n",
      "10.583333333333334\n",
      "10.166666666666666\n",
      "7.5\n",
      "11.0\n",
      "\n",
      "\n",
      "\n",
      "761.6666666666666\n",
      "1221.0341666666666\n",
      "984.7791666666666\n",
      "568.8191666666667\n",
      "1443.175\n",
      "1496.55\n",
      "575.8225\n",
      "1929.3208333333334\n",
      "964.9225\n",
      "1723.445\n",
      "1638.2208333333335\n",
      "4446.044166666667\n",
      "1546.5575000000001\n",
      "762.0666666666666\n",
      "3337.6366666666668\n",
      "4097.765\n",
      "2810.3958333333335\n",
      "1447.6716666666664\n",
      "521.5091666666666\n",
      "712.1058333333332\n",
      "1926.054166666666\n",
      "1956.3358333333333\n",
      "2946.4024999999997\n",
      "3231.3116666666665\n"
     ]
    }
   ],
   "source": [
    "# Print yearly average of fire counts\n",
    "for avg_count in fire_count_array.mean(axis=1):\n",
    "    print(avg_count)\n",
    "\n",
    "# Add a few lines of space\n",
    "print(\"\\n\\n\")\n",
    "\n",
    "# Print yearly average of fire size\n",
    "for avg_size in fire_size_array.mean(axis=1):\n",
    "    print(avg_size)"
   ]
  },
  {
   "cell_type": "markdown",
   "metadata": {
    "deletable": false,
    "editable": false,
    "nbgrader": {
     "cell_type": "markdown",
     "checksum": "e54509d5d66fdd87410ac359ab26421d",
     "grade": false,
     "grade_id": "cell-d588e2e609198cc7",
     "locked": true,
     "schema_version": 3,
     "solution": false,
     "task": false
    }
   },
   "source": [
    "## Calculate Monthly Mean Values for Fire Count\n",
    "\n",
    "In the cell below, add code **after the line for `Your Code Here`**, replacing `raise NotImplementedError()` with your code, to complete the following tasks:\n",
    "\n",
    "1. Calculate the mean fire count for each month (i.e. across all years of data) and save the result to a new **numpy** array.\n",
    "2. Print the shape of the new **numpy** array. \n",
    "    \n",
    "Hint: review the use of axis to calculate summary statistics. "
   ]
  },
  {
   "cell_type": "code",
   "execution_count": 8,
   "metadata": {
    "deletable": false,
    "nbgrader": {
     "cell_type": "code",
     "checksum": "8544f77368ac171f59c14f58ef35c513",
     "grade": true,
     "grade_id": "cell-d9da6dbbfced7c0b",
     "locked": false,
     "points": 0,
     "schema_version": 3,
     "solution": true,
     "task": false
    }
   },
   "outputs": [
    {
     "data": {
      "text/plain": [
       "(12,)"
      ]
     },
     "execution_count": 8,
     "metadata": {},
     "output_type": "execute_result"
    }
   ],
   "source": [
    "# Create new array from monthly count mean \n",
    "monthly_mean_count = np.mean(fire_count_array, axis=0)\n",
    "\n",
    "# Print shape of new array\n",
    "monthly_mean_count.shape"
   ]
  },
  {
   "cell_type": "markdown",
   "metadata": {
    "deletable": false,
    "editable": false,
    "nbgrader": {
     "cell_type": "markdown",
     "checksum": "a13e81969d53884c55f7307187bf6382",
     "grade": false,
     "grade_id": "cell-bee04daffb68cd1d",
     "locked": true,
     "schema_version": 3,
     "solution": false,
     "task": false
    }
   },
   "source": [
    "## Calculate Monthly Mean Values for Fire Size\n",
    "\n",
    "In the cell below, add code **after the line for `Your Code Here`**, replacing `raise NotImplementedError()` with your code, to complete the following task:\n",
    "\n",
    "1. Calculate the mean fire size for each month (i.e. across all years of data) and save the result to a new **numpy** array.\n",
    "2. Print the shape of the new **numpy** array. \n",
    "    \n",
    "Hint: review the use of axis to calculate summary statistics.   "
   ]
  },
  {
   "cell_type": "code",
   "execution_count": 9,
   "metadata": {
    "deletable": false,
    "nbgrader": {
     "cell_type": "code",
     "checksum": "432bd29da31dc5a27a4e97d2d3c0f530",
     "grade": true,
     "grade_id": "cell-c00d477c563d6f24",
     "locked": false,
     "points": 0,
     "schema_version": 3,
     "solution": true,
     "task": false
    }
   },
   "outputs": [
    {
     "data": {
      "text/plain": [
       "(12,)"
      ]
     },
     "execution_count": 9,
     "metadata": {},
     "output_type": "execute_result"
    }
   ],
   "source": [
    "# Create new array from monthly size mean \n",
    "monthly_mean_size = np.mean(fire_size_array, axis=0)\n",
    "\n",
    "# Print shape of this array\n",
    "monthly_mean_size.shape"
   ]
  },
  {
   "cell_type": "markdown",
   "metadata": {
    "deletable": false,
    "editable": false,
    "nbgrader": {
     "cell_type": "markdown",
     "checksum": "31aa836d0e302efb4b927106e193570c",
     "grade": false,
     "grade_id": "cell-a6794af1da050cf9",
     "locked": true,
     "schema_version": 3,
     "solution": false,
     "task": false
    }
   },
   "source": [
    "## Create Month Names and Check Length For Plotting\n",
    "\n",
    "In the cell below, add code **after the line for `Your Code Here`**, replacing `raise NotImplementedError()` with your code, to complete the following tasks:\n",
    "\n",
    "1. Manually create a **numpy** array that contains abbreviated month names.\n",
    "2. Use one conditional statement to:\n",
    "    * Check that the array with month names can be plotted with **both** of the summary arrays: monthly mean count and monthly mean size.\n",
    "    * Print a message indicating **whether or not both** of the summary arrays (monthly mean count and monthly mean size) can be plotted with the array of month names.  \n",
    "\n",
    "It can help to review how to manually define a **numpy** array and how to identify whether **numpy** arrays can be plotted together - what characteristic do they need to share? "
   ]
  },
  {
   "cell_type": "code",
   "execution_count": 10,
   "metadata": {
    "deletable": false,
    "nbgrader": {
     "cell_type": "code",
     "checksum": "fcb3ba7379590b3550be0cecc40907a5",
     "grade": true,
     "grade_id": "student-create-month-names",
     "locked": false,
     "points": 2,
     "schema_version": 3,
     "solution": true,
     "task": false
    }
   },
   "outputs": [
    {
     "name": "stdout",
     "output_type": "stream",
     "text": [
      "All arrays can be plotted!\n"
     ]
    }
   ],
   "source": [
    "# Create array of month abbrevs\n",
    "months_array = [\"Jan\", \"Feb\", \"Mar\", \"Apr\", \n",
    "                \"May\", \"Jun\", \"Jul\", \"Aug\", \n",
    "                \"Sep\", \"Oct\", \"Nov\", \"Dec\"]\n",
    "\n",
    "# Test if length of months array (12) equals\n",
    "# length of data arrays and print message\n",
    "\n",
    "if len(months_array) == len(monthly_mean_size):\n",
    "    \n",
    "    if len(months_array) == len(monthly_mean_count):\n",
    "        print(\"All arrays can be plotted!\")\n",
    "\n",
    "else:\n",
    "    print(\"All arrays cannot be plotted.\\nCheck data!\")"
   ]
  },
  {
   "cell_type": "markdown",
   "metadata": {
    "deletable": false,
    "editable": false,
    "nbgrader": {
     "cell_type": "markdown",
     "checksum": "5c79eb217b44bd637aaf3ca2ecb17a90",
     "grade": false,
     "grade_id": "question-plot",
     "locked": true,
     "schema_version": 3,
     "solution": false
    }
   },
   "source": [
    "## Figure of Fire Season in California\n",
    "\n",
    "Imagine that you have been asked to provide a figure for the general public on the fire season (i.e. the range of time within a year in which fire is most likely to occur) in California.\n",
    "\n",
    "In the cell below, add code **after the line for `Your Code Here`**, replacing `raise NotImplementedError()` with your code, to complete the following task:\n",
    "\n",
    "* Create one multi-plot figure that contains two subplots that are **side by side**:\n",
    "    * **left** plot: mean of **fire count** for each month\n",
    "    * **right** plot: mean of **fire size** for each month\n",
    "* **Use a different color for each plot but you can use the same style if you like.** \n",
    "    * For each plot, be sure to include appropriate titles and axes labels including units of measurement where appropriate. \n",
    "* Add an overall title for the entire figure. \n",
    "\n",
    "For your title and labels, be sure to think about the following pieces of information that could help someone easily interpret the plot:\n",
    "* geographic coverage or extent of data.\n",
    "* duration or temporal extent of the data.\n",
    "* what was actually measured and/or represented by the data.\n",
    "* units of measurement.\n",
    "\n",
    "**Request for the autograding tool that we are building:** please comment out the code line `plt.show()` in your plot code like this: `# plt.show()`. If you do not comment out that code line, you may see an extra empty plot underneath your desired figure. "
   ]
  },
  {
   "cell_type": "code",
   "execution_count": 16,
   "metadata": {
    "deletable": false,
    "nbgrader": {
     "cell_type": "code",
     "checksum": "b8c7dfb6b86657cc21220b5e9aa08df9",
     "grade": false,
     "grade_id": "student-create-plot-1-answer",
     "locked": false,
     "schema_version": 3,
     "solution": true,
     "task": false
    }
   },
   "outputs": [
    {
     "data": {
      "image/png": "[encoded data removed]",
      "text/plain": [
       "<Figure size 720x432 with 2 Axes>"
      ]
     },
     "metadata": {
      "needs_background": "light"
     },
     "output_type": "display_data"
    }
   ],
   "source": [
    "# Create figure and 2 side-by-side (sub)plots\n",
    "fig, (ax1, ax2) = plt.subplots(1,2, figsize=(10,6))\n",
    "\n",
    "# Create supertitle, break into 2 code lines\n",
    "fig.suptitle(\"Fire Season in California, USA from \" +\n",
    "             \"1992 to 2015: Wildfires Over 100 Acres\")\n",
    "\n",
    "# For fire count plot\n",
    "ax1.bar(months_array, \n",
    "        monthly_mean_count, \n",
    "        color=\"darkorange\")\n",
    "\n",
    "ax1.set(title=\"Mean Fire Count by Month\",\n",
    "        xlabel=\"Month\",\n",
    "        ylabel=\"Number of Fires\")\n",
    "\n",
    "# For Fire Size\n",
    "ax2.bar(months_array,\n",
    "        monthly_mean_size,\n",
    "        color=\"yellow\")\n",
    "\n",
    "ax2.set(title=\"Mean Fire Size by Month\",\n",
    "        xlabel=\"Month\",\n",
    "        ylabel=\"Fire Size (acres)\")\n",
    "\n",
    "\n",
    "### DO NOT REMOVE LINE BELOW ###\n",
    "ts_1_plot = nb.convert_axes(plt, which_axes=\"all\")"
   ]
  },
  {
   "cell_type": "markdown",
   "metadata": {
    "deletable": false,
    "editable": false,
    "nbgrader": {
     "cell_type": "markdown",
     "checksum": "b3910d8820be62835a29f847a171475d",
     "grade": false,
     "grade_id": "question-explain-pep-8",
     "locked": true,
     "schema_version": 3,
     "solution": false,
     "task": false
    }
   },
   "source": [
    "## Discuss Your Plot\n",
    "\n",
    "In the Markdown cell below, answer the following questions using any kind of Markdown list.\n",
    "\n",
    "1. To create this figure, why were you asked to use the means for each month, rather than the means for each year? \n",
    "2. What does each plot reveal about the fire season in California, based on the data from 1992 to 2015? \n",
    "\n",
    "Remove any existing text in the cell before adding your answer."
   ]
  },
  {
   "cell_type": "markdown",
   "metadata": {
    "deletable": false,
    "nbgrader": {
     "cell_type": "markdown",
     "checksum": "df8102f3aed5c9b3f6389d829d749f00",
     "grade": true,
     "grade_id": "cell-e5b21fde84e3e84e",
     "locked": false,
     "points": 12,
     "schema_version": 3,
     "solution": true,
     "task": false
    }
   },
   "source": [
    "- We are interested in communicating fire data based on the time range in a year rather than across all years. With these graphs we can show how fire counts and size change based on the month. We could even group the months according to seasons.\n",
    "- The first plot shows that fires over 100 acres in size peak in July and have high values in the summer months, with a somewhat Normal distribution. The second plot shows that fire size has a different correlation with the summer months compared to fire count. The largest fires occur in October with elevated values from July to October. The local maximum around February would be intersting for future research (is it stat. significant and if so what are some characteristics of the Feb. fires?)"
   ]
  },
  {
   "cell_type": "markdown",
   "metadata": {
    "deletable": false,
    "editable": false,
    "nbgrader": {
     "cell_type": "markdown",
     "checksum": "ae6b4dd8f0f3475c4f46bed28c59c95a",
     "grade": false,
     "grade_id": "cell-62684fb141b432a2",
     "locked": true,
     "schema_version": 3,
     "solution": false,
     "task": false
    }
   },
   "source": [
    "## Discuss Your Workflow\n",
    "\n",
    "In the Markdown cell below, answer the following questions using any kind of Markdown list.\n",
    "\n",
    "1. In this notebook, you were asked to use a loop to download data. \n",
    "    * Why were you not asked to use a loop to import data into the **numpy** arrays? \n",
    "    * What would you have to know how to do?\n",
    "2. Practice a little pseudo-coding: you have a conditional statement to check whether or not the arrays can be plotted and you have plot code that produces a figure with two subplots.  \n",
    "    * How could you combine these code blocks to create each subplot based on the result of the corresponding conditional statement (i.e. check that each set of arrays can be plotted together before creating the subplot)? \n",
    "\n",
    "Note: you do not need to write new code to address these questions, but rather explain the process to achieve the outcome. \n",
    "\n",
    "Remove any existing text in the cell before adding your answer."
   ]
  },
  {
   "cell_type": "markdown",
   "metadata": {
    "deletable": false,
    "nbgrader": {
     "cell_type": "markdown",
     "checksum": "0d21fdcebd124cde99f2dcfa4b27dbf6",
     "grade": true,
     "grade_id": "student-explain-pep-8",
     "locked": false,
     "points": 8,
     "schema_version": 3,
     "solution": true,
     "task": false
    }
   },
   "source": [
    "1. To import data into numpy arrays via a loop I would have to know how to change the name that is assigned to each array. Basically, I would have to perform a double simultaneous loop with:\n",
    " - one list set to the paths to the datasets and \n",
    " - the other list set to the names that I want to assign to these arrays. \n",
    "\n",
    "I think you can do this with dicts or maybe with global()? It would be really cool to learn this!\n",
    "\n",
    "2. Wrap the plotting function into a nested if statement. This structure works like an \"or\" gate to ensure that both plots are created if possible.\n",
    "\n",
    "```\n",
    "if len(months_array) == len(fire_size_mean):\n",
    "    plt.bar(months, fire_size_mean)\n",
    "    \n",
    "elif len(months_array) == len(fire_count_mean):\n",
    "    plt.bar(months, fire_count_mean)\n",
    "\n",
    "elif len(months_array) == len(fire_count_mean) and len(months_array) == len(fire_size_mean:\n",
    "    plt.bar(months, fire_count_mean)\n",
    "    \n",
    "else:\n",
    "    print(\"Nothing can be plotted\")\n",
    "\n",
    "```"
   ]
  },
  {
   "cell_type": "code",
   "execution_count": null,
   "metadata": {
    "deletable": false,
    "editable": false,
    "nbgrader": {
     "cell_type": "code",
     "checksum": "ed98cac854d5222f06e8047361ccc8e1",
     "grade": true,
     "grade_id": "cell-8ad798858d89ee05",
     "locked": true,
     "points": 14,
     "schema_version": 3,
     "solution": false,
     "task": false
    }
   },
   "outputs": [],
   "source": []
  }
 ],
 "metadata": {
  "kernelspec": {
   "display_name": "Python 3",
   "language": "python",
   "name": "python3"
  },
  "language_info": {
   "codemirror_mode": {
    "name": "ipython",
    "version": 3
   },
   "file_extension": ".py",
   "mimetype": "text/x-python",
   "name": "python",
   "nbconvert_exporter": "python",
   "pygments_lexer": "ipython3",
   "version": "3.7.3"
  },
  "varInspector": {
   "cols": {
    "lenName": 16,
    "lenType": 16,
    "lenVar": 40
   },
   "kernels_config": {
    "python": {
     "delete_cmd_postfix": "",
     "delete_cmd_prefix": "del ",
     "library": "var_list.py",
     "varRefreshCmd": "print(var_dic_list())"
    },
    "r": {
     "delete_cmd_postfix": ") ",
     "delete_cmd_prefix": "rm(",
     "library": "var_list.r",
     "varRefreshCmd": "cat(var_dic_list()) "
    }
   },
   "types_to_exclude": [
    "module",
    "function",
    "builtin_function_or_method",
    "instance",
    "_Feature"
   ],
   "window_display": false
  }
 },
 "nbformat": 4,
 "nbformat_minor": 2
}
